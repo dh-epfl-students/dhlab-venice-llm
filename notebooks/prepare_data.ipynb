{
 "cells": [
  {
   "cell_type": "code",
   "execution_count": 1,
   "metadata": {},
   "outputs": [],
   "source": [
    "import numpy as np\n",
    "import geopandas as gpd\n",
    "\n",
    "# Read the GeoJSON file\n",
    "catastici = gpd.read_file(\"../data/raw/20240221_Catastici1741_Intermediate.geojson\")"
   ]
  },
  {
   "cell_type": "markdown",
   "metadata": {},
   "source": [
    "# Filtering the dataset"
   ]
  },
  {
   "cell_type": "code",
   "execution_count": 2,
   "metadata": {},
   "outputs": [],
   "source": [
    "# filter the necessary datapoints\n",
    "catastici_ppl = catastici[(catastici['owner_code'] == 'PPL') & (catastici['owner_count']=='1')]\n",
    "catastici_ppl = catastici_ppl[['owner_first_name','owner_family_name','function','place','an_rendi']]"
   ]
  },
  {
   "cell_type": "code",
   "execution_count": 3,
   "metadata": {},
   "outputs": [],
   "source": [
    "# format the NaN values\n",
    "catastici_ppl.loc[catastici_ppl.owner_first_name=='', 'owner_first_name'] = np.nan\n",
    "catastici_ppl.loc[catastici_ppl['function']=='nan', 'function'] = np.nan\n",
    "catastici_ppl.loc[catastici_ppl['place']=='nan', 'place'] = np.nan\n",
    "catastici_ppl['an_rendi'] = [val + ' ducati' if val.isnumeric() else val for val in catastici_ppl['an_rendi']]\n",
    "catastici_ppl.loc[catastici_ppl['an_rendi']=='nan', 'an_rendi'] = '0'"
   ]
  },
  {
   "cell_type": "code",
   "execution_count": 5,
   "metadata": {},
   "outputs": [],
   "source": [
    "# rename the columns\n",
    "catastici_ppl.rename({\n",
    "    'owner_first_name':'Owner_First_Name',\n",
    "    'owner_family_name':'Owner_Family_Name',\n",
    "    'function':'Property_Type',\n",
    "    'place':'Property_Location',\n",
    "    'an_rendi':'Rent_Income'\n",
    "}, axis=1, inplace=True)\n",
    "catastici_ppl.to_csv(f'../data/clean/catastici.csv', index=False)"
   ]
  },
  {
   "cell_type": "markdown",
   "metadata": {},
   "source": [
    "# Creating QA pairs - train"
   ]
  },
  {
   "cell_type": "code",
   "execution_count": 19,
   "metadata": {},
   "outputs": [],
   "source": [
    "def create_questions(data):\n",
    "    questions = [\n",
    "        f\"What is the family name of {data['Owner_First_Name']} who owns {data['Property_Type']} in {data['Property_Location']}?\",\n",
    "        f\"How much does {data['Owner_First_Name']} {data['Owner_Family_Name']} earn from their property {data['Property_Type']} in {data['Property_Location']}?\",\n",
    "        f\"What type of property does {data['Owner_First_Name']} {data['Owner_Family_Name']} own in {data['Property_Location']}?\",\n",
    "        f\"Where is the property {data['Property_Type']} of {data['Owner_First_Name']} {data['Owner_Family_Name']} located?\",\n",
    "        f\"Who owns a property {data['Property_Type']} in {data['Property_Location']} with the family name of {data['Owner_Family_Name']}?\"\n",
    "    ]\n",
    "    return questions\n",
    "\n",
    "def create_answers(data):\n",
    "    answers = [\n",
    "        data['Owner_Family_Name'],\n",
    "        data['Rent_Income'],\n",
    "        data['Property_Type'],\n",
    "        data['Property_Location'],\n",
    "        data['Owner_First_Name']\n",
    "    ]\n",
    "    return answers\n",
    "\n",
    "# copy the filtered dataset\n",
    "data_raw = catastici_ppl.copy()\n",
    "\n",
    "# create QA pairs\n",
    "data_raw['question'] = data_raw.apply(lambda row: create_questions(row), axis=1)\n",
    "data_raw['answer'] = data_raw.apply(lambda row: create_answers(row), axis=1)\n",
    "data = data_raw.explode(['question', 'answer']).reset_index(drop=True)\n",
    "\n",
    "# save the data\n",
    "data[['question','answer']].to_csv(f'../data/train/train_qa.csv', index=False)"
   ]
  },
  {
   "cell_type": "markdown",
   "metadata": {},
   "source": [
    "# Test pairs"
   ]
  },
  {
   "cell_type": "code",
   "execution_count": 20,
   "metadata": {},
   "outputs": [],
   "source": [
    "import pandas as pd\n",
    "data = pd.read_csv('../data/train/train_qa.csv')"
   ]
  },
  {
   "cell_type": "code",
   "execution_count": 21,
   "metadata": {},
   "outputs": [],
   "source": [
    "# get the length of answer\n",
    "data['answer'] = data['answer'].fillna('')\n",
    "data['answer_len'] = data.apply(lambda row: len(row['answer'].split()), axis=1)\n",
    "data['char_len'] = data.apply(lambda row: len(row['answer']), axis=1)"
   ]
  },
  {
   "cell_type": "code",
   "execution_count": 22,
   "metadata": {},
   "outputs": [
    {
     "data": {
      "text/plain": [
       "<AxesSubplot:>"
      ]
     },
     "execution_count": 22,
     "metadata": {},
     "output_type": "execute_result"
    },
    {
     "data": {
      "image/png": "[encoded data removed]",
      "text/plain": [
       "<Figure size 640x480 with 1 Axes>"
      ]
     },
     "metadata": {},
     "output_type": "display_data"
    }
   ],
   "source": [
    "data['answer_len'].hist(bins=25)"
   ]
  },
  {
   "cell_type": "code",
   "execution_count": 23,
   "metadata": {},
   "outputs": [
    {
     "data": {
      "text/plain": [
       "<AxesSubplot:>"
      ]
     },
     "execution_count": 23,
     "metadata": {},
     "output_type": "execute_result"
    },
    {
     "data": {
      "image/png": "[encoded data removed]",
      "text/plain": [
       "<Figure size 640x480 with 1 Axes>"
      ]
     },
     "metadata": {},
     "output_type": "display_data"
    }
   ],
   "source": [
    "data['char_len'].hist(bins=100)"
   ]
  },
  {
   "cell_type": "code",
   "execution_count": 24,
   "metadata": {},
   "outputs": [],
   "source": [
    "seed = 42\n",
    "np.random.seed(seed)\n",
    "data = data[:100000]\n",
    "data_sample = data[(data['answer_len'] < 4) & (data['char_len'] < 20)].sample(1000)\n",
    "data_sample = data_sample[['question','answer']].reset_index(drop=True)\n",
    "data_sample.to_csv(f'../data/train/test_qa.csv', index=False)"
   ]
  },
  {
   "cell_type": "code",
   "execution_count": null,
   "metadata": {},
   "outputs": [],
   "source": []
  }
 ],
 "metadata": {
  "kernelspec": {
   "display_name": "venice_env",
   "language": "python",
   "name": "python3"
  },
  "language_info": {
   "codemirror_mode": {
    "name": "ipython",
    "version": 3
   },
   "file_extension": ".py",
   "mimetype": "text/x-python",
   "name": "python",
   "nbconvert_exporter": "python",
   "pygments_lexer": "ipython3",
   "version": "3.10.4"
  }
 },
 "nbformat": 4,
 "nbformat_minor": 2
}
