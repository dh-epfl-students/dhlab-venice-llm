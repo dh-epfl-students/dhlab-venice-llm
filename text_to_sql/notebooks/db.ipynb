{
 "cells": [
  {
   "cell_type": "code",
   "execution_count": null,
   "metadata": {},
   "outputs": [],
   "source": [
    "import pandas as pd\n",
    "data = pd.read_csv('../../data/clean/catastici.csv')\n",
    "\n",
    "values_sql = [(row['Owner_First_Name'], row['Owner_Family_Name'], row['Property_Type'], row['Rent_Income'], row['Property_Location']) for _,row in data.iterrows()]\n",
    "print(*values_sql, sep=',\\n')"
   ]
  },
  {
   "cell_type": "code",
   "execution_count": 1,
   "metadata": {},
   "outputs": [],
   "source": [
    "import pandas as pd\n",
    "data = pd.read_csv('../../data/clean/catastici.csv')\n",
    "data.to_csv('../../data/clean/catastici_del.csv',sep=';',index=False)   # temporary"
   ]
  },
  {
   "cell_type": "code",
   "execution_count": null,
   "metadata": {},
   "outputs": [],
   "source": []
  }
 ],
 "metadata": {
  "kernelspec": {
   "display_name": "venice_env",
   "language": "python",
   "name": "python3"
  },
  "language_info": {
   "codemirror_mode": {
    "name": "ipython",
    "version": 3
   },
   "file_extension": ".py",
   "mimetype": "text/x-python",
   "name": "python",
   "nbconvert_exporter": "python",
   "pygments_lexer": "ipython3",
   "version": "3.10.4"
  }
 },
 "nbformat": 4,
 "nbformat_minor": 2
}
