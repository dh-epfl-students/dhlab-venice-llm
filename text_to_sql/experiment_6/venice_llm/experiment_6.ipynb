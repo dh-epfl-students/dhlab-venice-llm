{
 "cells": [
  {
   "cell_type": "code",
   "execution_count": 18,
   "metadata": {},
   "outputs": [],
   "source": [
    "# ! pip install psycopg2-binary\n",
    "# ! pip install sqlparse"
   ]
  },
  {
   "cell_type": "code",
   "execution_count": 13,
   "metadata": {},
   "outputs": [],
   "source": [
    "# # Establish a connection to the PostgreSQL database\n",
    "# from langchain_community.utilities import SQLDatabase\n",
    "# import psycopg2\n",
    "# password='Jakh=J0hn0103'\n",
    "# # host='128.179.210.75'\n",
    "# host='192.168.0.66'\n",
    "# # host='10.251.0.127'\n",
    "# db='catastici'\n",
    "\n",
    "# conn = psycopg2.connect(\n",
    "#     host=host,\n",
    "#     port=5432,\n",
    "#     user='postgres',\n",
    "#     password=password,\n",
    "#     database=db\n",
    "# )\n",
    "\n",
    "# # Test the connection\n",
    "# cursor = conn.cursor()\n",
    "# cursor.execute(\"SELECT * FROM catastici LIMIT 1\")\n",
    "# rows = cursor.fetchall()\n",
    "# for row in rows:\n",
    "#     print(row)\n",
    "# conn.close()\n",
    "\n",
    "# # Setup database\n",
    "# db = SQLDatabase.from_uri(f\"postgresql+psycopg2://postgres:{password}@{host}:5432/{db}\")\n",
    "\n",
    "# # test DB\n",
    "# print(db.dialect)\n",
    "# print(db.get_usable_table_names())\n",
    "# db.run(\"SELECT * FROM catastici LIMIT 1;\")"
   ]
  },
  {
   "cell_type": "code",
   "execution_count": null,
   "metadata": {},
   "outputs": [],
   "source": [
    "\n",
    "\n"
   ]
  },
  {
   "cell_type": "code",
   "execution_count": 25,
   "metadata": {},
   "outputs": [
    {
     "name": "stdout",
     "output_type": "stream",
     "text": [
      "sqlite\n",
      "['catastici']\n"
     ]
    },
    {
     "data": {
      "text/plain": [
       "\"[(0, 3173, 'liberal', 'campi', 'casa e bottega da barbier', 70, 'campo vicino alla chiesa')]\""
      ]
     },
     "execution_count": 25,
     "metadata": {},
     "output_type": "execute_result"
    }
   ],
   "source": [
    "from langchain_community.utilities import SQLDatabase\n",
    "\n",
    "db = SQLDatabase.from_uri(\"sqlite:///catastici.db\")\n",
    "\n",
    "# test DB\n",
    "print(db.dialect)\n",
    "print(db.get_usable_table_names())\n",
    "db.run(\"SELECT * FROM catastici LIMIT 1;\")"
   ]
  },
  {
   "cell_type": "markdown",
   "metadata": {},
   "source": [
    "# Experiment"
   ]
  },
  {
   "cell_type": "code",
   "execution_count": 70,
   "metadata": {
    "scrolled": true
   },
   "outputs": [
    {
     "data": {
      "text/html": [
       "<div>\n",
       "<style scoped>\n",
       "    .dataframe tbody tr th:only-of-type {\n",
       "        vertical-align: middle;\n",
       "    }\n",
       "\n",
       "    .dataframe tbody tr th {\n",
       "        vertical-align: top;\n",
       "    }\n",
       "\n",
       "    .dataframe thead th {\n",
       "        text-align: right;\n",
       "    }\n",
       "</style>\n",
       "<table border=\"1\" class=\"dataframe\">\n",
       "  <thead>\n",
       "    <tr style=\"text-align: right;\">\n",
       "      <th></th>\n",
       "      <th>question_id</th>\n",
       "      <th>level_len</th>\n",
       "      <th>level_nest</th>\n",
       "      <th>question</th>\n",
       "      <th>true_query</th>\n",
       "      <th>true_answer</th>\n",
       "      <th>matched_contents</th>\n",
       "    </tr>\n",
       "  </thead>\n",
       "  <tbody>\n",
       "    <tr>\n",
       "      <th>0</th>\n",
       "      <td>0</td>\n",
       "      <td>0</td>\n",
       "      <td>0</td>\n",
       "      <td>What are the various kinds of properties ident...</td>\n",
       "      <td>SELECT DISTINCT \"Property_Type\" \\nFROM catastici;</td>\n",
       "      <td>[('casa e bottega da barbier',), ('casa',), ('...</td>\n",
       "      <td>NaN</td>\n",
       "    </tr>\n",
       "    <tr>\n",
       "      <th>1</th>\n",
       "      <td>0</td>\n",
       "      <td>0</td>\n",
       "      <td>0</td>\n",
       "      <td>Could you enumerate the different property cat...</td>\n",
       "      <td>SELECT DISTINCT \"Property_Type\" \\nFROM catastici;</td>\n",
       "      <td>[('casa e bottega da barbier',), ('casa',), ('...</td>\n",
       "      <td>NaN</td>\n",
       "    </tr>\n",
       "    <tr>\n",
       "      <th>2</th>\n",
       "      <td>0</td>\n",
       "      <td>0</td>\n",
       "      <td>0</td>\n",
       "      <td>In the dataset, what property types can be found?</td>\n",
       "      <td>SELECT DISTINCT \"Property_Type\" \\nFROM catastici;</td>\n",
       "      <td>[('casa e bottega da barbier',), ('casa',), ('...</td>\n",
       "      <td>NaN</td>\n",
       "    </tr>\n",
       "    <tr>\n",
       "      <th>3</th>\n",
       "      <td>0</td>\n",
       "      <td>0</td>\n",
       "      <td>0</td>\n",
       "      <td>Specify all the property types that are encaps...</td>\n",
       "      <td>SELECT DISTINCT \"Property_Type\" \\nFROM catastici;</td>\n",
       "      <td>[('casa e bottega da barbier',), ('casa',), ('...</td>\n",
       "      <td>NaN</td>\n",
       "    </tr>\n",
       "    <tr>\n",
       "      <th>4</th>\n",
       "      <td>0</td>\n",
       "      <td>0</td>\n",
       "      <td>0</td>\n",
       "      <td>List all the types of properties in the dataset.</td>\n",
       "      <td>SELECT DISTINCT \"Property_Type\" \\nFROM catastici;</td>\n",
       "      <td>[('casa e bottega da barbier',), ('casa',), ('...</td>\n",
       "      <td>NaN</td>\n",
       "    </tr>\n",
       "    <tr>\n",
       "      <th>...</th>\n",
       "      <td>...</td>\n",
       "      <td>...</td>\n",
       "      <td>...</td>\n",
       "      <td>...</td>\n",
       "      <td>...</td>\n",
       "      <td>...</td>\n",
       "      <td>...</td>\n",
       "    </tr>\n",
       "    <tr>\n",
       "      <th>495</th>\n",
       "      <td>99</td>\n",
       "      <td>1</td>\n",
       "      <td>1</td>\n",
       "      <td>How does the rent income fluctuate on average ...</td>\n",
       "      <td>SELECT AVG(Variance) AS Avg_Rent_Income_Varian...</td>\n",
       "      <td>[(6150.230341110285,)]</td>\n",
       "      <td>NaN</td>\n",
       "    </tr>\n",
       "    <tr>\n",
       "      <th>496</th>\n",
       "      <td>99</td>\n",
       "      <td>1</td>\n",
       "      <td>1</td>\n",
       "      <td>Across various locations, what variation exist...</td>\n",
       "      <td>SELECT AVG(Variance) AS Avg_Rent_Income_Varian...</td>\n",
       "      <td>[(6150.230341110285,)]</td>\n",
       "      <td>NaN</td>\n",
       "    </tr>\n",
       "    <tr>\n",
       "      <th>497</th>\n",
       "      <td>99</td>\n",
       "      <td>1</td>\n",
       "      <td>1</td>\n",
       "      <td>What's the range of differences in average ren...</td>\n",
       "      <td>SELECT AVG(Variance) AS Avg_Rent_Income_Varian...</td>\n",
       "      <td>[(6150.230341110285,)]</td>\n",
       "      <td>NaN</td>\n",
       "    </tr>\n",
       "    <tr>\n",
       "      <th>498</th>\n",
       "      <td>99</td>\n",
       "      <td>1</td>\n",
       "      <td>1</td>\n",
       "      <td>Can you identify the usual disparity in rent i...</td>\n",
       "      <td>SELECT AVG(Variance) AS Avg_Rent_Income_Varian...</td>\n",
       "      <td>[(6150.230341110285,)]</td>\n",
       "      <td>NaN</td>\n",
       "    </tr>\n",
       "    <tr>\n",
       "      <th>499</th>\n",
       "      <td>99</td>\n",
       "      <td>1</td>\n",
       "      <td>1</td>\n",
       "      <td>What is the average rent income variance acros...</td>\n",
       "      <td>SELECT AVG(Variance) AS Avg_Rent_Income_Varian...</td>\n",
       "      <td>[(6150.230341110285,)]</td>\n",
       "      <td>NaN</td>\n",
       "    </tr>\n",
       "  </tbody>\n",
       "</table>\n",
       "<p>500 rows × 7 columns</p>\n",
       "</div>"
      ],
      "text/plain": [
       "     question_id  level_len  level_nest  \\\n",
       "0              0          0           0   \n",
       "1              0          0           0   \n",
       "2              0          0           0   \n",
       "3              0          0           0   \n",
       "4              0          0           0   \n",
       "..           ...        ...         ...   \n",
       "495           99          1           1   \n",
       "496           99          1           1   \n",
       "497           99          1           1   \n",
       "498           99          1           1   \n",
       "499           99          1           1   \n",
       "\n",
       "                                              question  \\\n",
       "0    What are the various kinds of properties ident...   \n",
       "1    Could you enumerate the different property cat...   \n",
       "2    In the dataset, what property types can be found?   \n",
       "3    Specify all the property types that are encaps...   \n",
       "4     List all the types of properties in the dataset.   \n",
       "..                                                 ...   \n",
       "495  How does the rent income fluctuate on average ...   \n",
       "496  Across various locations, what variation exist...   \n",
       "497  What's the range of differences in average ren...   \n",
       "498  Can you identify the usual disparity in rent i...   \n",
       "499  What is the average rent income variance acros...   \n",
       "\n",
       "                                            true_query  \\\n",
       "0    SELECT DISTINCT \"Property_Type\" \\nFROM catastici;   \n",
       "1    SELECT DISTINCT \"Property_Type\" \\nFROM catastici;   \n",
       "2    SELECT DISTINCT \"Property_Type\" \\nFROM catastici;   \n",
       "3    SELECT DISTINCT \"Property_Type\" \\nFROM catastici;   \n",
       "4    SELECT DISTINCT \"Property_Type\" \\nFROM catastici;   \n",
       "..                                                 ...   \n",
       "495  SELECT AVG(Variance) AS Avg_Rent_Income_Varian...   \n",
       "496  SELECT AVG(Variance) AS Avg_Rent_Income_Varian...   \n",
       "497  SELECT AVG(Variance) AS Avg_Rent_Income_Varian...   \n",
       "498  SELECT AVG(Variance) AS Avg_Rent_Income_Varian...   \n",
       "499  SELECT AVG(Variance) AS Avg_Rent_Income_Varian...   \n",
       "\n",
       "                                           true_answer matched_contents  \n",
       "0    [('casa e bottega da barbier',), ('casa',), ('...              NaN  \n",
       "1    [('casa e bottega da barbier',), ('casa',), ('...              NaN  \n",
       "2    [('casa e bottega da barbier',), ('casa',), ('...              NaN  \n",
       "3    [('casa e bottega da barbier',), ('casa',), ('...              NaN  \n",
       "4    [('casa e bottega da barbier',), ('casa',), ('...              NaN  \n",
       "..                                                 ...              ...  \n",
       "495                             [(6150.230341110285,)]              NaN  \n",
       "496                             [(6150.230341110285,)]              NaN  \n",
       "497                             [(6150.230341110285,)]              NaN  \n",
       "498                             [(6150.230341110285,)]              NaN  \n",
       "499                             [(6150.230341110285,)]              NaN  \n",
       "\n",
       "[500 rows x 7 columns]"
      ]
     },
     "execution_count": 70,
     "metadata": {},
     "output_type": "execute_result"
    }
   ],
   "source": [
    "import pandas as pd\n",
    "questions = pd.read_csv('test_data.csv')\n",
    "questions"
   ]
  },
  {
   "cell_type": "code",
   "execution_count": 22,
   "metadata": {
    "scrolled": true
   },
   "outputs": [
    {
     "name": "stderr",
     "output_type": "stream",
     "text": [
      "/home/saydalie/.local/lib/python3.11/site-packages/transformers/utils/hub.py:124: FutureWarning: Using `TRANSFORMERS_CACHE` is deprecated and will be removed in v5 of Transformers. Use `HF_HOME` instead.\n",
      "  warnings.warn(\n"
     ]
    },
    {
     "data": {
      "application/vnd.jupyter.widget-view+json": {
       "model_id": "ce7452fcc0de48acacae5ed9ea4fe74c",
       "version_major": 2,
       "version_minor": 0
      },
      "text/plain": [
       "tokenizer_config.json:   0%|          | 0.00/1.84k [00:00<?, ?B/s]"
      ]
     },
     "metadata": {},
     "output_type": "display_data"
    },
    {
     "data": {
      "application/vnd.jupyter.widget-view+json": {
       "model_id": "d92582ba4e6e48e3870c11ae64efb184",
       "version_major": 2,
       "version_minor": 0
      },
      "text/plain": [
       "tokenizer.model:   0%|          | 0.00/500k [00:00<?, ?B/s]"
      ]
     },
     "metadata": {},
     "output_type": "display_data"
    },
    {
     "data": {
      "application/vnd.jupyter.widget-view+json": {
       "model_id": "4c44968509764a0a89c49d17e69cc2d1",
       "version_major": 2,
       "version_minor": 0
      },
      "text/plain": [
       "tokenizer.json:   0%|          | 0.00/1.84M [00:00<?, ?B/s]"
      ]
     },
     "metadata": {},
     "output_type": "display_data"
    },
    {
     "data": {
      "application/vnd.jupyter.widget-view+json": {
       "model_id": "c5dd1ccfb825438d8096ff6714e23da5",
       "version_major": 2,
       "version_minor": 0
      },
      "text/plain": [
       "special_tokens_map.json:   0%|          | 0.00/515 [00:00<?, ?B/s]"
      ]
     },
     "metadata": {},
     "output_type": "display_data"
    },
    {
     "data": {
      "application/vnd.jupyter.widget-view+json": {
       "model_id": "516cdb4d41c3427abcc3a206bb68e1bd",
       "version_major": 2,
       "version_minor": 0
      },
      "text/plain": [
       "config.json:   0%|          | 0.00/691 [00:00<?, ?B/s]"
      ]
     },
     "metadata": {},
     "output_type": "display_data"
    },
    {
     "data": {
      "application/vnd.jupyter.widget-view+json": {
       "model_id": "0f09fa74fba24bf69f7ac72e886d6195",
       "version_major": 2,
       "version_minor": 0
      },
      "text/plain": [
       "model.safetensors.index.json:   0%|          | 0.00/23.9k [00:00<?, ?B/s]"
      ]
     },
     "metadata": {},
     "output_type": "display_data"
    },
    {
     "data": {
      "application/vnd.jupyter.widget-view+json": {
       "model_id": "08e3d7cb2f9d4b1198510db4b0f64e72",
       "version_major": 2,
       "version_minor": 0
      },
      "text/plain": [
       "Downloading shards:   0%|          | 0/3 [00:00<?, ?it/s]"
      ]
     },
     "metadata": {},
     "output_type": "display_data"
    },
    {
     "data": {
      "application/vnd.jupyter.widget-view+json": {
       "model_id": "574ccbc3789a4947b0a7ea735f927225",
       "version_major": 2,
       "version_minor": 0
      },
      "text/plain": [
       "model-00001-of-00003.safetensors:   0%|          | 0.00/4.94G [00:00<?, ?B/s]"
      ]
     },
     "metadata": {},
     "output_type": "display_data"
    },
    {
     "data": {
      "application/vnd.jupyter.widget-view+json": {
       "model_id": "bd711d5b82ea4155a0a082b8a80eb722",
       "version_major": 2,
       "version_minor": 0
      },
      "text/plain": [
       "model-00002-of-00003.safetensors:   0%|          | 0.00/4.95G [00:00<?, ?B/s]"
      ]
     },
     "metadata": {},
     "output_type": "display_data"
    },
    {
     "data": {
      "application/vnd.jupyter.widget-view+json": {
       "model_id": "3e9bf54dd9444d758ec1a5bd825918d4",
       "version_major": 2,
       "version_minor": 0
      },
      "text/plain": [
       "model-00003-of-00003.safetensors:   0%|          | 0.00/3.59G [00:00<?, ?B/s]"
      ]
     },
     "metadata": {},
     "output_type": "display_data"
    },
    {
     "data": {
      "application/vnd.jupyter.widget-view+json": {
       "model_id": "9c40f99876e44386aad408420b62871f",
       "version_major": 2,
       "version_minor": 0
      },
      "text/plain": [
       "Loading checkpoint shards:   0%|          | 0/3 [00:00<?, ?it/s]"
      ]
     },
     "metadata": {},
     "output_type": "display_data"
    },
    {
     "data": {
      "application/vnd.jupyter.widget-view+json": {
       "model_id": "e8622122c15a4b26b03d1d7ada831156",
       "version_major": 2,
       "version_minor": 0
      },
      "text/plain": [
       "generation_config.json:   0%|          | 0.00/111 [00:00<?, ?B/s]"
      ]
     },
     "metadata": {},
     "output_type": "display_data"
    }
   ],
   "source": [
    "import torch\n",
    "from transformers import AutoTokenizer, AutoModelForCausalLM\n",
    "\n",
    "model_name = \"defog/sqlcoder-7b-2\"\n",
    "tokenizer = AutoTokenizer.from_pretrained(model_name)\n",
    "model = AutoModelForCausalLM.from_pretrained(\n",
    "    model_name,\n",
    "    trust_remote_code=True,\n",
    "    torch_dtype=torch.float16,\n",
    "    device_map=\"auto\",\n",
    "    use_cache=True,\n",
    ")"
   ]
  },
  {
   "cell_type": "code",
   "execution_count": 71,
   "metadata": {},
   "outputs": [],
   "source": [
    "prompt = \"\"\"### Task\n",
    "Generate a SQL query to answer [QUESTION]{question}[/QUESTION]\n",
    "\n",
    "### Instructions\n",
    "- If you cannot answer the question with the available database schema, return 'I do not know'\n",
    "- Search for exact match with \"=\", unless specified otherwise\n",
    "\n",
    "### Database Schema\n",
    "CREATE TABLE [catastici]\n",
    "(\n",
    "    [Property_ID] INTEGER PRIMARY KEY,\n",
    "    [Owner_ID] INTEGER, -- Unique ID of each owner of the property\n",
    "    [Owner_First_Name] VARCHAR(30), -- First name of the owner of the property\n",
    "    [Owner_Family_Name] VARCHAR(30), -- Family name of the owner of the property\n",
    "    [Property_Type] VARCHAR(100), -- Specific type of the property given in Italian\n",
    "    [Rent_Income] INTEGER, -- Rent price of the property that the owner receives as income, given in Venice ancient gold coin ducats\n",
    "    [Property_Location] VARCHAR(100) -- Ancient approximate toponym of the property given in Italian\n",
    ");\n",
    "\n",
    "### Matched contents\n",
    "{matched_contents}\n",
    "\n",
    "### Answer\n",
    "Given the database schema, here is the SQL query that answers [QUESTION]{question}[/QUESTION]\n",
    "[SQL]\n",
    "\"\"\""
   ]
  },
  {
   "cell_type": "code",
   "execution_count": 72,
   "metadata": {},
   "outputs": [],
   "source": [
    "import sqlparse\n",
    "\n",
    "def generate_query(query):\n",
    "    updated_prompt = prompt.format(question=query['question'], matched_contents=query['matched_contents'])\n",
    "    inputs = tokenizer(updated_prompt, return_tensors=\"pt\").to(\"cuda\")\n",
    "    generated_ids = model.generate(\n",
    "        **inputs,\n",
    "        num_return_sequences=1,\n",
    "        eos_token_id=tokenizer.eos_token_id,\n",
    "        pad_token_id=tokenizer.eos_token_id,\n",
    "        max_new_tokens=400,\n",
    "        do_sample=False,\n",
    "        num_beams=4,\n",
    "    )\n",
    "    outputs = tokenizer.batch_decode(generated_ids, skip_special_tokens=True)\n",
    "\n",
    "    return sqlparse.format(outputs[0].split(\"[SQL]\")[-1], reindent=True)"
   ]
  },
  {
   "cell_type": "code",
   "execution_count": 75,
   "metadata": {},
   "outputs": [
    {
     "data": {
      "application/vnd.jupyter.widget-view+json": {
       "model_id": "d9edb046917944969b8b2004a193b765",
       "version_major": 2,
       "version_minor": 0
      },
      "text/plain": [
       "  0%|          | 0/500 [00:00<?, ?it/s]"
      ]
     },
     "metadata": {},
     "output_type": "display_data"
    }
   ],
   "source": [
    "from tqdm.notebook import tqdm\n",
    "tqdm.pandas()\n",
    "\n",
    "generated_query = questions.progress_apply(generate_query, axis=1)\n",
    "questions[\"generated_query\"] = generated_query"
   ]
  },
  {
   "cell_type": "code",
   "execution_count": 76,
   "metadata": {},
   "outputs": [],
   "source": [
    "questions.to_csv('final.csv',index=False)"
   ]
  },
  {
   "cell_type": "code",
   "execution_count": null,
   "metadata": {},
   "outputs": [],
   "source": []
  },
  {
   "cell_type": "code",
   "execution_count": null,
   "metadata": {},
   "outputs": [],
   "source": []
  },
  {
   "cell_type": "markdown",
   "metadata": {},
   "source": [
    "# Evaluations"
   ]
  },
  {
   "cell_type": "code",
   "execution_count": 87,
   "metadata": {},
   "outputs": [],
   "source": [
    "import re\n",
    "\n",
    "def check_sql_executability(query):\n",
    "    try:\n",
    "        return db.run(query)\n",
    "    except Exception as e:\n",
    "        return str(e)\n",
    "\n",
    "def ngram_overlap(true_answer, generated_answer):\n",
    "    \"\"\"Calculates 1-gram overlap\"\"\"\n",
    "    # Convert lists to sets to remove duplicates\n",
    "    true_set = set(true_answer)\n",
    "    generated_set = set(generated_answer)\n",
    "    \n",
    "    # Calculate the intersection of the sets\n",
    "    overlap_count = len(true_set.intersection(generated_set))\n",
    "    \n",
    "    # Calculate the percentage of overlap\n",
    "    overlap_percentage = overlap_count / len(true_set) if len(true_set) > 0 else 0.0\n",
    "    \n",
    "    return round(overlap_percentage, 3)\n",
    "\n",
    "def clean_answer(answer, to_replace = ['[', ']', '(', ',)', \"'\", ')']):\n",
    "    pattern = '|'.join(map(re.escape, to_replace))\n",
    "    cleaned_answer = re.sub(pattern, '', answer)\n",
    "    return [ans.strip() for ans in cleaned_answer.split(',')]"
   ]
  },
  {
   "cell_type": "code",
   "execution_count": 88,
   "metadata": {},
   "outputs": [],
   "source": [
    "questions['generated_answer'] = questions['generated_query'].apply(check_sql_executability)"
   ]
  },
  {
   "cell_type": "code",
   "execution_count": 92,
   "metadata": {},
   "outputs": [],
   "source": [
    "questions['true_answer'].fillna('', inplace=True)"
   ]
  },
  {
   "cell_type": "code",
   "execution_count": 93,
   "metadata": {},
   "outputs": [],
   "source": [
    "questions['generated_answer_clean'] = questions['generated_answer'].apply(clean_answer)\n",
    "questions['true_answer_clean'] = questions['true_answer'].apply(clean_answer)\n",
    "questions['n_gram'] = questions.apply(lambda row: ngram_overlap(row['true_answer_clean'], row['generated_answer_clean']), axis=1)"
   ]
  },
  {
   "cell_type": "code",
   "execution_count": 94,
   "metadata": {},
   "outputs": [
    {
     "data": {
      "text/plain": [
       "output\n",
       "True     295\n",
       "False    205\n",
       "Name: count, dtype: int64"
      ]
     },
     "execution_count": 94,
     "metadata": {},
     "output_type": "execute_result"
    }
   ],
   "source": [
    "questions['output'] = questions['n_gram']>0.33\n",
    "questions['output'].value_counts()"
   ]
  }
 ],
 "metadata": {
  "kernelspec": {
   "display_name": "Python 3 (ipykernel)",
   "language": "python",
   "name": "python3"
  },
  "language_info": {
   "codemirror_mode": {
    "name": "ipython",
    "version": 3
   },
   "file_extension": ".py",
   "mimetype": "text/x-python",
   "name": "python",
   "nbconvert_exporter": "python",
   "pygments_lexer": "ipython3",
   "version": "3.11.8"
  }
 },
 "nbformat": 4,
 "nbformat_minor": 4
}
