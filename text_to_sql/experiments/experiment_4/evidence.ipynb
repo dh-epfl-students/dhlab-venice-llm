{
 "cells": [
  {
   "cell_type": "code",
   "execution_count": 2,
   "metadata": {},
   "outputs": [],
   "source": [
    "from langchain_community.utilities import SQLDatabase\n",
    "\n",
    "db = SQLDatabase.from_uri(\"sqlite:///../data/catastici.db\")"
   ]
  },
  {
   "cell_type": "code",
   "execution_count": 4,
   "metadata": {},
   "outputs": [
    {
     "data": {
      "text/html": [
       "<div>\n",
       "<style scoped>\n",
       "    .dataframe tbody tr th:only-of-type {\n",
       "        vertical-align: middle;\n",
       "    }\n",
       "\n",
       "    .dataframe tbody tr th {\n",
       "        vertical-align: top;\n",
       "    }\n",
       "\n",
       "    .dataframe thead th {\n",
       "        text-align: right;\n",
       "    }\n",
       "</style>\n",
       "<table border=\"1\" class=\"dataframe\">\n",
       "  <thead>\n",
       "    <tr style=\"text-align: right;\">\n",
       "      <th></th>\n",
       "      <th>question_id</th>\n",
       "      <th>level_len</th>\n",
       "      <th>level_nest</th>\n",
       "      <th>question</th>\n",
       "      <th>true_query</th>\n",
       "      <th>true_answer</th>\n",
       "    </tr>\n",
       "  </thead>\n",
       "  <tbody>\n",
       "    <tr>\n",
       "      <th>0</th>\n",
       "      <td>0</td>\n",
       "      <td>0</td>\n",
       "      <td>0</td>\n",
       "      <td>What are the various kinds of properties ident...</td>\n",
       "      <td>SELECT DISTINCT \"Property_Type\" \\nFROM catastici;</td>\n",
       "      <td>[('casa e bottega da barbier',), ('casa',), ('...</td>\n",
       "    </tr>\n",
       "    <tr>\n",
       "      <th>1</th>\n",
       "      <td>0</td>\n",
       "      <td>0</td>\n",
       "      <td>0</td>\n",
       "      <td>Could you enumerate the different property cat...</td>\n",
       "      <td>SELECT DISTINCT \"Property_Type\" \\nFROM catastici;</td>\n",
       "      <td>[('casa e bottega da barbier',), ('casa',), ('...</td>\n",
       "    </tr>\n",
       "    <tr>\n",
       "      <th>2</th>\n",
       "      <td>0</td>\n",
       "      <td>0</td>\n",
       "      <td>0</td>\n",
       "      <td>In the dataset, what property types can be found?</td>\n",
       "      <td>SELECT DISTINCT \"Property_Type\" \\nFROM catastici;</td>\n",
       "      <td>[('casa e bottega da barbier',), ('casa',), ('...</td>\n",
       "    </tr>\n",
       "    <tr>\n",
       "      <th>3</th>\n",
       "      <td>0</td>\n",
       "      <td>0</td>\n",
       "      <td>0</td>\n",
       "      <td>Specify all the property types that are encaps...</td>\n",
       "      <td>SELECT DISTINCT \"Property_Type\" \\nFROM catastici;</td>\n",
       "      <td>[('casa e bottega da barbier',), ('casa',), ('...</td>\n",
       "    </tr>\n",
       "    <tr>\n",
       "      <th>4</th>\n",
       "      <td>0</td>\n",
       "      <td>0</td>\n",
       "      <td>0</td>\n",
       "      <td>List all the types of properties in the dataset.</td>\n",
       "      <td>SELECT DISTINCT \"Property_Type\" \\nFROM catastici;</td>\n",
       "      <td>[('casa e bottega da barbier',), ('casa',), ('...</td>\n",
       "    </tr>\n",
       "  </tbody>\n",
       "</table>\n",
       "</div>"
      ],
      "text/plain": [
       "   question_id  level_len  level_nest   \n",
       "0            0          0           0  \\\n",
       "1            0          0           0   \n",
       "2            0          0           0   \n",
       "3            0          0           0   \n",
       "4            0          0           0   \n",
       "\n",
       "                                            question   \n",
       "0  What are the various kinds of properties ident...  \\\n",
       "1  Could you enumerate the different property cat...   \n",
       "2  In the dataset, what property types can be found?   \n",
       "3  Specify all the property types that are encaps...   \n",
       "4   List all the types of properties in the dataset.   \n",
       "\n",
       "                                          true_query   \n",
       "0  SELECT DISTINCT \"Property_Type\" \\nFROM catastici;  \\\n",
       "1  SELECT DISTINCT \"Property_Type\" \\nFROM catastici;   \n",
       "2  SELECT DISTINCT \"Property_Type\" \\nFROM catastici;   \n",
       "3  SELECT DISTINCT \"Property_Type\" \\nFROM catastici;   \n",
       "4  SELECT DISTINCT \"Property_Type\" \\nFROM catastici;   \n",
       "\n",
       "                                         true_answer  \n",
       "0  [('casa e bottega da barbier',), ('casa',), ('...  \n",
       "1  [('casa e bottega da barbier',), ('casa',), ('...  \n",
       "2  [('casa e bottega da barbier',), ('casa',), ('...  \n",
       "3  [('casa e bottega da barbier',), ('casa',), ('...  \n",
       "4  [('casa e bottega da barbier',), ('casa',), ('...  "
      ]
     },
     "execution_count": 4,
     "metadata": {},
     "output_type": "execute_result"
    }
   ],
   "source": [
    "import pandas as pd\n",
    "questions = pd.read_csv(\"test_data.csv\")\n",
    "questions.head()"
   ]
  },
  {
   "cell_type": "code",
   "execution_count": 5,
   "metadata": {},
   "outputs": [
    {
     "name": "stdout",
     "output_type": "stream",
     "text": [
      "What’s the minimum amount \"zuane\" \"panizza\" earns from the property at \"traghetto di san silvestro\"?\n"
     ]
    },
    {
     "data": {
      "text/plain": [
       "'\"Owner_First_Name\" = \"zuane\"; \"Owner_Family_Name\" = \"panizza\"; \"Property_Location\" = \"traghetto di san silvestro\"'"
      ]
     },
     "execution_count": 5,
     "metadata": {},
     "output_type": "execute_result"
    }
   ],
   "source": [
    "import re\n",
    "def get_evidence(question, db = db, fields = [\"Owner_ID\",\"Owner_First_Name\",\"Owner_Family_Name\",\"Property_Type\",\"Rent_Income\",\"Property_Location\"]):\n",
    "    keywords = re.findall(r'\"(.*?)\"', question)\n",
    "    if len(keywords) == 0:\n",
    "        return \"\"\n",
    "    evidence = []\n",
    "    for keyword in keywords:\n",
    "        for field in fields:\n",
    "            if len(db.run(f\"\"\"SELECT * FROM catastici WHERE \"{field}\" = \"{keyword}\" LIMIT 1;\"\"\")) > 0:\n",
    "                evidence.append(f'\"{field}\" = \"{keyword}\"')\n",
    "                break\n",
    "    return \"; \".join(evidence)\n",
    "\n",
    "# example\n",
    "print(questions['question'][360])\n",
    "get_evidence(questions['question'][360])"
   ]
  },
  {
   "cell_type": "code",
   "execution_count": 6,
   "metadata": {},
   "outputs": [
    {
     "data": {
      "text/html": [
       "<div>\n",
       "<style scoped>\n",
       "    .dataframe tbody tr th:only-of-type {\n",
       "        vertical-align: middle;\n",
       "    }\n",
       "\n",
       "    .dataframe tbody tr th {\n",
       "        vertical-align: top;\n",
       "    }\n",
       "\n",
       "    .dataframe thead th {\n",
       "        text-align: right;\n",
       "    }\n",
       "</style>\n",
       "<table border=\"1\" class=\"dataframe\">\n",
       "  <thead>\n",
       "    <tr style=\"text-align: right;\">\n",
       "      <th></th>\n",
       "      <th>question_id</th>\n",
       "      <th>level_len</th>\n",
       "      <th>level_nest</th>\n",
       "      <th>question</th>\n",
       "      <th>true_query</th>\n",
       "      <th>true_answer</th>\n",
       "      <th>evidence</th>\n",
       "    </tr>\n",
       "  </thead>\n",
       "  <tbody>\n",
       "    <tr>\n",
       "      <th>203</th>\n",
       "      <td>40</td>\n",
       "      <td>0</td>\n",
       "      <td>0</td>\n",
       "      <td>How wide is the span of rent profits on \"calle...</td>\n",
       "      <td>SELECT MIN(\"Rent_Income\"), MAX(\"Rent_Income\") ...</td>\n",
       "      <td>[(8, 32)]</td>\n",
       "      <td>\"Property_Location\" = \"calle de franchi\"</td>\n",
       "    </tr>\n",
       "    <tr>\n",
       "      <th>220</th>\n",
       "      <td>44</td>\n",
       "      <td>0</td>\n",
       "      <td>0</td>\n",
       "      <td>Who is the top earner from a single property i...</td>\n",
       "      <td>SELECT \"Owner_First_Name\", \"Owner_Family_Name\"...</td>\n",
       "      <td>[('antonio', 'danielli', 14934)]</td>\n",
       "      <td></td>\n",
       "    </tr>\n",
       "    <tr>\n",
       "      <th>484</th>\n",
       "      <td>96</td>\n",
       "      <td>1</td>\n",
       "      <td>1</td>\n",
       "      <td>How many properties account for the lower 50% ...</td>\n",
       "      <td>SELECT COUNT(\"Property_Type\") \\nFROM catastici...</td>\n",
       "      <td>[(7856,)]</td>\n",
       "      <td></td>\n",
       "    </tr>\n",
       "    <tr>\n",
       "      <th>191</th>\n",
       "      <td>38</td>\n",
       "      <td>0</td>\n",
       "      <td>0</td>\n",
       "      <td>What does the average earning from rent look l...</td>\n",
       "      <td>SELECT \"Property_Location\", AVG(\"Rent_Income\")...</td>\n",
       "      <td>[('[appartamento] li formenti sopra la strada ...</td>\n",
       "      <td></td>\n",
       "    </tr>\n",
       "    <tr>\n",
       "      <th>105</th>\n",
       "      <td>21</td>\n",
       "      <td>0</td>\n",
       "      <td>0</td>\n",
       "      <td>What is the total rent revenue generated from ...</td>\n",
       "      <td>SELECT SUM(\"Rent_Income\") \\nFROM catastici \\nW...</td>\n",
       "      <td>[(259,)]</td>\n",
       "      <td>\"Property_Type\" = \"bottega da casarol\"</td>\n",
       "    </tr>\n",
       "  </tbody>\n",
       "</table>\n",
       "</div>"
      ],
      "text/plain": [
       "     question_id  level_len  level_nest   \n",
       "203           40          0           0  \\\n",
       "220           44          0           0   \n",
       "484           96          1           1   \n",
       "191           38          0           0   \n",
       "105           21          0           0   \n",
       "\n",
       "                                              question   \n",
       "203  How wide is the span of rent profits on \"calle...  \\\n",
       "220  Who is the top earner from a single property i...   \n",
       "484  How many properties account for the lower 50% ...   \n",
       "191  What does the average earning from rent look l...   \n",
       "105  What is the total rent revenue generated from ...   \n",
       "\n",
       "                                            true_query   \n",
       "203  SELECT MIN(\"Rent_Income\"), MAX(\"Rent_Income\") ...  \\\n",
       "220  SELECT \"Owner_First_Name\", \"Owner_Family_Name\"...   \n",
       "484  SELECT COUNT(\"Property_Type\") \\nFROM catastici...   \n",
       "191  SELECT \"Property_Location\", AVG(\"Rent_Income\")...   \n",
       "105  SELECT SUM(\"Rent_Income\") \\nFROM catastici \\nW...   \n",
       "\n",
       "                                           true_answer   \n",
       "203                                          [(8, 32)]  \\\n",
       "220                   [('antonio', 'danielli', 14934)]   \n",
       "484                                          [(7856,)]   \n",
       "191  [('[appartamento] li formenti sopra la strada ...   \n",
       "105                                           [(259,)]   \n",
       "\n",
       "                                     evidence  \n",
       "203  \"Property_Location\" = \"calle de franchi\"  \n",
       "220                                            \n",
       "484                                            \n",
       "191                                            \n",
       "105    \"Property_Type\" = \"bottega da casarol\"  "
      ]
     },
     "execution_count": 6,
     "metadata": {},
     "output_type": "execute_result"
    }
   ],
   "source": [
    "# Build evidence\n",
    "evidences = []\n",
    "for i, r in questions.iterrows():\n",
    "    evidences.append(get_evidence(r['question']))\n",
    "questions['evidence'] = evidences\n",
    "questions.sample(5)"
   ]
  },
  {
   "cell_type": "code",
   "execution_count": 10,
   "metadata": {},
   "outputs": [
    {
     "data": {
      "text/plain": [
       "'What’s the minimum amount \"zuane\" \"panizza\" earns from the property at \"traghetto di san silvestro\"?\\n\"Owner_First_Name\" = \"zuane\"; \"Owner_Family_Name\" = \"panizza\"; \"Property_Location\" = \"traghetto di san silvestro\"\\nSELECT MIN(\"Rent_Income\") \\nFROM catastici \\nWHERE \"Owner_First_Name\" = \\'zuane\\' \\nAND \"Owner_Family_Name\" = \\'panizza\\' \\nAND \"Property_Location\" = \\'traghetto di san silvestro\\';'"
      ]
     },
     "execution_count": 10,
     "metadata": {},
     "output_type": "execute_result"
    }
   ],
   "source": [
    "# questions['evidence'].unique()\n",
    "questions.iloc[360]['question']+'\\n'+questions.iloc[360]['evidence']+'\\n'+questions.iloc[360]['true_query']"
   ]
  },
  {
   "cell_type": "code",
   "execution_count": 38,
   "metadata": {},
   "outputs": [],
   "source": [
    "questions.to_csv(\"test_data_with_evidence.csv\", index=False)"
   ]
  }
 ],
 "metadata": {
  "kernelspec": {
   "display_name": "venice_env",
   "language": "python",
   "name": "python3"
  },
  "language_info": {
   "codemirror_mode": {
    "name": "ipython",
    "version": 3
   },
   "file_extension": ".py",
   "mimetype": "text/x-python",
   "name": "python",
   "nbconvert_exporter": "python",
   "pygments_lexer": "ipython3",
   "version": "3.10.4"
  }
 },
 "nbformat": 4,
 "nbformat_minor": 2
}
