{
 "cells": [
  {
   "cell_type": "code",
   "execution_count": 1,
   "metadata": {},
   "outputs": [
    {
     "name": "stdout",
     "output_type": "stream",
     "text": [
      "sqlite\n",
      "['catastici']\n"
     ]
    },
    {
     "data": {
      "text/plain": [
       "\"[(0, 3183, 'liberal', 'campi', 'casa e bottega da barbier', 70, 'campo vicino alla chiesa')]\""
      ]
     },
     "execution_count": 1,
     "metadata": {},
     "output_type": "execute_result"
    }
   ],
   "source": [
    "from langchain_community.utilities import SQLDatabase\n",
    "\n",
    "db = SQLDatabase.from_uri(\"sqlite:///../data/catastici.db\")\n",
    "\n",
    "# test DB\n",
    "print(db.dialect)\n",
    "print(db.get_usable_table_names())\n",
    "db.run(\"SELECT * FROM catastici LIMIT 1;\")"
   ]
  },
  {
   "cell_type": "code",
   "execution_count": 2,
   "metadata": {},
   "outputs": [],
   "source": [
    "from collections import Counter\n",
    "import pandas as pd\n",
    "import ast\n",
    "import re\n",
    "import warnings\n",
    "warnings.filterwarnings('ignore')\n",
    "\n",
    "def clean_query(sql_query):\n",
    "    \"\"\"clean the output\"\"\"\n",
    "    # change to list\n",
    "    sql_query_list = ast.literal_eval(sql_query)\n",
    "    \n",
    "    # split on ;\n",
    "    sql_query_list = [query.split(';')[0].strip() + ';' for query in sql_query_list]\n",
    "    \n",
    "    # replace '\n",
    "    sql_query_list = [re.sub(r\"([a-z])'([a-z])\",r\"\\1''\\2\", query) for query in sql_query_list]\n",
    "\n",
    "    return sql_query_list\n",
    "\n",
    "def check_sql_executability(query, db):\n",
    "    try:\n",
    "        return db.run(query)\n",
    "    except Exception as e:\n",
    "        return str(e)\n",
    "     \n",
    "def find_most_common_answer(answers):\n",
    "    answers = [\"ERROR\" if \"error\" in answer else answer for answer in answers]\n",
    "    most_common_answer, most_common_count = Counter(answers).most_common(1)[0]\n",
    "    if most_common_answer == \"ERROR\":\n",
    "        if most_common_count == 4:\n",
    "            return most_common_answer\n",
    "        else:\n",
    "            return Counter(answers).most_common(2)[1][0]\n",
    "\n",
    "    return most_common_answer\n",
    "\n",
    "def clean_answer(answer, to_replace = ['[', ']', '(', ',)', \"'\", ')']):\n",
    "    pattern = '|'.join(map(re.escape, to_replace))\n",
    "    cleaned_answer = re.sub(pattern, '', answer)\n",
    "    return [ans.strip() for ans in cleaned_answer.split(',')]\n",
    "\n",
    "def ngram_overlap(true_answer, generated_answer):\n",
    "    \"\"\"Calculates 1-gram overlap\"\"\"\n",
    "    # Convert lists to sets to remove duplicates\n",
    "    true_set = set(true_answer)\n",
    "    generated_set = set(generated_answer)\n",
    "    \n",
    "    # Calculate the intersection of the sets\n",
    "    overlap_count = len(true_set.intersection(generated_set))\n",
    "    \n",
    "    # Calculate the percentage of overlap\n",
    "    overlap_percentage = overlap_count / len(true_set) if len(true_set) > 0 else 0.0\n",
    "    \n",
    "    return round(overlap_percentage, 3)"
   ]
  },
  {
   "cell_type": "code",
   "execution_count": 3,
   "metadata": {},
   "outputs": [
    {
     "data": {
      "text/plain": [
       "output\n",
       "EM       253\n",
       "ERROR      9\n",
       "Name: count, dtype: int64"
      ]
     },
     "execution_count": 3,
     "metadata": {},
     "output_type": "execute_result"
    }
   ],
   "source": [
    "# import the dataset\n",
    "query_res = pd.read_csv('./test_data_generated.csv')\n",
    "\n",
    "# clean output\n",
    "for idx, row in query_res.iterrows():\n",
    "    query_list_clean = clean_query(row['generated_query'])\n",
    "    final_out = None\n",
    "    answers = []\n",
    "    for out in query_list_clean:\n",
    "        answers.append(check_sql_executability(out, db))\n",
    "    answer = find_most_common_answer(answers)\n",
    "    \n",
    "    if answer != \"ERROR\":\n",
    "        final_out = query_list_clean[answers.index(answer)]\n",
    "    if final_out == None:\n",
    "        final_out = query_list_clean[0]\n",
    "        answer = check_sql_executability(final_out, db)\n",
    "    query_res.loc[idx,'generated_answer'] = answer\n",
    "    query_res.loc[idx,'generated_query'] = final_out\n",
    "    \n",
    "query_res.loc[(query_res['generated_answer'].str.contains(\"error\")), 'output'] = 'ERROR'\n",
    "query_res.loc[(query_res['generated_answer']==query_res['true_answer']), 'output'] = 'EM'\n",
    "query_res['output'].value_counts()"
   ]
  },
  {
   "cell_type": "code",
   "execution_count": 4,
   "metadata": {},
   "outputs": [
    {
     "data": {
      "text/plain": [
       "n_gram_matching\n",
       "False    131\n",
       "True     107\n",
       "Name: count, dtype: int64"
      ]
     },
     "execution_count": 4,
     "metadata": {},
     "output_type": "execute_result"
    }
   ],
   "source": [
    "query_wrong = query_res[query_res.output.isna()]\n",
    "query_wrong.true_answer.fillna(\"\",inplace=True)\n",
    "\n",
    "query_wrong['generated_answer_clean'] = query_wrong['generated_answer'].apply(clean_answer)\n",
    "query_wrong['true_answer_clean'] = query_wrong['true_answer'].apply(clean_answer)\n",
    "\n",
    "n_gram = []\n",
    "for _, row in query_wrong.iterrows():\n",
    "    n_gram.append(ngram_overlap(row['true_answer_clean'], row['generated_answer_clean']))\n",
    "query_wrong['n_gram_overlap'] = n_gram\n",
    "query_wrong['n_gram_matching'] = query_wrong['n_gram_overlap']>0.33\n",
    "\n",
    "query_wrong['n_gram_matching'].value_counts()"
   ]
  },
  {
   "cell_type": "code",
   "execution_count": null,
   "metadata": {},
   "outputs": [],
   "source": []
  },
  {
   "cell_type": "code",
   "execution_count": null,
   "metadata": {},
   "outputs": [],
   "source": []
  },
  {
   "cell_type": "code",
   "execution_count": null,
   "metadata": {},
   "outputs": [],
   "source": []
  },
  {
   "cell_type": "code",
   "execution_count": null,
   "metadata": {},
   "outputs": [],
   "source": []
  },
  {
   "cell_type": "code",
   "execution_count": null,
   "metadata": {},
   "outputs": [],
   "source": []
  },
  {
   "cell_type": "markdown",
   "metadata": {},
   "source": [
    "# Check"
   ]
  },
  {
   "cell_type": "code",
   "execution_count": 5,
   "metadata": {},
   "outputs": [],
   "source": [
    "query_res.loc[(query_res['generated_answer']=='ERROR'), 'output'] = 'ERROR'\n",
    "query_res.loc[(query_res['generated_answer']==query_res['true_answer']), 'output'] = 'EM'"
   ]
  },
  {
   "cell_type": "code",
   "execution_count": 6,
   "metadata": {},
   "outputs": [
    {
     "data": {
      "text/plain": [
       "output\n",
       "EM       253\n",
       "ERROR     13\n",
       "Name: count, dtype: int64"
      ]
     },
     "execution_count": 6,
     "metadata": {},
     "output_type": "execute_result"
    }
   ],
   "source": [
    "query_res['output'].value_counts()"
   ]
  },
  {
   "cell_type": "code",
   "execution_count": null,
   "metadata": {},
   "outputs": [],
   "source": []
  },
  {
   "cell_type": "code",
   "execution_count": 7,
   "metadata": {},
   "outputs": [],
   "source": [
    "# import os\n",
    "# os.environ[\"OPENAI_API_KEY\"] = ''\n",
    "\n",
    "from openai import OpenAI\n",
    "client = OpenAI()"
   ]
  },
  {
   "cell_type": "code",
   "execution_count": 8,
   "metadata": {},
   "outputs": [],
   "source": [
    "system_prompt_1 = \"\"\"You are an assistant that is an expert in assessing Sqlite SQL queries.\n",
    "You are given a Database Schema, a question, a true SQL query that answers the question and generated SQL query to answer the question.\n",
    "Compare the true and generated SQL queries and evaluate if the generated query answers the question and acceptable.\n",
    "Note that true and generated SQL queries are not the same, but both may be accapted as long as they both answer the question.\n",
    "Respond with YES if generated query is acceptable, or NO if generated query does not answer the question.\n",
    "\"\"\"\n",
    "\n",
    "system_prompt_2 = \"\"\"You are an assistant that is an expert in assessing Sqlite SQL queries.\n",
    "You are given a Database Schema, a question and an SQL query to answer the question.\n",
    "Look at the SQL query and assess if the query answers the question.\n",
    "Respond with YES if the query asnwers the question directly or indirectly, or NO if generated query does not answer the question nor include the answer to the question.\n",
    "\"\"\"\n",
    "\n",
    "prompt_1 = \"\"\"### Database Schema\n",
    "CREATE TABLE [catastici]\n",
    "(\n",
    "    [Owner_ID] INT, -- Unique ID of each owner of the property\n",
    "    [Owner_First_Name] NVARCHAR(30), -- First name of the owner of the property\n",
    "    [Owner_Family_Name] NVARCHAR(30), -- Family name of the owner of the property\n",
    "    [Property_Type] NVARCHAR(100), -- Specific type of the property given in Italian. For example, \"casa\", \"bottega da barbier\", \"bottega da fruttariol\".\n",
    "    [Rent_Income] INT, -- Rent price of the property that the owner receives as income, given in Venice ancient gold coin ducato.\n",
    "    [Property_Location] NVARCHAR(100) -- Ancient approximate toponym of the property given in Italian.\n",
    ");\n",
    "\n",
    "### Question\n",
    "{question}\n",
    "\n",
    "### True SQL query\n",
    "{true_query}\n",
    "\n",
    "### Generated SQL query\n",
    "{generated_query}\n",
    "\n",
    "### Response\n",
    "\"\"\"\n",
    "\n",
    "prompt_2 = \"\"\"### Database Schema\n",
    "CREATE TABLE [catastici]\n",
    "(\n",
    "    [Owner_ID] INT, -- Unique ID of each owner of the property\n",
    "    [Owner_First_Name] NVARCHAR(30), -- First name of the owner of the property\n",
    "    [Owner_Family_Name] NVARCHAR(30), -- Family name of the owner of the property\n",
    "    [Property_Type] NVARCHAR(100), -- Specific type of the property given in Italian. For example, \"casa\", \"bottega da barbier\", \"bottega da fruttariol\".\n",
    "    [Rent_Income] INT, -- Rent price of the property that the owner receives as income, given in Venice ancient gold coin ducato.\n",
    "    [Property_Location] NVARCHAR(100) -- Ancient approximate toponym of the property given in Italian.\n",
    ");\n",
    "\n",
    "### Question\n",
    "{question}\n",
    "\n",
    "### Generated SQL query\n",
    "{generated_query}\n",
    "\n",
    "### Response\n",
    "\"\"\""
   ]
  },
  {
   "cell_type": "code",
   "execution_count": 19,
   "metadata": {},
   "outputs": [
    {
     "name": "stdout",
     "output_type": "stream",
     "text": [
      "Can you determine the quantity of properties categorized under \"casa\"?\n",
      "SELECT COUNT(\"Property_Type\") \n",
      "FROM catastici \n",
      "WHERE \"Property_Type\" = 'casa';\n",
      "SELECT \"Property_Type\", COUNT(*) AS \"Number_of_casa_properties\"\n",
      "FROM catastici\n",
      "WHERE \"Property_Type\" = 'casa'\n",
      "GROUP BY \"Property_Type\";\n"
     ]
    }
   ],
   "source": [
    "example = query_res[query_res.output.isna()].iloc[20]\n",
    "print(example['question'])\n",
    "print(example['true_query'])\n",
    "print(example['generated_query'])"
   ]
  },
  {
   "cell_type": "code",
   "execution_count": 20,
   "metadata": {},
   "outputs": [
    {
     "name": "stdout",
     "output_type": "stream",
     "text": [
      "NO\n"
     ]
    }
   ],
   "source": [
    "response = client.chat.completions.create(\n",
    "  model=\"gpt-3.5-turbo\",\n",
    "  messages=[\n",
    "    {\"role\": \"system\", \"content\": system_prompt_1},\n",
    "    {\"role\": \"user\", \"content\": prompt_1.format(question=example['question'],true_query=example['true_query'],generated_query=example['generated_query'])}\n",
    "  ]\n",
    ")\n",
    "print(response.choices[0].message.content)"
   ]
  },
  {
   "cell_type": "code",
   "execution_count": 21,
   "metadata": {},
   "outputs": [
    {
     "name": "stdout",
     "output_type": "stream",
     "text": [
      "YES\n"
     ]
    }
   ],
   "source": [
    "response = client.chat.completions.create(\n",
    "  model=\"gpt-3.5-turbo\",\n",
    "  messages=[\n",
    "    {\"role\": \"system\", \"content\": system_prompt_2},\n",
    "    {\"role\": \"user\", \"content\": prompt_2.format(question=example['question'],generated_query=example['generated_query'])}\n",
    "  ]\n",
    ")\n",
    "print(response.choices[0].message.content)"
   ]
  },
  {
   "cell_type": "code",
   "execution_count": 66,
   "metadata": {},
   "outputs": [],
   "source": [
    "responses_1 = {}\n",
    "for idx, r in query_res[query_res.output.isna()].iterrows():\n",
    "    response = client.chat.completions.create(\n",
    "        model=\"gpt-4-turbo-preview\",\n",
    "        messages=[\n",
    "            {\"role\": \"system\", \"content\": system_prompt_1},\n",
    "            {\"role\": \"user\", \"content\": prompt_1.format(question=r['question'],true_query=r['true_query'],generated_query=r['generated_query'])}\n",
    "        ]\n",
    "    )\n",
    "    responses_1[idx] = response.choices[0].message.content"
   ]
  },
  {
   "cell_type": "code",
   "execution_count": 22,
   "metadata": {},
   "outputs": [],
   "source": [
    "responses_2 = {}\n",
    "for idx, r in query_res[query_res.output.isna()].iterrows():\n",
    "    response = client.chat.completions.create(\n",
    "        model=\"gpt-4-turbo-preview\",\n",
    "        messages=[\n",
    "            {\"role\": \"system\", \"content\": system_prompt_2},\n",
    "            {\"role\": \"user\", \"content\": prompt_2.format(question=r['question'],generated_query=r['generated_query'])}\n",
    "        ]\n",
    "    )\n",
    "    responses_2[idx] = response.choices[0].message.content"
   ]
  },
  {
   "cell_type": "code",
   "execution_count": 23,
   "metadata": {},
   "outputs": [],
   "source": [
    "query_wrong = query_res[query_res.output.isna()].drop('output',axis=1)"
   ]
  },
  {
   "cell_type": "code",
   "execution_count": 25,
   "metadata": {},
   "outputs": [],
   "source": [
    "for k,v in responses_1.items():\n",
    "    query_wrong.loc[k, 'output_1'] = v\n",
    "\n",
    "for k,v in responses_2.items():\n",
    "    query_wrong.loc[k, 'output_2'] = v"
   ]
  },
  {
   "cell_type": "code",
   "execution_count": 75,
   "metadata": {},
   "outputs": [
    {
     "data": {
      "text/plain": [
       "output_1\n",
       "NO     159\n",
       "YES     75\n",
       "Name: count, dtype: int64"
      ]
     },
     "execution_count": 75,
     "metadata": {},
     "output_type": "execute_result"
    }
   ],
   "source": [
    "query_wrong.output_1.value_counts()"
   ]
  },
  {
   "cell_type": "code",
   "execution_count": 26,
   "metadata": {},
   "outputs": [
    {
     "data": {
      "text/plain": [
       "output_2\n",
       "NO     130\n",
       "YES    104\n",
       "Name: count, dtype: int64"
      ]
     },
     "execution_count": 26,
     "metadata": {},
     "output_type": "execute_result"
    }
   ],
   "source": [
    "query_wrong.output_2.value_counts()"
   ]
  },
  {
   "cell_type": "markdown",
   "metadata": {},
   "source": [
    "**Results**\n",
    "- Wrong -> 234<br>\n",
    "    - True -> 104\n",
    "    - Wrong -> 130\n",
    "- Error -> 13<br>\n",
    "- Exact Match -> 253\n",
    "- True -> **357**"
   ]
  },
  {
   "cell_type": "code",
   "execution_count": 32,
   "metadata": {},
   "outputs": [],
   "source": [
    "for k,v in responses_2.items():\n",
    "    query_res.loc[k, 'output'] = v"
   ]
  },
  {
   "cell_type": "code",
   "execution_count": 35,
   "metadata": {},
   "outputs": [],
   "source": [
    "query_res['output_binary'] = (query_res.output=='EM') | (query_res.output=='YES')"
   ]
  },
  {
   "cell_type": "code",
   "execution_count": 36,
   "metadata": {},
   "outputs": [
    {
     "data": {
      "text/plain": [
       "level_len\n",
       "0    0.7775\n",
       "1    0.4600\n",
       "Name: output_binary, dtype: float64"
      ]
     },
     "execution_count": 36,
     "metadata": {},
     "output_type": "execute_result"
    }
   ],
   "source": [
    "query_res.groupby('level_len')['output_binary'].mean()"
   ]
  },
  {
   "cell_type": "code",
   "execution_count": 37,
   "metadata": {},
   "outputs": [
    {
     "data": {
      "text/plain": [
       "level_nest\n",
       "0    0.789873\n",
       "1    0.428571\n",
       "Name: output_binary, dtype: float64"
      ]
     },
     "execution_count": 37,
     "metadata": {},
     "output_type": "execute_result"
    }
   ],
   "source": [
    "query_res.groupby('level_nest')['output_binary'].mean()"
   ]
  },
  {
   "cell_type": "markdown",
   "metadata": {},
   "source": [
    "# Examples"
   ]
  },
  {
   "cell_type": "code",
   "execution_count": 30,
   "metadata": {},
   "outputs": [
    {
     "name": "stdout",
     "output_type": "stream",
     "text": [
      "397 - 79\n",
      "NO\n",
      "Question: What percentage of the dataset does each property type represent?\n",
      "Evidence: nan\n",
      "\n",
      "True SQL:\n",
      "SELECT \"Property_Type\", COUNT(\"Property_Type\") AS Property_Count, (COUNT(\"Property_Type\") * 100.0 / (SELECT COUNT(*) FROM catastici)) AS Proportion\n",
      "FROM catastici\n",
      "GROUP BY \"Property_Type\";\n",
      "Generated SQL:\n",
      "\n",
      "SELECT \"Property_Type\", COUNT(*) AS num_properties\n",
      "FROM catastici\n",
      "GROUP BY \"Property_Type\";\n",
      "\n",
      "\n",
      "\n",
      "185 - 37\n",
      "NO\n",
      "Question: Who among the property owners earns the most from a single property in terms of rent income?\n",
      "Evidence: nan\n",
      "\n",
      "True SQL:\n",
      "SELECT \"Owner_First_Name\", \"Owner_Family_Name\", MAX(\"Rent_Income\") AS \"Max_Rent_Income\"\n",
      "FROM catastici;\n",
      "Generated SQL:\n",
      "\n",
      "SELECT \"Owner_First_Name\", \"Owner_Family_Name\", SUM(\"Rent_Income\") AS Total_Rent_Income\n",
      "FROM catastici\n",
      "GROUP BY \"Owner_First_Name\", \"Owner_Family_Name\"\n",
      "ORDER BY Total_Rent_Income DESC\n",
      "LIMIT 1;\n",
      "\n",
      "\n",
      "\n",
      "266 - 53\n",
      "NO\n",
      "Question: Can you enumerate the different kinds of properties that are distinct to a particular area?\n",
      "Evidence: nan\n",
      "\n",
      "True SQL:\n",
      "SELECT \"Property_Location\", COUNT(DISTINCT \"Property_Type\") AS unique_property_types\n",
      "FROM catastici\n",
      "GROUP BY \"Property_Location\";\n",
      "Generated SQL:\n",
      "\n",
      "SELECT \"Property_Location\", COUNT(DISTINCT \"Property_Type\") AS num_types\n",
      "FROM catastici\n",
      "GROUP BY \"Property_Location\"\n",
      "ORDER BY num_types DESC\n",
      "LIMIT 10;\n",
      "\n",
      "\n",
      "\n",
      "429 - 85\n",
      "NO\n",
      "Question: What is the total rent income of the top 5 earners?\n",
      "Evidence: nan\n",
      "\n",
      "True SQL:\n",
      "SELECT SUM(\"Rent_Income\") AS Total_Rent_Income\n",
      "FROM catastici\n",
      "WHERE (\"Owner_First_Name\", \"Owner_Family_Name\") IN (\n",
      "SELECT \"Owner_First_Name\", \"Owner_Family_Name\"\n",
      "FROM catastici\n",
      "ORDER BY \"Rent_Income\" DESC\n",
      "LIMIT 5\n",
      ");\n",
      "Generated SQL:\n",
      "\n",
      "SELECT \"Owner_First_Name\", \"Owner_Family_Name\", SUM(\"Rent_Income\") AS Total_Rent_Income\n",
      "FROM catastici\n",
      "GROUP BY \"Owner_First_Name\", \"Owner_Family_Name\"\n",
      "ORDER BY \"Total_Rent_Income\" DESC\n",
      "LIMIT 5;\n",
      "\n",
      "\n",
      "\n",
      "196 - 39\n",
      "NO\n",
      "Question: Identify the landlords whose estates have rental prices oscillating within the 20 to 100 ducati bracket?\n",
      "Evidence: nan\n",
      "\n",
      "True SQL:\n",
      "SELECT DISTINCT \"Owner_First_Name\", \"Owner_Family_Name\"\n",
      "FROM catastici\n",
      "WHERE \"Rent_Income\" BETWEEN 20 AND 100;\n",
      "Generated SQL:\n",
      "\n",
      "SELECT \"Owner_First_Name\", \"Owner_Family_Name\"\n",
      "FROM catastici\n",
      "WHERE \"Rent_Income\" BETWEEN 20 AND 100\n",
      "GROUP BY \"Owner_First_Name\", \"Owner_Family_Name\"\n",
      "HAVING COUNT(DISTINCT \"Rent_Income\") > 1\n",
      "ORDER BY \"Owner_First_Name\", \"Owner_Family_Name\";\n",
      "\n",
      "\n",
      "\n"
     ]
    }
   ],
   "source": [
    "for idx, row in query_wrong[query_wrong.output_2 == \"NO\"].sample(5).iterrows():\n",
    "    print(f\"{idx} - {row['question_id']}\")\n",
    "    print(row['output_2'])\n",
    "    print(f\"Question: {row['question']}\")\n",
    "    print(f\"Evidence: {row['evidence']}\")\n",
    "    print()\n",
    "    print('True SQL:')\n",
    "    print(row['true_query'])\n",
    "    print('Generated SQL:')\n",
    "    print(row['generated_query'])\n",
    "    print('\\n\\n') "
   ]
  },
  {
   "cell_type": "code",
   "execution_count": 31,
   "metadata": {},
   "outputs": [
    {
     "name": "stdout",
     "output_type": "stream",
     "text": [
      "200 - 40\n",
      "YES\n",
      "Question: What's the interval of rental earnings found on \"calle de franchi\"?\n",
      "Evidence: \"Property_Location\" = \"calle de franchi\"\n",
      "\n",
      "True SQL:\n",
      "SELECT MIN(\"Rent_Income\"), MAX(\"Rent_Income\") \n",
      "FROM catastici \n",
      "WHERE \"Property_Location\" = 'calle de franchi';\n",
      "Generated SQL:\n",
      "SELECT MAX(\"Rent_Income\") - MIN(\"Rent_Income\") \n",
      "FROM catastici \n",
      "WHERE \"Property_Location\" = 'calle de franchi';\n",
      "\n",
      "\n",
      "\n",
      "51 - 10\n",
      "YES\n",
      "Question: Who are the entities listed as owners of properties?\n",
      "Evidence: nan\n",
      "\n",
      "True SQL:\n",
      "SELECT DISTINCT \"Owner_First_Name\", \"Owner_Family_Name\" \n",
      "FROM catastici\n",
      "Generated SQL:\n",
      "\n",
      "SELECT \"Owner_First_Name\", \"Owner_Family_Name\"\n",
      "FROM catastici\n",
      "GROUP BY \"Owner_First_Name\", \"Owner_Family_Name\"\n",
      "ORDER BY \"Owner_First_Name\", \"Owner_Family_Name\";\n",
      "\n",
      "\n",
      "\n",
      "324 - 64\n",
      "YES\n",
      "Question: Are there any properties with a rent income lower than 60 ducati?\n",
      "Evidence: nan\n",
      "\n",
      "True SQL:\n",
      "SELECT \"Owner_First_Name\", \"Owner_Family_Name\", \"Property_Type\", \"Rent_Income\", \"Property_Location\" \n",
      "FROM catastici \n",
      "WHERE \"Rent_Income\" < 60\n",
      "limit 1;\n",
      "Generated SQL:\n",
      "\n",
      "SELECT \"Owner_First_Name\", \"Owner_Family_Name\", \"Property_Type\", \"Rent_Income\", \"Property_Location\" \n",
      "FROM catastici \n",
      "WHERE \"Rent_Income\" < 60 ;\n",
      "\n",
      "\n",
      "\n",
      "198 - 39\n",
      "YES\n",
      "Question: What individuals have ownership of assets that feature rent amounts ranging between 20 and 100 ducati?\n",
      "Evidence: nan\n",
      "\n",
      "True SQL:\n",
      "SELECT DISTINCT \"Owner_First_Name\", \"Owner_Family_Name\"\n",
      "FROM catastici\n",
      "WHERE \"Rent_Income\" BETWEEN 20 AND 100;\n",
      "Generated SQL:\n",
      "\n",
      "SELECT \"Owner_First_Name\", \"Owner_Family_Name\", \"Property_Type\", \"Rent_Income\", \"Property_Location\" \n",
      "FROM catastici \n",
      "WHERE \"Rent_Income\" > 20 AND \"Rent_Income\" < 100;\n",
      "\n",
      "\n",
      "\n",
      "461 - 92\n",
      "YES\n",
      "Question: Does the dataset list \"domenico\" \"michiel\" as the owner of the property that generates the minimum rent?\n",
      "Evidence: \"Owner_First_Name\" = \"domenico\"; \"Owner_First_Name\" = \"michiel\"\n",
      "\n",
      "True SQL:\n",
      "SELECT \"Owner_First_Name\", \"Owner_Family_Name\", \"Rent_Income\"\n",
      "FROM catastici\n",
      "WHERE \"Owner_First_Name\" = 'domenico' AND \"Owner_Family_Name\" = 'michiel'\n",
      "AND Rent_Income = ( SELECT MIN(\"Rent_Income\")\n",
      "FROM catastici\n",
      "ORDER BY \"Rent_Income\" ASC\n",
      "LIMIT 1);\n",
      "Generated SQL:\n",
      "\n",
      "SELECT COUNT(*) \n",
      "FROM catastici \n",
      "WHERE Owner_First_Name = \"domenico\" AND Owner_Family_Name = \"michiel\" AND Rent_Income = (SELECT MIN(Rent_Income) FROM catastici);\n",
      "\n",
      "\n",
      "\n"
     ]
    }
   ],
   "source": [
    "for idx, row in query_wrong[query_wrong.output_2 == \"YES\"].sample(5).iterrows():\n",
    "    print(f\"{idx} - {row['question_id']}\")\n",
    "    print(row['output_2'])\n",
    "    print(f\"Question: {row['question']}\")\n",
    "    print(f\"Evidence: {row['evidence']}\")\n",
    "    print()\n",
    "    print('True SQL:')\n",
    "    print(row['true_query'])\n",
    "    print('Generated SQL:')\n",
    "    print(row['generated_query'])\n",
    "    print('\\n\\n') "
   ]
  }
 ],
 "metadata": {
  "kernelspec": {
   "display_name": "base",
   "language": "python",
   "name": "python3"
  },
  "language_info": {
   "codemirror_mode": {
    "name": "ipython",
    "version": 3
   },
   "file_extension": ".py",
   "mimetype": "text/x-python",
   "name": "python",
   "nbconvert_exporter": "python",
   "pygments_lexer": "ipython3",
   "version": "3.10.4"
  }
 },
 "nbformat": 4,
 "nbformat_minor": 2
}
