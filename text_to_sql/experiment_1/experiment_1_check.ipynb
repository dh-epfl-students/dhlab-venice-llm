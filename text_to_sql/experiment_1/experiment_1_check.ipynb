{
 "cells": [
  {
   "cell_type": "code",
   "execution_count": 8,
   "metadata": {},
   "outputs": [
    {
     "name": "stdout",
     "output_type": "stream",
     "text": [
      "sqlite\n",
      "['catastici']\n"
     ]
    },
    {
     "data": {
      "text/plain": [
       "\"[('liberal', 'campi', 'casa e bottega da barbier', 70, 'campo vicino alla chiesa')]\""
      ]
     },
     "execution_count": 8,
     "metadata": {},
     "output_type": "execute_result"
    }
   ],
   "source": [
    "from langchain.chains import create_sql_query_chain\n",
    "from langchain_community.utilities import SQLDatabase\n",
    "\n",
    "db = SQLDatabase.from_uri(\"sqlite:///../data/catastici.db\")\n",
    "\n",
    "# test DB\n",
    "print(db.dialect)\n",
    "print(db.get_usable_table_names())\n",
    "db.run(\"SELECT * FROM catastici LIMIT 1;\")"
   ]
  },
  {
   "cell_type": "code",
   "execution_count": 4,
   "metadata": {},
   "outputs": [],
   "source": [
    "import pandas as pd\n",
    "query_res = pd.read_csv('../data/test_data_generated.csv')"
   ]
  },
  {
   "cell_type": "code",
   "execution_count": 6,
   "metadata": {},
   "outputs": [],
   "source": [
    "import re\n",
    "\n",
    "def clean_query(sql_query):\n",
    "    sql_keywords = [\n",
    "        'FROM', 'WHERE', 'GROUP', 'ORDER', 'HAVING', \n",
    "        'JOIN', 'INNER', 'LEFT', 'RIGHT', 'OUTER', 'ON', \n",
    "        'INSERT', 'INTO', 'VALUES', 'UPDATE', 'SET', 'DELETE', 'CREATE', \n",
    "        'TABLE', 'ALTER', 'DROP', 'INDEX', 'TRUNCATE', 'DISTINCT', 'AS', \n",
    "        'AND', 'OR', 'NOT', 'IN', 'BETWEEN', 'LIKE', 'IS', 'NULL', 'ASC', \n",
    "        'DESC', 'LIMIT', 'OFFSET', 'UNION', 'ALL', 'ANY', 'CASE', 'WHEN', \n",
    "        'THEN', 'ELSE', 'END', 'EXISTS', 'COUNT', 'MAX', 'MIN', 'SUM', \n",
    "        'AVG'\n",
    "    ]\n",
    "    \n",
    "    columns = ['Owner_First_Name', 'Owner_Family_Name', 'Property_Type', 'Property_Location', 'Rent_Income']\n",
    "    \n",
    "    # split on ;\n",
    "    sql_query = sql_query.split(';')[0].split('What')[0].split('How')[0]+';'\n",
    "    \n",
    "    # add white space\n",
    "    for keyword in sql_keywords:\n",
    "        pattern = r'(?<=[a-z0-9\"\\'])' + re.escape(keyword)\n",
    "        sql_query = re.sub(pattern, ' ' + keyword, sql_query)\n",
    "\n",
    "    # replace '\n",
    "    sql_query = re.sub(r\"([a-z])'([a-z])\",r\"\\1''\\2\", sql_query)\n",
    "    \n",
    "    # add white space\n",
    "    if ('LIMIT' in sql_query) and (sql_query[sql_query.find('LIMIT') - 1] != ' '):\n",
    "        sql_query = sql_query.replace('LIMIT',' LIMIT')\n",
    "\n",
    "    # wrap the column names with \" \"\n",
    "    for column in columns:\n",
    "        if f\"{column}\" in sql_query and f'\"{column}\"' not in sql_query:\n",
    "            sql_query = sql_query.replace(f\"{column}\", f'\"{column}\"')\n",
    "\n",
    "\n",
    "    return sql_query\n",
    "\n",
    "def check_sql_executability(query, db):\n",
    "    try:\n",
    "        return db.run(query)\n",
    "    except:\n",
    "        return \"ERROR\""
   ]
  },
  {
   "cell_type": "code",
   "execution_count": 15,
   "metadata": {},
   "outputs": [],
   "source": [
    "for idx, row in query_res.iterrows():\n",
    "    gqs = row['generated_query'].split('\\n')\n",
    "    gqsc = []\n",
    "    final_out = None\n",
    "    for gq in gqs:\n",
    "        gq = clean_query(gq)\n",
    "        gqsc.append(gq)\n",
    "        answer = check_sql_executability(gq, db)\n",
    "        if answer != \"ERROR\":\n",
    "            final_out = gq\n",
    "            break\n",
    "    if final_out == None:\n",
    "        final_out = '\\n'.join(gqsc)\n",
    "        answer = \"ERROR\"\n",
    "    query_res.loc[idx,'generated_answer'] = answer\n",
    "    query_res.loc[idx,'generated_query'] = final_out"
   ]
  },
  {
   "cell_type": "code",
   "execution_count": 12,
   "metadata": {},
   "outputs": [
    {
     "data": {
      "text/plain": [
       "(266, 8)"
      ]
     },
     "execution_count": 12,
     "metadata": {},
     "output_type": "execute_result"
    }
   ],
   "source": [
    "query_res[(query_res['generated_answer']!='ERROR') & (query_res['generated_answer']!=query_res['true_answer'])].shape"
   ]
  },
  {
   "cell_type": "code",
   "execution_count": 13,
   "metadata": {},
   "outputs": [
    {
     "data": {
      "text/plain": [
       "(24, 8)"
      ]
     },
     "execution_count": 13,
     "metadata": {},
     "output_type": "execute_result"
    }
   ],
   "source": [
    "query_res[(query_res['generated_answer']=='ERROR')].shape"
   ]
  },
  {
   "cell_type": "markdown",
   "metadata": {},
   "source": [
    "# Check"
   ]
  },
  {
   "cell_type": "markdown",
   "metadata": {},
   "source": [
    "Wrong -> 266<br>\n",
    "Error -> 24<br>\n",
    "True -> **230**"
   ]
  },
  {
   "cell_type": "markdown",
   "metadata": {},
   "source": [
    "### Wrong Groud Truth\n",
    "5, 20, 35, 40, 90, 155, 165, 170, 185, 481, 121, 309, 312\n",
    "\n",
    "Ambigious questions <br>\n",
    "15-19, 450-454, 85-89, 225-228, 255-259, 260-264, 305-309\n",
    "\n",
    "Super hard<br>\n",
    "494, 488, 478 (CodeS True), 464, 459, 305 (CodeS True)"
   ]
  },
  {
   "cell_type": "markdown",
   "metadata": {},
   "source": [
    "### Wrong generation\n",
    "Split on ; - 2,                         # *solved* <br>\n",
    "Wrap column names with \"\" - 4           # *solved* <br>\n",
    "White Space problem - 6, 10, 29, 30     # *solved* <br>\n",
    "Uppercases the names                    # lowercase everything <br>\n",
    "\n",
    "### Limitations\n",
    "Sometimes, puts non-existing SQL keywords, such as STDDEV, ALL, ... <br>\n",
    "More than 1 arguments in Count <br>\n",
    "\n",
    "Sometimes, it puts extra filter (on Limit) - 3, 8, 11, 12, 13, 14, 25, 35<br>\n",
    "Sometimes, it confuses the feature names: i.e Rent_Income instead of Property_Type"
   ]
  },
  {
   "cell_type": "code",
   "execution_count": null,
   "metadata": {},
   "outputs": [],
   "source": [
    "for idx, row in query_res[(query_res['generated_answer']!='ERROR') & (query_res['generated_answer']!=query_res['true_answer'])].iterrows():\n",
    "    print(f\"{row['level']} - {row['question_id']} - {idx}\")\n",
    "    print(f\"Question: {row['question']}\")\n",
    "    print(f\"Answer True: {row['true_answer']}\")\n",
    "    print(f\"Answer Generated: {row['generated_answer']}\")\n",
    "    print('True SQL:')\n",
    "    print(row['true_query'])\n",
    "    print('Generated SQL:')\n",
    "    print(row['generated_query'])\n",
    "    print('\\n\\n')    "
   ]
  }
 ],
 "metadata": {
  "kernelspec": {
   "display_name": "venice_env",
   "language": "python",
   "name": "python3"
  },
  "language_info": {
   "codemirror_mode": {
    "name": "ipython",
    "version": 3
   },
   "file_extension": ".py",
   "mimetype": "text/x-python",
   "name": "python",
   "nbconvert_exporter": "python",
   "pygments_lexer": "ipython3",
   "version": "3.10.4"
  }
 },
 "nbformat": 4,
 "nbformat_minor": 2
}
