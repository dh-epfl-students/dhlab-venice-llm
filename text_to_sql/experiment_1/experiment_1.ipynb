{
 "cells": [
  {
   "cell_type": "code",
   "execution_count": 1,
   "metadata": {},
   "outputs": [],
   "source": [
    "import pandas as pd\n",
    "# question variants\n",
    "question = pd.read_csv('test_data.csv')\n",
    "\n",
    "# original questions\n",
    "demonstration = question.iloc[list(range(4,500,5))][['question','true_query']].reset_index(drop=True)"
   ]
  },
  {
   "cell_type": "code",
   "execution_count": 7,
   "metadata": {},
   "outputs": [
    {
     "name": "stderr",
     "output_type": "stream",
     "text": [
      "/home/saydalie/.conda/envs/myenv/lib/python3.11/site-packages/tqdm/auto.py:21: TqdmWarning: IProgress not found. Please update jupyter and ipywidgets. See https://ipywidgets.readthedocs.io/en/stable/user_install.html\n",
      "  from .autonotebook import tqdm as notebook_tqdm\n",
      "/home/saydalie/.local/lib/python3.11/site-packages/transformers/utils/hub.py:124: FutureWarning: Using `TRANSFORMERS_CACHE` is deprecated and will be removed in v5 of Transformers. Use `HF_HOME` instead.\n",
      "  warnings.warn(\n"
     ]
    }
   ],
   "source": [
    "from sentence_transformers import SentenceTransformer, util\n",
    "\n",
    "model = SentenceTransformer(\"all-MiniLM-L6-v2\")"
   ]
  },
  {
   "cell_type": "code",
   "execution_count": 8,
   "metadata": {},
   "outputs": [],
   "source": [
    "# Compute embedding for both lists\n",
    "embeddings1 = model.encode(question['question'].tolist(), convert_to_tensor=True)\n",
    "embeddings2 = model.encode(demonstration['question'].tolist(), convert_to_tensor=True)\n",
    "\n",
    "# Compute cosine-similarities\n",
    "cosine_scores = util.cos_sim(embeddings1, embeddings2)"
   ]
  },
  {
   "cell_type": "code",
   "execution_count": 14,
   "metadata": {},
   "outputs": [],
   "source": [
    "import numpy as np\n",
    "few_n = 3\n",
    "top_n_idx = np.argsort(cosine_scores.tolist(), axis=1)[:,::-1][:,1:1+few_n]   # skip the most relevant one"
   ]
  },
  {
   "cell_type": "markdown",
   "metadata": {},
   "source": [
    "# Prompt"
   ]
  },
  {
   "cell_type": "code",
   "execution_count": 16,
   "metadata": {},
   "outputs": [],
   "source": [
    "prompt = \"\"\"table catastici , columns = [ catastici.Owner_First_Name ( text ) , catastici.Owner_Family_Name ( text ) , catastici.Property_Type ( text ) , catastici.Rent_Income ( integer ) , catastici.Property_Location ( text )]\n",
    "Owner_First_Name -- First name of the owner of the property ; Owner_Family_Name -- Family name of the owner of the property ; Property_Type -- Specific type of the property given in Italian. For example, \"casa\", \"bottega da barbier\", \"bottega da fruttariol\". ; Rent_Income -- Rent price of the property that the owner receives as income, given in Venice ancient gold coin ducato. ; Property_Location -- Ancient spproximate toponym of the property given in Italian.\n",
    "{few_shot}\n",
    "{question}\n",
    "\"\"\""
   ]
  },
  {
   "cell_type": "code",
   "execution_count": 17,
   "metadata": {},
   "outputs": [],
   "source": [
    "in_prompt = []\n",
    "for idx, val in enumerate(top_n_idx):\n",
    "    few_shot = '\\n'.join([demonstration.iloc[i]['question']+'\\n'+demonstration.iloc[i]['true_query'].replace('\\n','') for i in val])\n",
    "    q = question.iloc[idx]['question']\n",
    "    in_prompt.append(prompt.format(few_shot=few_shot, question=q))"
   ]
  },
  {
   "cell_type": "markdown",
   "metadata": {},
   "source": [
    "# Inference"
   ]
  },
  {
   "cell_type": "code",
   "execution_count": 21,
   "metadata": {},
   "outputs": [
    {
     "name": "stderr",
     "output_type": "stream",
     "text": [
      "Downloading shards: 100%|████████████████████████████████████████████████████████████████████████████████████| 3/3 [03:05<00:00, 61.84s/it]\n",
      "Loading checkpoint shards: 100%|█████████████████████████████████████████████████████████████████████████████| 3/3 [00:10<00:00,  3.49s/it]\n"
     ]
    },
    {
     "name": "stdout",
     "output_type": "stream",
     "text": [
      "[4620, 319, 3753, 10343, 2082]\n",
      "new_eos_token_id: 2082\n",
      "tokenizer.decode(new_eos_token_id): ' ;'\n"
     ]
    }
   ],
   "source": [
    "from transformers import AutoModelForCausalLM, AutoTokenizer\n",
    "import torch\n",
    "\n",
    "model_name = 'seeklhy/codes-7b'\n",
    "tokenizer = AutoTokenizer.from_pretrained(model_name)\n",
    "model = AutoModelForCausalLM.from_pretrained(\n",
    "    model_name, \n",
    "    device_map = \"auto\", \n",
    "    torch_dtype = torch.float16\n",
    ")\n",
    "\n",
    "# update eos token id of the tokenizer and the model to support early stop SQL generation\n",
    "token_ids_of_example_sql = tokenizer(\"SELECT * FROM tables ;\")[\"input_ids\"]\n",
    "print(token_ids_of_example_sql)\n",
    "if token_ids_of_example_sql[-1] == tokenizer.eos_token_id:\n",
    "    new_eos_token_id = token_ids_of_example_sql[-2]\n",
    "else:\n",
    "    new_eos_token_id = token_ids_of_example_sql[-1]\n",
    "model.config.eos_token_id = new_eos_token_id\n",
    "tokenizer.eos_token_id = new_eos_token_id\n",
    "print(\"new_eos_token_id:\", new_eos_token_id)\n",
    "print(\"tokenizer.decode(new_eos_token_id): '{}'\".format(tokenizer.decode(new_eos_token_id)))"
   ]
  },
  {
   "cell_type": "code",
   "execution_count": 43,
   "metadata": {},
   "outputs": [],
   "source": [
    "import sqlparse\n",
    "\n",
    "def prepare_input_ids_and_attention_mask(tokenizer, input_seq, max_input_length, device):\n",
    "    input_ids = tokenizer(input_seq , truncation = False)[\"input_ids\"]\n",
    "\n",
    "    if len(input_ids) <= max_input_length:\n",
    "        input_ids = input_ids\n",
    "        attention_mask = [1] * len(input_ids)\n",
    "    else:\n",
    "        if tokenizer.name_or_path == \"THUDM/codegeex2-6b\":\n",
    "            input_ids = [64790, 64792] + input_ids[-(max_input_length-2):]\n",
    "        else:\n",
    "            input_ids = [tokenizer.bos_token_id] + input_ids[-(max_input_length-1):]\n",
    "\n",
    "        attention_mask = [1] * max_input_length\n",
    "    \n",
    "    # print(\"len(input_ids):\", len(input_ids))\n",
    " \n",
    "    return {\n",
    "        \"input_ids\": torch.tensor([input_ids]).to(device), # torch.int64\n",
    "        \"attention_mask\": torch.tensor([attention_mask]).to(device) # torch.int64\n",
    "    }\n",
    "\n",
    "def text2sql_func(model, text2sql_input_seq, tokenizer, eos_token_id, max_tokens=8192, max_new_tokens=256):\n",
    "    inputs = prepare_input_ids_and_attention_mask(\n",
    "        tokenizer, \n",
    "        text2sql_input_seq, \n",
    "        max_tokens - max_new_tokens,\n",
    "        model.device\n",
    "    )\n",
    "\n",
    "    input_length = inputs[\"input_ids\"].shape[1]\n",
    "\n",
    "    # check_tokenizer(tokenizer, inputs[\"input_ids\"])\n",
    "\n",
    "    with torch.no_grad():\n",
    "        generate_ids = model.generate(\n",
    "            **inputs,\n",
    "            max_new_tokens = max_new_tokens,\n",
    "            num_beams = 4,\n",
    "            num_return_sequences = 4,\n",
    "            use_cache = True,\n",
    "            eos_token_id = eos_token_id\n",
    "        )\n",
    "\n",
    "    generated_sqls = tokenizer.batch_decode(generate_ids[:, input_length:], skip_special_tokens = True, clean_up_tokenization_spaces = False)\n",
    "    generated_sqls = [generated_sqls[i].split('\\n')[0] for i in range(4)]\n",
    "\n",
    "    return generated_sqls"
   ]
  },
  {
   "cell_type": "code",
   "execution_count": 36,
   "metadata": {},
   "outputs": [
    {
     "name": "stdout",
     "output_type": "stream",
     "text": [
      "table catastici , columns = [ catastici.Owner_First_Name ( text ) , catastici.Owner_Family_Name ( text ) , catastici.Property_Type ( text ) , catastici.Rent_Income ( integer ) , catastici.Property_Location ( text )]\n",
      "Owner_First_Name -- First name of the owner of the property ; Owner_Family_Name -- Family name of the owner of the property ; Property_Type -- Specific type of the property given in Italian. For example, \"casa\", \"bottega da barbier\", \"bottega da fruttariol\". ; Rent_Income -- Rent price of the property that the owner receives as income, given in Venice ancient gold coin ducato. ; Property_Location -- Ancient spproximate toponym of the property given in Italian.\n",
      "What percentage of properties are located in \"fondamenta de carmini\"?\n",
      "SELECT COUNT(*) AS total_properties,        (COUNT(*) * 100.0 / (SELECT COUNT(*) FROM catastici)) AS percentageFROM catasticiWHERE Property_Location = 'fondamenta de carmini'\n",
      "Which property types are present in \"calle di santa cattarina principia alle fondamenta nove\"?\n",
      "SELECT DISTINCT \"Property_Type\" FROM catastici WHERE \"Property_Location\" = 'calle di santa cattarina principia alle fondamenta nove'LIMIT 5;\n",
      "How many properties in the dataset are not houses \"altro appartamento\"?\n",
      "SELECT COUNT(*) FROM catastici WHERE \"Property_Type\" != 'altro appartamento'\n",
      "Can you tell me the number of properties located on \"la calle vicina al campiel dal panizza in arzere\"?\n",
      "\n"
     ]
    }
   ],
   "source": [
    "print(in_prompt[0])"
   ]
  },
  {
   "cell_type": "code",
   "execution_count": 50,
   "metadata": {},
   "outputs": [
    {
     "name": "stderr",
     "output_type": "stream",
     "text": [
      "Setting `pad_token_id` to `eos_token_id`:2082 for open-end generation.\n"
     ]
    }
   ],
   "source": [
    "out = text2sql_func(model, in_prompt[0], tokenizer, new_eos_token_id)"
   ]
  },
  {
   "cell_type": "code",
   "execution_count": null,
   "metadata": {},
   "outputs": [],
   "source": []
  },
  {
   "cell_type": "code",
   "execution_count": 47,
   "metadata": {},
   "outputs": [
    {
     "name": "stdout",
     "output_type": "stream",
     "text": [
      "sqlite\n",
      "['catastici']\n"
     ]
    },
    {
     "data": {
      "text/plain": [
       "\"[('liberal', 'campi', 'casa e bottega da barbier', 70, 'campo vicino alla chiesa')]\""
      ]
     },
     "execution_count": 47,
     "metadata": {},
     "output_type": "execute_result"
    }
   ],
   "source": [
    "from langchain.chains import create_sql_query_chain\n",
    "from langchain_community.utilities import SQLDatabase\n",
    "\n",
    "db = SQLDatabase.from_uri(\"sqlite:///catastici.db\")\n",
    "\n",
    "# test DB\n",
    "print(db.dialect)\n",
    "print(db.get_usable_table_names())\n",
    "db.run(\"SELECT * FROM catastici LIMIT 1;\")"
   ]
  },
  {
   "cell_type": "code",
   "execution_count": 57,
   "metadata": {},
   "outputs": [],
   "source": [
    "def check_sql_executability(query, db):\n",
    "    try:\n",
    "        return db.run(query)\n",
    "    except:\n",
    "        return \"ERROR\""
   ]
  },
  {
   "cell_type": "code",
   "execution_count": null,
   "metadata": {},
   "outputs": [
    {
     "name": "stderr",
     "output_type": "stream",
     "text": [
      "  0%|                                                                                                              | 0/500 [00:00<?, ?it/s]Setting `pad_token_id` to `eos_token_id`:2082 for open-end generation.\n",
      "  0%|▏                                                                                                   | 1/500 [00:10<1:27:17, 10.50s/it]Setting `pad_token_id` to `eos_token_id`:2082 for open-end generation.\n",
      "  0%|▍                                                                                                   | 2/500 [00:20<1:26:48, 10.46s/it]Setting `pad_token_id` to `eos_token_id`:2082 for open-end generation.\n",
      "  1%|▌                                                                                                   | 3/500 [00:31<1:26:35, 10.45s/it]Setting `pad_token_id` to `eos_token_id`:2082 for open-end generation.\n",
      "  1%|▊                                                                                                   | 4/500 [00:41<1:25:40, 10.36s/it]Setting `pad_token_id` to `eos_token_id`:2082 for open-end generation.\n",
      "  1%|█                                                                                                   | 5/500 [00:52<1:25:46, 10.40s/it]Setting `pad_token_id` to `eos_token_id`:2082 for open-end generation.\n",
      "  1%|█▏                                                                                                  | 6/500 [01:02<1:26:40, 10.53s/it]Setting `pad_token_id` to `eos_token_id`:2082 for open-end generation.\n",
      "  1%|█▍                                                                                                  | 7/500 [01:13<1:27:11, 10.61s/it]Setting `pad_token_id` to `eos_token_id`:2082 for open-end generation.\n",
      "  2%|█▌                                                                                                  | 8/500 [01:24<1:26:54, 10.60s/it]Setting `pad_token_id` to `eos_token_id`:2082 for open-end generation.\n",
      "  2%|█▊                                                                                                  | 9/500 [01:34<1:26:36, 10.58s/it]Setting `pad_token_id` to `eos_token_id`:2082 for open-end generation.\n",
      "  2%|█▉                                                                                                 | 10/500 [01:45<1:26:51, 10.64s/it]Setting `pad_token_id` to `eos_token_id`:2082 for open-end generation.\n",
      "  2%|██▏                                                                                                | 11/500 [01:55<1:25:21, 10.47s/it]Setting `pad_token_id` to `eos_token_id`:2082 for open-end generation.\n",
      "  2%|██▍                                                                                                | 12/500 [02:05<1:24:15, 10.36s/it]Setting `pad_token_id` to `eos_token_id`:2082 for open-end generation.\n",
      "  3%|██▌                                                                                                | 13/500 [02:15<1:23:24, 10.28s/it]Setting `pad_token_id` to `eos_token_id`:2082 for open-end generation.\n",
      "  3%|██▊                                                                                                | 14/500 [02:25<1:22:53, 10.23s/it]Setting `pad_token_id` to `eos_token_id`:2082 for open-end generation.\n",
      "  3%|██▉                                                                                                | 15/500 [02:35<1:22:19, 10.19s/it]Setting `pad_token_id` to `eos_token_id`:2082 for open-end generation.\n",
      "  3%|███▏                                                                                               | 16/500 [02:46<1:22:38, 10.24s/it]Setting `pad_token_id` to `eos_token_id`:2082 for open-end generation.\n",
      "  3%|███▎                                                                                               | 17/500 [02:56<1:22:28, 10.25s/it]Setting `pad_token_id` to `eos_token_id`:2082 for open-end generation.\n",
      "  4%|███▌                                                                                               | 18/500 [03:06<1:22:08, 10.22s/it]Setting `pad_token_id` to `eos_token_id`:2082 for open-end generation.\n",
      "  4%|███▊                                                                                               | 19/500 [03:17<1:23:04, 10.36s/it]Setting `pad_token_id` to `eos_token_id`:2082 for open-end generation.\n",
      "  4%|███▉                                                                                               | 20/500 [03:34<1:38:05, 12.26s/it]Setting `pad_token_id` to `eos_token_id`:2082 for open-end generation.\n",
      "  4%|████▏                                                                                              | 21/500 [03:44<1:34:19, 11.82s/it]Setting `pad_token_id` to `eos_token_id`:2082 for open-end generation.\n",
      "  4%|████▎                                                                                              | 22/500 [03:55<1:30:40, 11.38s/it]Setting `pad_token_id` to `eos_token_id`:2082 for open-end generation.\n",
      "  5%|████▌                                                                                              | 23/500 [04:06<1:29:11, 11.22s/it]Setting `pad_token_id` to `eos_token_id`:2082 for open-end generation.\n",
      "  5%|████▊                                                                                              | 24/500 [04:16<1:27:37, 11.05s/it]Setting `pad_token_id` to `eos_token_id`:2082 for open-end generation.\n",
      "  5%|████▉                                                                                              | 25/500 [04:27<1:26:51, 10.97s/it]Setting `pad_token_id` to `eos_token_id`:2082 for open-end generation.\n",
      "  5%|█████▏                                                                                             | 26/500 [04:38<1:26:11, 10.91s/it]Setting `pad_token_id` to `eos_token_id`:2082 for open-end generation.\n",
      "  5%|█████▎                                                                                             | 27/500 [04:48<1:25:06, 10.80s/it]Setting `pad_token_id` to `eos_token_id`:2082 for open-end generation.\n",
      "  6%|█████▌                                                                                             | 28/500 [04:59<1:24:52, 10.79s/it]Setting `pad_token_id` to `eos_token_id`:2082 for open-end generation.\n",
      "  6%|█████▋                                                                                             | 29/500 [05:10<1:24:03, 10.71s/it]Setting `pad_token_id` to `eos_token_id`:2082 for open-end generation.\n",
      "  6%|█████▉                                                                                             | 30/500 [05:20<1:23:27, 10.65s/it]Setting `pad_token_id` to `eos_token_id`:2082 for open-end generation.\n",
      "  6%|██████▏                                                                                            | 31/500 [05:30<1:22:12, 10.52s/it]Setting `pad_token_id` to `eos_token_id`:2082 for open-end generation.\n",
      "  6%|██████▎                                                                                            | 32/500 [05:41<1:21:21, 10.43s/it]Setting `pad_token_id` to `eos_token_id`:2082 for open-end generation.\n",
      "  7%|██████▌                                                                                            | 33/500 [05:51<1:20:46, 10.38s/it]Setting `pad_token_id` to `eos_token_id`:2082 for open-end generation.\n",
      "  7%|██████▋                                                                                            | 34/500 [06:01<1:20:22, 10.35s/it]Setting `pad_token_id` to `eos_token_id`:2082 for open-end generation.\n",
      "  7%|██████▉                                                                                            | 35/500 [06:11<1:19:53, 10.31s/it]Setting `pad_token_id` to `eos_token_id`:2082 for open-end generation.\n",
      "  7%|███████▏                                                                                           | 36/500 [06:22<1:19:46, 10.32s/it]Setting `pad_token_id` to `eos_token_id`:2082 for open-end generation.\n",
      "  7%|███████▎                                                                                           | 37/500 [06:32<1:19:28, 10.30s/it]Setting `pad_token_id` to `eos_token_id`:2082 for open-end generation.\n",
      "  8%|███████▌                                                                                           | 38/500 [06:42<1:19:39, 10.34s/it]Setting `pad_token_id` to `eos_token_id`:2082 for open-end generation.\n",
      "  8%|███████▋                                                                                           | 39/500 [06:53<1:19:59, 10.41s/it]Setting `pad_token_id` to `eos_token_id`:2082 for open-end generation.\n",
      "  8%|███████▉                                                                                           | 40/500 [07:03<1:19:34, 10.38s/it]Setting `pad_token_id` to `eos_token_id`:2082 for open-end generation.\n",
      "  8%|████████                                                                                           | 41/500 [07:14<1:20:08, 10.48s/it]Setting `pad_token_id` to `eos_token_id`:2082 for open-end generation.\n",
      "  8%|████████▎                                                                                          | 42/500 [07:25<1:20:29, 10.54s/it]Setting `pad_token_id` to `eos_token_id`:2082 for open-end generation.\n",
      "  9%|████████▌                                                                                          | 43/500 [07:36<1:21:09, 10.66s/it]Setting `pad_token_id` to `eos_token_id`:2082 for open-end generation.\n",
      "  9%|████████▋                                                                                          | 44/500 [07:47<1:21:35, 10.74s/it]Setting `pad_token_id` to `eos_token_id`:2082 for open-end generation.\n",
      "  9%|████████▉                                                                                          | 45/500 [07:57<1:21:32, 10.75s/it]Setting `pad_token_id` to `eos_token_id`:2082 for open-end generation.\n",
      "  9%|█████████                                                                                          | 46/500 [08:07<1:19:40, 10.53s/it]Setting `pad_token_id` to `eos_token_id`:2082 for open-end generation.\n",
      "  9%|█████████▎                                                                                         | 47/500 [08:17<1:18:06, 10.34s/it]Setting `pad_token_id` to `eos_token_id`:2082 for open-end generation.\n",
      " 10%|█████████▌                                                                                         | 48/500 [08:27<1:17:00, 10.22s/it]Setting `pad_token_id` to `eos_token_id`:2082 for open-end generation.\n",
      " 10%|█████████▋                                                                                         | 49/500 [08:37<1:16:20, 10.16s/it]Setting `pad_token_id` to `eos_token_id`:2082 for open-end generation.\n",
      " 10%|█████████▉                                                                                         | 50/500 [08:47<1:15:56, 10.12s/it]Setting `pad_token_id` to `eos_token_id`:2082 for open-end generation.\n",
      " 10%|██████████                                                                                         | 51/500 [08:58<1:16:19, 10.20s/it]Setting `pad_token_id` to `eos_token_id`:2082 for open-end generation.\n",
      " 10%|██████████▎                                                                                        | 52/500 [09:08<1:16:18, 10.22s/it]Setting `pad_token_id` to `eos_token_id`:2082 for open-end generation.\n",
      " 11%|██████████▍                                                                                        | 53/500 [09:18<1:15:43, 10.16s/it]Setting `pad_token_id` to `eos_token_id`:2082 for open-end generation.\n",
      " 11%|██████████▋                                                                                        | 54/500 [09:28<1:15:27, 10.15s/it]Setting `pad_token_id` to `eos_token_id`:2082 for open-end generation.\n",
      " 11%|██████████▉                                                                                        | 55/500 [09:38<1:15:11, 10.14s/it]Setting `pad_token_id` to `eos_token_id`:2082 for open-end generation.\n",
      " 11%|███████████                                                                                        | 56/500 [09:48<1:15:07, 10.15s/it]Setting `pad_token_id` to `eos_token_id`:2082 for open-end generation.\n",
      " 11%|███████████▎                                                                                       | 57/500 [09:59<1:15:10, 10.18s/it]Setting `pad_token_id` to `eos_token_id`:2082 for open-end generation.\n",
      " 12%|███████████▍                                                                                       | 58/500 [10:09<1:16:24, 10.37s/it]Setting `pad_token_id` to `eos_token_id`:2082 for open-end generation.\n",
      " 12%|███████████▋                                                                                       | 59/500 [10:20<1:16:39, 10.43s/it]Setting `pad_token_id` to `eos_token_id`:2082 for open-end generation.\n",
      " 12%|███████████▉                                                                                       | 60/500 [10:31<1:16:51, 10.48s/it]Setting `pad_token_id` to `eos_token_id`:2082 for open-end generation.\n",
      " 12%|████████████                                                                                       | 61/500 [10:41<1:15:59, 10.39s/it]Setting `pad_token_id` to `eos_token_id`:2082 for open-end generation.\n",
      " 12%|████████████▎                                                                                      | 62/500 [10:51<1:15:11, 10.30s/it]Setting `pad_token_id` to `eos_token_id`:2082 for open-end generation.\n",
      " 13%|████████████▍                                                                                      | 63/500 [11:01<1:14:34, 10.24s/it]Setting `pad_token_id` to `eos_token_id`:2082 for open-end generation.\n",
      " 13%|████████████▋                                                                                      | 64/500 [11:11<1:14:10, 10.21s/it]Setting `pad_token_id` to `eos_token_id`:2082 for open-end generation.\n",
      " 13%|████████████▊                                                                                      | 65/500 [11:21<1:13:47, 10.18s/it]Setting `pad_token_id` to `eos_token_id`:2082 for open-end generation.\n",
      " 13%|█████████████                                                                                      | 66/500 [11:31<1:13:50, 10.21s/it]Setting `pad_token_id` to `eos_token_id`:2082 for open-end generation.\n",
      " 13%|█████████████▎                                                                                     | 67/500 [11:41<1:13:16, 10.15s/it]Setting `pad_token_id` to `eos_token_id`:2082 for open-end generation.\n",
      " 14%|█████████████▍                                                                                     | 68/500 [11:51<1:12:40, 10.09s/it]Setting `pad_token_id` to `eos_token_id`:2082 for open-end generation.\n",
      " 14%|█████████████▋                                                                                     | 69/500 [12:01<1:12:17, 10.06s/it]Setting `pad_token_id` to `eos_token_id`:2082 for open-end generation.\n",
      " 14%|█████████████▊                                                                                     | 70/500 [12:11<1:11:52, 10.03s/it]Setting `pad_token_id` to `eos_token_id`:2082 for open-end generation.\n",
      " 14%|██████████████                                                                                     | 71/500 [12:22<1:13:20, 10.26s/it]Setting `pad_token_id` to `eos_token_id`:2082 for open-end generation.\n",
      " 14%|██████████████▎                                                                                    | 72/500 [12:33<1:14:16, 10.41s/it]Setting `pad_token_id` to `eos_token_id`:2082 for open-end generation.\n",
      " 15%|██████████████▍                                                                                    | 73/500 [12:44<1:14:51, 10.52s/it]Setting `pad_token_id` to `eos_token_id`:2082 for open-end generation.\n",
      " 15%|██████████████▋                                                                                    | 74/500 [12:54<1:15:10, 10.59s/it]Setting `pad_token_id` to `eos_token_id`:2082 for open-end generation.\n",
      " 15%|██████████████▊                                                                                    | 75/500 [13:05<1:15:22, 10.64s/it]Setting `pad_token_id` to `eos_token_id`:2082 for open-end generation.\n",
      " 15%|███████████████                                                                                    | 76/500 [13:16<1:14:34, 10.55s/it]Setting `pad_token_id` to `eos_token_id`:2082 for open-end generation.\n",
      " 15%|███████████████▏                                                                                   | 77/500 [13:26<1:13:45, 10.46s/it]Setting `pad_token_id` to `eos_token_id`:2082 for open-end generation.\n",
      " 16%|███████████████▍                                                                                   | 78/500 [13:36<1:13:02, 10.39s/it]Setting `pad_token_id` to `eos_token_id`:2082 for open-end generation.\n",
      " 16%|███████████████▋                                                                                   | 79/500 [13:46<1:12:56, 10.40s/it]Setting `pad_token_id` to `eos_token_id`:2082 for open-end generation.\n",
      " 16%|███████████████▊                                                                                   | 80/500 [13:57<1:13:33, 10.51s/it]Setting `pad_token_id` to `eos_token_id`:2082 for open-end generation.\n",
      " 16%|████████████████                                                                                   | 81/500 [14:07<1:12:34, 10.39s/it]Setting `pad_token_id` to `eos_token_id`:2082 for open-end generation.\n",
      " 16%|████████████████▏                                                                                  | 82/500 [14:18<1:12:27, 10.40s/it]Setting `pad_token_id` to `eos_token_id`:2082 for open-end generation.\n",
      " 17%|████████████████▍                                                                                  | 83/500 [14:28<1:11:51, 10.34s/it]Setting `pad_token_id` to `eos_token_id`:2082 for open-end generation.\n",
      " 17%|████████████████▋                                                                                  | 84/500 [14:38<1:11:09, 10.26s/it]Setting `pad_token_id` to `eos_token_id`:2082 for open-end generation.\n",
      " 17%|████████████████▊                                                                                  | 85/500 [14:48<1:10:48, 10.24s/it]Setting `pad_token_id` to `eos_token_id`:2082 for open-end generation.\n",
      " 17%|█████████████████                                                                                  | 86/500 [14:58<1:10:38, 10.24s/it]Setting `pad_token_id` to `eos_token_id`:2082 for open-end generation.\n",
      " 17%|█████████████████▏                                                                                 | 87/500 [15:09<1:10:28, 10.24s/it]Setting `pad_token_id` to `eos_token_id`:2082 for open-end generation.\n",
      " 18%|█████████████████▍                                                                                 | 88/500 [15:19<1:10:19, 10.24s/it]Setting `pad_token_id` to `eos_token_id`:2082 for open-end generation.\n",
      " 18%|█████████████████▌                                                                                 | 89/500 [15:29<1:10:13, 10.25s/it]Setting `pad_token_id` to `eos_token_id`:2082 for open-end generation.\n",
      " 18%|█████████████████▊                                                                                 | 90/500 [15:39<1:09:51, 10.22s/it]Setting `pad_token_id` to `eos_token_id`:2082 for open-end generation.\n",
      " 18%|██████████████████                                                                                 | 91/500 [15:50<1:09:36, 10.21s/it]Setting `pad_token_id` to `eos_token_id`:2082 for open-end generation.\n",
      " 18%|██████████████████▏                                                                                | 92/500 [15:59<1:08:47, 10.12s/it]Setting `pad_token_id` to `eos_token_id`:2082 for open-end generation.\n",
      " 19%|██████████████████▍                                                                                | 93/500 [16:10<1:08:45, 10.14s/it]Setting `pad_token_id` to `eos_token_id`:2082 for open-end generation.\n",
      " 19%|██████████████████▌                                                                                | 94/500 [16:20<1:09:04, 10.21s/it]Setting `pad_token_id` to `eos_token_id`:2082 for open-end generation.\n",
      " 19%|██████████████████▊                                                                                | 95/500 [16:30<1:08:48, 10.19s/it]Setting `pad_token_id` to `eos_token_id`:2082 for open-end generation.\n",
      " 19%|███████████████████                                                                                | 96/500 [16:41<1:09:21, 10.30s/it]Setting `pad_token_id` to `eos_token_id`:2082 for open-end generation.\n",
      " 19%|███████████████████▏                                                                               | 97/500 [16:51<1:09:58, 10.42s/it]Setting `pad_token_id` to `eos_token_id`:2082 for open-end generation.\n",
      " 20%|███████████████████▍                                                                               | 98/500 [17:02<1:10:34, 10.53s/it]Setting `pad_token_id` to `eos_token_id`:2082 for open-end generation.\n",
      " 20%|███████████████████▌                                                                               | 99/500 [17:17<1:18:35, 11.76s/it]Setting `pad_token_id` to `eos_token_id`:2082 for open-end generation.\n",
      " 20%|███████████████████▌                                                                              | 100/500 [17:28<1:16:17, 11.44s/it]Setting `pad_token_id` to `eos_token_id`:2082 for open-end generation.\n",
      " 20%|███████████████████▊                                                                              | 101/500 [17:38<1:14:40, 11.23s/it]Setting `pad_token_id` to `eos_token_id`:2082 for open-end generation.\n",
      " 20%|███████████████████▉                                                                              | 102/500 [17:49<1:13:07, 11.02s/it]Setting `pad_token_id` to `eos_token_id`:2082 for open-end generation.\n",
      " 21%|████████████████████▏                                                                             | 103/500 [17:59<1:11:59, 10.88s/it]Setting `pad_token_id` to `eos_token_id`:2082 for open-end generation.\n",
      " 21%|████████████████████▍                                                                             | 104/500 [18:10<1:11:09, 10.78s/it]Setting `pad_token_id` to `eos_token_id`:2082 for open-end generation.\n",
      " 21%|████████████████████▌                                                                             | 105/500 [18:21<1:10:50, 10.76s/it]Setting `pad_token_id` to `eos_token_id`:2082 for open-end generation.\n",
      " 21%|████████████████████▊                                                                             | 106/500 [18:31<1:09:21, 10.56s/it]Setting `pad_token_id` to `eos_token_id`:2082 for open-end generation.\n",
      " 21%|████████████████████▉                                                                             | 107/500 [18:41<1:08:12, 10.41s/it]Setting `pad_token_id` to `eos_token_id`:2082 for open-end generation.\n",
      " 22%|█████████████████████▏                                                                            | 108/500 [18:51<1:07:30, 10.33s/it]Setting `pad_token_id` to `eos_token_id`:2082 for open-end generation.\n",
      " 22%|█████████████████████▎                                                                            | 109/500 [19:01<1:06:57, 10.27s/it]Setting `pad_token_id` to `eos_token_id`:2082 for open-end generation.\n",
      " 22%|█████████████████████▌                                                                            | 110/500 [19:11<1:06:24, 10.22s/it]Setting `pad_token_id` to `eos_token_id`:2082 for open-end generation.\n",
      " 22%|█████████████████████▊                                                                            | 111/500 [19:22<1:06:40, 10.28s/it]Setting `pad_token_id` to `eos_token_id`:2082 for open-end generation.\n",
      " 22%|█████████████████████▉                                                                            | 112/500 [19:32<1:06:53, 10.34s/it]Setting `pad_token_id` to `eos_token_id`:2082 for open-end generation.\n",
      " 23%|██████████████████████▏                                                                           | 113/500 [19:43<1:06:55, 10.38s/it]Setting `pad_token_id` to `eos_token_id`:2082 for open-end generation.\n",
      " 23%|██████████████████████▎                                                                           | 114/500 [19:53<1:06:46, 10.38s/it]Setting `pad_token_id` to `eos_token_id`:2082 for open-end generation.\n",
      " 23%|██████████████████████▌                                                                           | 115/500 [20:03<1:06:42, 10.40s/it]Setting `pad_token_id` to `eos_token_id`:2082 for open-end generation.\n",
      " 23%|██████████████████████▋                                                                           | 116/500 [20:14<1:06:15, 10.35s/it]Setting `pad_token_id` to `eos_token_id`:2082 for open-end generation.\n",
      " 23%|██████████████████████▉                                                                           | 117/500 [20:24<1:06:10, 10.37s/it]Setting `pad_token_id` to `eos_token_id`:2082 for open-end generation.\n",
      " 24%|███████████████████████▏                                                                          | 118/500 [20:34<1:05:43, 10.32s/it]Setting `pad_token_id` to `eos_token_id`:2082 for open-end generation.\n",
      " 24%|███████████████████████▎                                                                          | 119/500 [20:44<1:05:06, 10.25s/it]Setting `pad_token_id` to `eos_token_id`:2082 for open-end generation.\n",
      " 24%|███████████████████████▌                                                                          | 120/500 [20:55<1:04:55, 10.25s/it]Setting `pad_token_id` to `eos_token_id`:2082 for open-end generation.\n",
      " 24%|███████████████████████▋                                                                          | 121/500 [21:05<1:05:06, 10.31s/it]Setting `pad_token_id` to `eos_token_id`:2082 for open-end generation.\n",
      " 24%|███████████████████████▉                                                                          | 122/500 [21:15<1:05:08, 10.34s/it]Setting `pad_token_id` to `eos_token_id`:2082 for open-end generation.\n",
      " 25%|████████████████████████                                                                          | 123/500 [21:26<1:05:03, 10.36s/it]Setting `pad_token_id` to `eos_token_id`:2082 for open-end generation.\n",
      " 25%|████████████████████████▎                                                                         | 124/500 [21:36<1:05:01, 10.38s/it]Setting `pad_token_id` to `eos_token_id`:2082 for open-end generation.\n",
      " 25%|████████████████████████▌                                                                         | 125/500 [21:47<1:04:48, 10.37s/it]Setting `pad_token_id` to `eos_token_id`:2082 for open-end generation.\n",
      " 25%|████████████████████████▋                                                                         | 126/500 [21:57<1:05:17, 10.48s/it]Setting `pad_token_id` to `eos_token_id`:2082 for open-end generation.\n",
      " 25%|████████████████████████▉                                                                         | 127/500 [22:08<1:05:13, 10.49s/it]Setting `pad_token_id` to `eos_token_id`:2082 for open-end generation.\n",
      " 26%|█████████████████████████                                                                         | 128/500 [22:18<1:05:04, 10.50s/it]Setting `pad_token_id` to `eos_token_id`:2082 for open-end generation.\n",
      " 26%|█████████████████████████▎                                                                        | 129/500 [22:29<1:04:55, 10.50s/it]Setting `pad_token_id` to `eos_token_id`:2082 for open-end generation.\n",
      " 26%|█████████████████████████▍                                                                        | 130/500 [22:39<1:04:46, 10.50s/it]Setting `pad_token_id` to `eos_token_id`:2082 for open-end generation.\n",
      " 26%|█████████████████████████▋                                                                        | 131/500 [22:50<1:04:52, 10.55s/it]Setting `pad_token_id` to `eos_token_id`:2082 for open-end generation.\n",
      " 26%|█████████████████████████▊                                                                        | 132/500 [23:00<1:04:17, 10.48s/it]Setting `pad_token_id` to `eos_token_id`:2082 for open-end generation.\n",
      " 27%|██████████████████████████                                                                        | 133/500 [23:11<1:04:21, 10.52s/it]Setting `pad_token_id` to `eos_token_id`:2082 for open-end generation.\n",
      " 27%|██████████████████████████▎                                                                       | 134/500 [23:22<1:04:19, 10.55s/it]Setting `pad_token_id` to `eos_token_id`:2082 for open-end generation.\n",
      " 27%|██████████████████████████▍                                                                       | 135/500 [23:32<1:04:07, 10.54s/it]Setting `pad_token_id` to `eos_token_id`:2082 for open-end generation.\n",
      " 27%|██████████████████████████▋                                                                       | 136/500 [23:42<1:03:37, 10.49s/it]Setting `pad_token_id` to `eos_token_id`:2082 for open-end generation.\n",
      " 27%|██████████████████████████▊                                                                       | 137/500 [23:53<1:03:05, 10.43s/it]Setting `pad_token_id` to `eos_token_id`:2082 for open-end generation.\n",
      " 28%|███████████████████████████                                                                       | 138/500 [24:03<1:02:51, 10.42s/it]Setting `pad_token_id` to `eos_token_id`:2082 for open-end generation.\n",
      " 28%|███████████████████████████▏                                                                      | 139/500 [24:13<1:02:20, 10.36s/it]Setting `pad_token_id` to `eos_token_id`:2082 for open-end generation.\n",
      " 28%|███████████████████████████▍                                                                      | 140/500 [24:24<1:02:08, 10.36s/it]Setting `pad_token_id` to `eos_token_id`:2082 for open-end generation.\n",
      " 28%|███████████████████████████▋                                                                      | 141/500 [24:34<1:01:33, 10.29s/it]Setting `pad_token_id` to `eos_token_id`:2082 for open-end generation.\n",
      " 28%|███████████████████████████▊                                                                      | 142/500 [24:44<1:01:03, 10.23s/it]Setting `pad_token_id` to `eos_token_id`:2082 for open-end generation.\n",
      " 29%|████████████████████████████                                                                      | 143/500 [24:54<1:00:44, 10.21s/it]Setting `pad_token_id` to `eos_token_id`:2082 for open-end generation.\n",
      " 29%|████████████████████████████▏                                                                     | 144/500 [25:04<1:00:28, 10.19s/it]Setting `pad_token_id` to `eos_token_id`:2082 for open-end generation.\n",
      " 29%|████████████████████████████▍                                                                     | 145/500 [25:14<1:00:07, 10.16s/it]Setting `pad_token_id` to `eos_token_id`:2082 for open-end generation.\n",
      " 29%|████████████████████████████▌                                                                     | 146/500 [25:25<1:00:15, 10.21s/it]Setting `pad_token_id` to `eos_token_id`:2082 for open-end generation.\n",
      " 29%|████████████████████████████▊                                                                     | 147/500 [25:35<1:00:57, 10.36s/it]Setting `pad_token_id` to `eos_token_id`:2082 for open-end generation.\n",
      " 30%|█████████████████████████████                                                                     | 148/500 [25:46<1:00:46, 10.36s/it]Setting `pad_token_id` to `eos_token_id`:2082 for open-end generation.\n",
      " 30%|█████████████████████████████▏                                                                    | 149/500 [25:56<1:00:46, 10.39s/it]Setting `pad_token_id` to `eos_token_id`:2082 for open-end generation.\n",
      " 30%|█████████████████████████████▍                                                                    | 150/500 [26:07<1:00:40, 10.40s/it]Setting `pad_token_id` to `eos_token_id`:2082 for open-end generation.\n",
      " 30%|██████████████████████████████▏                                                                     | 151/500 [26:17<59:56, 10.30s/it]Setting `pad_token_id` to `eos_token_id`:2082 for open-end generation.\n",
      " 30%|██████████████████████████████▍                                                                     | 152/500 [26:27<59:23, 10.24s/it]Setting `pad_token_id` to `eos_token_id`:2082 for open-end generation.\n",
      " 31%|██████████████████████████████▌                                                                     | 153/500 [26:37<58:55, 10.19s/it]Setting `pad_token_id` to `eos_token_id`:2082 for open-end generation.\n",
      " 31%|██████████████████████████████▊                                                                     | 154/500 [26:47<58:35, 10.16s/it]Setting `pad_token_id` to `eos_token_id`:2082 for open-end generation.\n",
      " 31%|███████████████████████████████                                                                     | 155/500 [26:57<58:17, 10.14s/it]Setting `pad_token_id` to `eos_token_id`:2082 for open-end generation.\n",
      " 31%|███████████████████████████████▏                                                                    | 156/500 [27:07<57:45, 10.07s/it]Setting `pad_token_id` to `eos_token_id`:2082 for open-end generation.\n",
      " 31%|███████████████████████████████▍                                                                    | 157/500 [27:17<57:06,  9.99s/it]Setting `pad_token_id` to `eos_token_id`:2082 for open-end generation.\n",
      " 32%|███████████████████████████████▌                                                                    | 158/500 [27:27<56:47,  9.96s/it]Setting `pad_token_id` to `eos_token_id`:2082 for open-end generation.\n",
      " 32%|███████████████████████████████▊                                                                    | 159/500 [27:36<56:23,  9.92s/it]Setting `pad_token_id` to `eos_token_id`:2082 for open-end generation.\n",
      " 32%|████████████████████████████████                                                                    | 160/500 [27:46<56:13,  9.92s/it]Setting `pad_token_id` to `eos_token_id`:2082 for open-end generation.\n",
      " 32%|████████████████████████████████▏                                                                   | 161/500 [27:57<56:59, 10.09s/it]Setting `pad_token_id` to `eos_token_id`:2082 for open-end generation.\n",
      " 32%|████████████████████████████████▍                                                                   | 162/500 [28:07<57:27, 10.20s/it]Setting `pad_token_id` to `eos_token_id`:2082 for open-end generation.\n",
      " 33%|████████████████████████████████▌                                                                   | 163/500 [28:18<58:14, 10.37s/it]Setting `pad_token_id` to `eos_token_id`:2082 for open-end generation.\n",
      " 33%|████████████████████████████████▊                                                                   | 164/500 [28:29<58:30, 10.45s/it]Setting `pad_token_id` to `eos_token_id`:2082 for open-end generation.\n",
      " 33%|█████████████████████████████████                                                                   | 165/500 [28:39<58:25, 10.46s/it]Setting `pad_token_id` to `eos_token_id`:2082 for open-end generation.\n",
      " 33%|█████████████████████████████████▏                                                                  | 166/500 [28:50<58:05, 10.44s/it]Setting `pad_token_id` to `eos_token_id`:2082 for open-end generation.\n",
      " 33%|█████████████████████████████████▍                                                                  | 167/500 [29:00<57:50, 10.42s/it]Setting `pad_token_id` to `eos_token_id`:2082 for open-end generation.\n",
      " 34%|█████████████████████████████████▌                                                                  | 168/500 [29:10<57:32, 10.40s/it]Setting `pad_token_id` to `eos_token_id`:2082 for open-end generation.\n",
      " 34%|█████████████████████████████████▊                                                                  | 169/500 [29:21<57:33, 10.43s/it]Setting `pad_token_id` to `eos_token_id`:2082 for open-end generation.\n",
      " 34%|██████████████████████████████████                                                                  | 170/500 [29:31<57:31, 10.46s/it]Setting `pad_token_id` to `eos_token_id`:2082 for open-end generation.\n",
      " 34%|██████████████████████████████████▏                                                                 | 171/500 [29:42<57:22, 10.46s/it]Setting `pad_token_id` to `eos_token_id`:2082 for open-end generation.\n",
      " 34%|██████████████████████████████████▍                                                                 | 172/500 [29:52<57:00, 10.43s/it]Setting `pad_token_id` to `eos_token_id`:2082 for open-end generation.\n",
      " 35%|██████████████████████████████████▌                                                                 | 173/500 [30:03<56:55, 10.45s/it]Setting `pad_token_id` to `eos_token_id`:2082 for open-end generation.\n",
      " 35%|██████████████████████████████████▊                                                                 | 174/500 [30:13<56:42, 10.44s/it]Setting `pad_token_id` to `eos_token_id`:2082 for open-end generation.\n",
      " 35%|███████████████████████████████████                                                                 | 175/500 [30:24<56:29, 10.43s/it]Setting `pad_token_id` to `eos_token_id`:2082 for open-end generation.\n",
      " 35%|███████████████████████████████████▏                                                                | 176/500 [30:34<56:17, 10.42s/it]Setting `pad_token_id` to `eos_token_id`:2082 for open-end generation.\n",
      " 35%|███████████████████████████████████▍                                                                | 177/500 [30:44<56:08, 10.43s/it]Setting `pad_token_id` to `eos_token_id`:2082 for open-end generation.\n",
      " 36%|███████████████████████████████████▌                                                                | 178/500 [30:55<55:54, 10.42s/it]Setting `pad_token_id` to `eos_token_id`:2082 for open-end generation.\n",
      " 36%|███████████████████████████████████▊                                                                | 179/500 [31:05<55:43, 10.42s/it]Setting `pad_token_id` to `eos_token_id`:2082 for open-end generation.\n",
      " 36%|████████████████████████████████████                                                                | 180/500 [31:16<55:27, 10.40s/it]Setting `pad_token_id` to `eos_token_id`:2082 for open-end generation.\n",
      " 36%|████████████████████████████████████▏                                                               | 181/500 [31:26<55:21, 10.41s/it]Setting `pad_token_id` to `eos_token_id`:2082 for open-end generation.\n",
      " 36%|████████████████████████████████████▍                                                               | 182/500 [31:37<55:25, 10.46s/it]Setting `pad_token_id` to `eos_token_id`:2082 for open-end generation.\n",
      " 37%|████████████████████████████████████▌                                                               | 183/500 [31:47<55:08, 10.44s/it]Setting `pad_token_id` to `eos_token_id`:2082 for open-end generation.\n",
      " 37%|████████████████████████████████████▊                                                               | 184/500 [31:58<55:24, 10.52s/it]Setting `pad_token_id` to `eos_token_id`:2082 for open-end generation.\n",
      " 37%|█████████████████████████████████████                                                               | 185/500 [32:08<54:48, 10.44s/it]Setting `pad_token_id` to `eos_token_id`:2082 for open-end generation.\n",
      " 37%|█████████████████████████████████████▏                                                              | 186/500 [32:18<54:48, 10.47s/it]Setting `pad_token_id` to `eos_token_id`:2082 for open-end generation.\n",
      " 37%|█████████████████████████████████████▍                                                              | 187/500 [32:29<54:30, 10.45s/it]Setting `pad_token_id` to `eos_token_id`:2082 for open-end generation.\n",
      " 38%|█████████████████████████████████████▌                                                              | 188/500 [32:39<54:21, 10.45s/it]Setting `pad_token_id` to `eos_token_id`:2082 for open-end generation.\n",
      " 38%|█████████████████████████████████████▊                                                              | 189/500 [32:50<54:09, 10.45s/it]Setting `pad_token_id` to `eos_token_id`:2082 for open-end generation.\n",
      " 38%|██████████████████████████████████████                                                              | 190/500 [33:00<53:53, 10.43s/it]Setting `pad_token_id` to `eos_token_id`:2082 for open-end generation.\n",
      " 38%|██████████████████████████████████████▏                                                             | 191/500 [33:11<53:51, 10.46s/it]Setting `pad_token_id` to `eos_token_id`:2082 for open-end generation.\n",
      " 38%|██████████████████████████████████████▍                                                             | 192/500 [33:21<53:41, 10.46s/it]Setting `pad_token_id` to `eos_token_id`:2082 for open-end generation.\n",
      " 39%|██████████████████████████████████████▌                                                             | 193/500 [33:31<53:13, 10.40s/it]Setting `pad_token_id` to `eos_token_id`:2082 for open-end generation.\n",
      " 39%|██████████████████████████████████████▊                                                             | 194/500 [33:41<52:29, 10.29s/it]Setting `pad_token_id` to `eos_token_id`:2082 for open-end generation.\n",
      " 39%|███████████████████████████████████████                                                             | 195/500 [33:51<51:53, 10.21s/it]Setting `pad_token_id` to `eos_token_id`:2082 for open-end generation.\n",
      " 39%|███████████████████████████████████████▏                                                            | 196/500 [34:02<51:31, 10.17s/it]Setting `pad_token_id` to `eos_token_id`:2082 for open-end generation.\n",
      " 39%|███████████████████████████████████████▍                                                            | 197/500 [34:12<51:23, 10.18s/it]Setting `pad_token_id` to `eos_token_id`:2082 for open-end generation.\n",
      " 40%|███████████████████████████████████████▌                                                            | 198/500 [34:22<51:31, 10.24s/it]Setting `pad_token_id` to `eos_token_id`:2082 for open-end generation.\n",
      " 40%|███████████████████████████████████████▊                                                            | 199/500 [34:32<51:08, 10.20s/it]Setting `pad_token_id` to `eos_token_id`:2082 for open-end generation.\n",
      " 40%|████████████████████████████████████████                                                            | 200/500 [34:42<50:45, 10.15s/it]Setting `pad_token_id` to `eos_token_id`:2082 for open-end generation.\n",
      " 40%|████████████████████████████████████████▏                                                           | 201/500 [34:53<50:46, 10.19s/it]Setting `pad_token_id` to `eos_token_id`:2082 for open-end generation.\n",
      " 40%|████████████████████████████████████████▍                                                           | 202/500 [35:03<50:28, 10.16s/it]Setting `pad_token_id` to `eos_token_id`:2082 for open-end generation.\n",
      " 41%|████████████████████████████████████████▌                                                           | 203/500 [35:13<50:04, 10.12s/it]Setting `pad_token_id` to `eos_token_id`:2082 for open-end generation.\n",
      " 41%|████████████████████████████████████████▊                                                           | 204/500 [35:23<49:51, 10.11s/it]Setting `pad_token_id` to `eos_token_id`:2082 for open-end generation.\n",
      " 41%|█████████████████████████████████████████                                                           | 205/500 [35:33<49:38, 10.10s/it]Setting `pad_token_id` to `eos_token_id`:2082 for open-end generation.\n",
      " 41%|█████████████████████████████████████████▏                                                          | 206/500 [35:43<49:45, 10.15s/it]Setting `pad_token_id` to `eos_token_id`:2082 for open-end generation.\n",
      " 41%|█████████████████████████████████████████▍                                                          | 207/500 [35:53<49:40, 10.17s/it]Setting `pad_token_id` to `eos_token_id`:2082 for open-end generation.\n",
      " 42%|█████████████████████████████████████████▌                                                          | 208/500 [36:03<49:34, 10.19s/it]Setting `pad_token_id` to `eos_token_id`:2082 for open-end generation.\n",
      " 42%|█████████████████████████████████████████▊                                                          | 209/500 [36:14<49:21, 10.18s/it]Setting `pad_token_id` to `eos_token_id`:2082 for open-end generation.\n",
      " 42%|██████████████████████████████████████████                                                          | 210/500 [36:24<49:23, 10.22s/it]Setting `pad_token_id` to `eos_token_id`:2082 for open-end generation.\n",
      " 42%|██████████████████████████████████████████▏                                                         | 211/500 [36:34<48:48, 10.13s/it]Setting `pad_token_id` to `eos_token_id`:2082 for open-end generation.\n",
      " 42%|██████████████████████████████████████████▍                                                         | 212/500 [36:44<48:20, 10.07s/it]Setting `pad_token_id` to `eos_token_id`:2082 for open-end generation.\n",
      " 43%|██████████████████████████████████████████▌                                                         | 213/500 [36:54<47:53, 10.01s/it]Setting `pad_token_id` to `eos_token_id`:2082 for open-end generation.\n",
      " 43%|██████████████████████████████████████████▊                                                         | 214/500 [37:04<47:46, 10.02s/it]Setting `pad_token_id` to `eos_token_id`:2082 for open-end generation.\n",
      " 43%|███████████████████████████████████████████                                                         | 215/500 [37:14<47:16,  9.95s/it]Setting `pad_token_id` to `eos_token_id`:2082 for open-end generation.\n",
      " 43%|███████████████████████████████████████████▏                                                        | 216/500 [37:24<47:16,  9.99s/it]Setting `pad_token_id` to `eos_token_id`:2082 for open-end generation.\n",
      " 43%|███████████████████████████████████████████▍                                                        | 217/500 [37:34<47:09, 10.00s/it]Setting `pad_token_id` to `eos_token_id`:2082 for open-end generation.\n",
      " 44%|███████████████████████████████████████████▌                                                        | 218/500 [37:44<47:00, 10.00s/it]Setting `pad_token_id` to `eos_token_id`:2082 for open-end generation.\n",
      " 44%|███████████████████████████████████████████▊                                                        | 219/500 [37:54<46:54, 10.02s/it]Setting `pad_token_id` to `eos_token_id`:2082 for open-end generation.\n",
      " 44%|████████████████████████████████████████████                                                        | 220/500 [38:04<46:48, 10.03s/it]Setting `pad_token_id` to `eos_token_id`:2082 for open-end generation.\n",
      " 44%|████████████████████████████████████████████▏                                                       | 221/500 [38:14<46:46, 10.06s/it]Setting `pad_token_id` to `eos_token_id`:2082 for open-end generation.\n",
      " 44%|████████████████████████████████████████████▍                                                       | 222/500 [38:24<46:44, 10.09s/it]Setting `pad_token_id` to `eos_token_id`:2082 for open-end generation.\n",
      " 45%|████████████████████████████████████████████▌                                                       | 223/500 [38:34<46:29, 10.07s/it]Setting `pad_token_id` to `eos_token_id`:2082 for open-end generation.\n",
      " 45%|████████████████████████████████████████████▊                                                       | 224/500 [38:44<46:20, 10.07s/it]Setting `pad_token_id` to `eos_token_id`:2082 for open-end generation.\n",
      " 45%|█████████████████████████████████████████████                                                       | 225/500 [38:54<46:13, 10.08s/it]Setting `pad_token_id` to `eos_token_id`:2082 for open-end generation.\n",
      " 45%|█████████████████████████████████████████████▏                                                      | 226/500 [39:04<45:54, 10.05s/it]Setting `pad_token_id` to `eos_token_id`:2082 for open-end generation.\n",
      " 45%|█████████████████████████████████████████████▍                                                      | 227/500 [39:14<45:44, 10.05s/it]Setting `pad_token_id` to `eos_token_id`:2082 for open-end generation.\n",
      " 46%|█████████████████████████████████████████████▌                                                      | 228/500 [39:25<45:54, 10.13s/it]Setting `pad_token_id` to `eos_token_id`:2082 for open-end generation.\n",
      " 46%|█████████████████████████████████████████████▊                                                      | 229/500 [39:34<45:26, 10.06s/it]Setting `pad_token_id` to `eos_token_id`:2082 for open-end generation.\n",
      " 46%|██████████████████████████████████████████████                                                      | 230/500 [39:45<45:25, 10.10s/it]Setting `pad_token_id` to `eos_token_id`:2082 for open-end generation.\n",
      " 46%|██████████████████████████████████████████████▏                                                     | 231/500 [39:55<45:27, 10.14s/it]Setting `pad_token_id` to `eos_token_id`:2082 for open-end generation.\n"
     ]
    }
   ],
   "source": [
    "from tqdm.auto import tqdm\n",
    "import warnings\n",
    "warnings.filterwarnings('ignore')\n",
    "\n",
    "final_query = []\n",
    "answers = []\n",
    "\n",
    "for input_seq in tqdm(in_prompt):\n",
    "    output = text2sql_func(model, input_seq, tokenizer, new_eos_token_id)\n",
    "    final_out = None\n",
    "    for out in output:\n",
    "        answer = check_sql_executability(out, db)\n",
    "        if answer != \"ERROR\":\n",
    "            final_out = out\n",
    "            break\n",
    "    if final_out == None:\n",
    "        final_out = '\\n'.join(output)\n",
    "        answer = \"ERROR\"\n",
    "    final_query.append(final_out)\n",
    "    answers.append(answer)"
   ]
  },
  {
   "cell_type": "code",
   "execution_count": null,
   "metadata": {},
   "outputs": [],
   "source": [
    "question['generated_query'] = final_query\n",
    "question['generated_answer'] = answers"
   ]
  },
  {
   "cell_type": "code",
   "execution_count": null,
   "metadata": {},
   "outputs": [],
   "source": [
    "question.to_csv('test_data_generated.csv',index=False)"
   ]
  }
 ],
 "metadata": {
  "kernelspec": {
   "display_name": "Python 3 (ipykernel)",
   "language": "python",
   "name": "python3"
  },
  "language_info": {
   "codemirror_mode": {
    "name": "ipython",
    "version": 3
   },
   "file_extension": ".py",
   "mimetype": "text/x-python",
   "name": "python",
   "nbconvert_exporter": "python",
   "pygments_lexer": "ipython3",
   "version": "3.11.8"
  }
 },
 "nbformat": 4,
 "nbformat_minor": 4
}
