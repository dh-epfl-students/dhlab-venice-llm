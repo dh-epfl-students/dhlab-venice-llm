{
 "cells": [
  {
   "cell_type": "code",
   "execution_count": 2,
   "metadata": {},
   "outputs": [
    {
     "name": "stdout",
     "output_type": "stream",
     "text": [
      "sqlite\n",
      "['catastici']\n"
     ]
    },
    {
     "data": {
      "text/plain": [
       "\"[(3183, 'liberal', 'campi', 'casa e bottega da barbier', 70, 'campo vicino alla chiesa')]\""
      ]
     },
     "execution_count": 2,
     "metadata": {},
     "output_type": "execute_result"
    }
   ],
   "source": [
    "from langchain_community.utilities import SQLDatabase\n",
    "\n",
    "db = SQLDatabase.from_uri(\"sqlite:///../data/catastici.db\")\n",
    "\n",
    "# test DB\n",
    "print(db.dialect)\n",
    "print(db.get_usable_table_names())\n",
    "db.run(\"SELECT * FROM catastici LIMIT 1;\")"
   ]
  },
  {
   "cell_type": "code",
   "execution_count": 52,
   "metadata": {},
   "outputs": [],
   "source": [
    "import pandas as pd\n",
    "query_res = pd.read_csv('./test_data_generated.csv')"
   ]
  },
  {
   "cell_type": "code",
   "execution_count": 53,
   "metadata": {},
   "outputs": [],
   "source": [
    "import ast\n",
    "def clean_query(sql_query):\n",
    "    \"\"\"clean the output\"\"\"\n",
    "    # change to list\n",
    "    sql_query_list = ast.literal_eval(sql_query)\n",
    "    \n",
    "    # split on ;\n",
    "    sql_query_list = [query.split(';')[0]+';' for query in sql_query_list]\n",
    "    return sql_query_list\n",
    "\n",
    "def check_sql_executability(query, db):\n",
    "    try:\n",
    "        return db.run(query)\n",
    "    except:\n",
    "        return \"ERROR\""
   ]
  },
  {
   "cell_type": "code",
   "execution_count": 54,
   "metadata": {},
   "outputs": [],
   "source": [
    "# clean output\n",
    "for idx, row in query_res.iterrows():\n",
    "    query_list_clean = clean_query(row['generated_query'])\n",
    "    final_out = None\n",
    "    for out in query_list_clean:\n",
    "        answer = check_sql_executability(out, db)\n",
    "        if answer != \"ERROR\":\n",
    "            final_out = out\n",
    "            break\n",
    "    if final_out == None:\n",
    "        final_out = '\\n'.join(query_list_clean)\n",
    "        answer = \"ERROR\"\n",
    "    query_res.loc[idx,'generated_answer'] = answer\n",
    "    query_res.loc[idx,'generated_query'] = final_out"
   ]
  },
  {
   "cell_type": "markdown",
   "metadata": {},
   "source": [
    "# Check"
   ]
  },
  {
   "cell_type": "code",
   "execution_count": 55,
   "metadata": {},
   "outputs": [],
   "source": [
    "query_res.loc[(query_res['generated_answer']=='ERROR'), 'output'] = 'ERROR'\n",
    "query_res.loc[(query_res['generated_answer']==query_res['true_answer']), 'output'] = 'EM'"
   ]
  },
  {
   "cell_type": "code",
   "execution_count": 70,
   "metadata": {},
   "outputs": [
    {
     "data": {
      "text/plain": [
       "output\n",
       "EM       253\n",
       "ERROR     13\n",
       "Name: count, dtype: int64"
      ]
     },
     "execution_count": 70,
     "metadata": {},
     "output_type": "execute_result"
    }
   ],
   "source": [
    "query_res['output'].value_counts()"
   ]
  },
  {
   "cell_type": "code",
   "execution_count": null,
   "metadata": {},
   "outputs": [],
   "source": []
  },
  {
   "cell_type": "code",
   "execution_count": 13,
   "metadata": {},
   "outputs": [],
   "source": [
    "# import os\n",
    "# os.environ[\"OPENAI_API_KEY\"] = ''\n",
    "\n",
    "from openai import OpenAI\n",
    "client = OpenAI()"
   ]
  },
  {
   "cell_type": "code",
   "execution_count": 65,
   "metadata": {},
   "outputs": [],
   "source": [
    "system_prompt_1 = \"\"\"You are an assistant that is an expert in assessing Sqlite SQL queries.\n",
    "You are given a Database Schema, a question, a true SQL query that answers the question and generated SQL query to answer the question.\n",
    "Compare the true and generated SQL queries and evaluate if the generated query answers the question and acceptable.\n",
    "Note that true and generated SQL queries are not the same, but both may be accapted as long as they both answer the question.\n",
    "Respond with YES if generated query is acceptable, or NO if generated query does not answer the question.\n",
    "\"\"\"\n",
    "\n",
    "system_prompt_2 = \"\"\"You are an assistant that is an expert in assessing Sqlite SQL queries.\n",
    "You are given a Database Schema, a question and an SQL query to answer the question.\n",
    "Look at the SQL query and assess if the query answers the question and acceptable.\n",
    "Respond with YES if the query is acceptable, or NO if generated query does not answer the question.\n",
    "\"\"\"\n",
    "\n",
    "prompt = \"\"\"### Database Schema\n",
    "CREATE TABLE [catastici]\n",
    "(\n",
    "    [Owner_ID] INT, -- Unique ID of each owner of the property\n",
    "    [Owner_First_Name] NVARCHAR(30), -- First name of the owner of the property\n",
    "    [Owner_Family_Name] NVARCHAR(30), -- Family name of the owner of the property\n",
    "    [Property_Type] NVARCHAR(100), -- Specific type of the property given in Italian. For example, \"casa\", \"bottega da barbier\", \"bottega da fruttariol\".\n",
    "    [Rent_Income] INT, -- Rent price of the property that the owner receives as income, given in Venice ancient gold coin ducato.\n",
    "    [Property_Location] NVARCHAR(100) -- Ancient approximate toponym of the property given in Italian.\n",
    ");\n",
    "\n",
    "### Question\n",
    "{question}\n",
    "\n",
    "### True SQL query\n",
    "{true_query}\n",
    "\n",
    "### Generated SQL query\n",
    "{generated_query}\n",
    "\n",
    "### Response\n",
    "\"\"\""
   ]
  },
  {
   "cell_type": "code",
   "execution_count": 58,
   "metadata": {},
   "outputs": [
    {
     "name": "stdout",
     "output_type": "stream",
     "text": [
      "Could you enumerate all individuals who possess ownership of properties?\n",
      "SELECT DISTINCT \"Owner_First_Name\", \"Owner_Family_Name\" \n",
      "FROM catastici\n",
      "\n",
      "SELECT \"Owner_ID\", \"Owner_First_Name\", \"Owner_Family_Name\"\n",
      "FROM catastici\n",
      "GROUP BY \"Owner_ID\", \"Owner_First_Name\", \"Owner_Family_Name\"\n",
      "HAVING COUNT(*) > 1;\n"
     ]
    }
   ],
   "source": [
    "example = query_res[query_res.output.isna()].iloc[10]\n",
    "print(example['question'])\n",
    "print(example['true_query'])\n",
    "print(example['generated_query'])"
   ]
  },
  {
   "cell_type": "code",
   "execution_count": 48,
   "metadata": {},
   "outputs": [
    {
     "name": "stdout",
     "output_type": "stream",
     "text": [
      "NO\n"
     ]
    }
   ],
   "source": [
    "response = client.chat.completions.create(\n",
    "  model=\"gpt-4-turbo-preview\",\n",
    "  messages=[\n",
    "    {\"role\": \"system\", \"content\": system_prompt_1},\n",
    "    {\"role\": \"user\", \"content\": prompt.format(question=example['question'],true_query=example['true_query'],generated_query=example['generated_query'])}\n",
    "  ]\n",
    ")\n",
    "print(response.choices[0].message.content)"
   ]
  },
  {
   "cell_type": "code",
   "execution_count": 66,
   "metadata": {},
   "outputs": [],
   "source": [
    "responses_1 = {}\n",
    "for idx, r in query_res[query_res.output.isna()].iterrows():\n",
    "    response = client.chat.completions.create(\n",
    "        model=\"gpt-4-turbo-preview\",\n",
    "        messages=[\n",
    "            {\"role\": \"system\", \"content\": system_prompt_1},\n",
    "            {\"role\": \"user\", \"content\": prompt.format(question=r['question'],true_query=r['true_query'],generated_query=r['generated_query'])}\n",
    "        ]\n",
    "    )\n",
    "    responses_1[idx] = response.choices[0].message.content"
   ]
  },
  {
   "cell_type": "code",
   "execution_count": 59,
   "metadata": {},
   "outputs": [],
   "source": [
    "responses_2 = {}\n",
    "for idx, r in query_res[query_res.output.isna()].iterrows():\n",
    "    response = client.chat.completions.create(\n",
    "        model=\"gpt-4-turbo-preview\",\n",
    "        messages=[\n",
    "            {\"role\": \"system\", \"content\": system_prompt_2},\n",
    "            {\"role\": \"user\", \"content\": prompt.format(question=r['question'],true_query=r['true_query'],generated_query=r['generated_query'])}\n",
    "        ]\n",
    "    )\n",
    "    responses_2[idx] = response.choices[0].message.content"
   ]
  },
  {
   "cell_type": "code",
   "execution_count": null,
   "metadata": {},
   "outputs": [],
   "source": [
    "# responses_2 = responses.copy()"
   ]
  },
  {
   "cell_type": "code",
   "execution_count": 72,
   "metadata": {},
   "outputs": [],
   "source": [
    "query_wrong = query_res[query_res.output.isna()].drop('output',axis=1)"
   ]
  },
  {
   "cell_type": "code",
   "execution_count": 69,
   "metadata": {},
   "outputs": [
    {
     "data": {
      "text/plain": [
       "[67, 107, 111, 131, 171, 176, 186, 187, 256, 262, 345, 365, 382, 421, 488]"
      ]
     },
     "execution_count": 69,
     "metadata": {},
     "output_type": "execute_result"
    }
   ],
   "source": [
    "[k for k, v in responses_2.items() if responses_1.get(k) != v]"
   ]
  },
  {
   "cell_type": "code",
   "execution_count": 73,
   "metadata": {},
   "outputs": [],
   "source": [
    "for k,v in responses_1.items():\n",
    "    query_wrong.loc[k, 'output_1'] = v\n",
    "\n",
    "for k,v in responses_2.items():\n",
    "    query_wrong.loc[k, 'output_2'] = v"
   ]
  },
  {
   "cell_type": "code",
   "execution_count": 75,
   "metadata": {},
   "outputs": [
    {
     "data": {
      "text/plain": [
       "output_1\n",
       "NO     159\n",
       "YES     75\n",
       "Name: count, dtype: int64"
      ]
     },
     "execution_count": 75,
     "metadata": {},
     "output_type": "execute_result"
    }
   ],
   "source": [
    "query_wrong.output_1.value_counts()"
   ]
  },
  {
   "cell_type": "code",
   "execution_count": 76,
   "metadata": {},
   "outputs": [
    {
     "data": {
      "text/plain": [
       "output_2\n",
       "NO     172\n",
       "YES     62\n",
       "Name: count, dtype: int64"
      ]
     },
     "execution_count": 76,
     "metadata": {},
     "output_type": "execute_result"
    }
   ],
   "source": [
    "query_wrong.output_2.value_counts()"
   ]
  },
  {
   "cell_type": "markdown",
   "metadata": {},
   "source": [
    "**Results**\n",
    "- Wrong -> 234<br>\n",
    "    - True -> 75\n",
    "    - Wrong -> 159\n",
    "- Error -> 13<br>\n",
    "- Exact Match -> 253\n",
    "- True -> **328**"
   ]
  },
  {
   "cell_type": "code",
   "execution_count": 80,
   "metadata": {},
   "outputs": [
    {
     "name": "stdout",
     "output_type": "stream",
     "text": [
      "67 - 13\n",
      "1-YES, 2-NO\n",
      "Question: Across the dataset, what quantity of various property types exists?\n",
      "Evidence: nan\n",
      "\n",
      "True SQL:\n",
      "SELECT COUNT(DISTINCT \"Property_Type\") AS num_property_types\n",
      "FROM catastici;\n",
      "Generated SQL:\n",
      "\n",
      "SELECT \"Property_Type\", COUNT(\"Property_Type\") AS Property_Count\n",
      "FROM catastici\n",
      "GROUP BY \"Property_Type\"\n",
      "ORDER BY Property_Count DESC;\n",
      "\n",
      "\n",
      "\n",
      "107 - 21\n",
      "1-YES, 2-NO\n",
      "Question: What sum of rent is accumulated from every \"bottega da casarol\" category property?\n",
      "Evidence: \"Property_Type\" = \"bottega da casarol\"\n",
      "\n",
      "True SQL:\n",
      "SELECT SUM(\"Rent_Income\") \n",
      "FROM catastici \n",
      "WHERE \"Property_Type\" = 'bottega da casarol';\n",
      "Generated SQL:\n",
      "SELECT \"Property_Type\", SUM(\"Rent_Income\") \n",
      "FROM catastici \n",
      "WHERE \"Property_Type\" = 'bottega da casarol';\n",
      "\n",
      "\n",
      "\n",
      "111 - 22\n",
      "1-YES, 2-NO\n",
      "Question: Whose properties yield a rental income of 30?\n",
      "Evidence: nan\n",
      "\n",
      "True SQL:\n",
      "SELECT \"Owner_First_Name\", \"Owner_Family_Name\" \n",
      "FROM catastici \n",
      "WHERE \"Rent_Income\" = 30;\n",
      "Generated SQL:\n",
      "\n",
      "SELECT \"Owner_First_Name\", \"Owner_Family_Name\", \"Property_Type\", \"Rent_Income\", \"Property_Location\" \n",
      "FROM catastici \n",
      "WHERE \"Rent_Income\" = 30;\n",
      "\n",
      "\n",
      "\n",
      "131 - 26\n",
      "1-YES, 2-NO\n",
      "Question: Can you calculate the cumulative rental income from \"casa\" property types?\n",
      "Evidence: \"Property_Type\" = \"casa\"\n",
      "\n",
      "True SQL:\n",
      "SELECT SUM(\"Rent_Income\") as Total_Rent_Income\n",
      "FROM catastici\n",
      "WHERE \"Property_Type\" = 'casa';\n",
      "Generated SQL:\n",
      "SELECT \"Property_Type\", SUM(\"Rent_Income\") \n",
      "FROM catastici \n",
      "WHERE \"Property_Type\" = 'casa'\n",
      "GROUP BY \"Property_Type\"\n",
      "ORDER BY SUM(\"Rent_Income\") DESC;\n",
      "\n",
      "\n",
      "\n",
      "171 - 34\n",
      "1-YES, 2-NO\n",
      "Question: Can you identify the families that hold estates in \"rio san baseggio\"?\n",
      "Evidence: \"Property_Location\" = \"rio san baseggio\"\n",
      "\n",
      "True SQL:\n",
      "SELECT DISTINCT \"Owner_Family_Name\" \n",
      "FROM catastici \n",
      "WHERE \"Property_Location\" = 'rio san baseggio';\n",
      "Generated SQL:\n",
      "SELECT \"Owner_Family_Name\" \n",
      "FROM catastici \n",
      "WHERE \"Property_Location\" = 'rio san baseggio';\n",
      "\n",
      "\n",
      "\n",
      "176 - 35\n",
      "1-YES, 2-NO\n",
      "Question: Can you identify the proprietors of \"magazen due\" categorized real estate?\n",
      "Evidence: \"Property_Type\" = \"magazen due\"\n",
      "\n",
      "True SQL:\n",
      "SELECT \"Owner_First_Name\", \"Owner_Family_Name\"\n",
      "FROM catastici\n",
      "WHERE \"Property_Type\" = 'magazen due';\n",
      "Generated SQL:\n",
      "SELECT DISTINCT \"Owner_First_Name\", \"Owner_Family_Name\", \"Property_Type\"\n",
      "FROM catastici\n",
      "WHERE \"Property_Type\" = 'magazen due';\n",
      "\n",
      "\n",
      "\n",
      "186 - 37\n",
      "1-YES, 2-NO\n",
      "Question: Can you identify the owner whose single property generates the highest rental revenue?\n",
      "Evidence: nan\n",
      "\n",
      "True SQL:\n",
      "SELECT \"Owner_First_Name\", \"Owner_Family_Name\", MAX(\"Rent_Income\") AS \"Max_Rent_Income\"\n",
      "FROM catastici;\n",
      "Generated SQL:\n",
      "\n",
      "SELECT \"Owner_ID\", \"Owner_First_Name\", \"Owner_Family_Name\", SUM(\"Rent_Income\") AS Total_Rent_Income\n",
      "FROM catastici\n",
      "GROUP BY \"Owner_ID\", \"Owner_First_Name\", \"Owner_Family_Name\"\n",
      "ORDER BY Total_Rent_Income DESC\n",
      "LIMIT 1;\n",
      "\n",
      "\n",
      "\n",
      "187 - 37\n",
      "1-YES, 2-NO\n",
      "Question: Regarding rental income, which proprietor's singular property tops the list for earning the most?\n",
      "Evidence: nan\n",
      "\n",
      "True SQL:\n",
      "SELECT \"Owner_First_Name\", \"Owner_Family_Name\", MAX(\"Rent_Income\") AS \"Max_Rent_Income\"\n",
      "FROM catastici;\n",
      "Generated SQL:\n",
      "\n",
      "SELECT \"Owner_First_Name\", \"Owner_Family_Name\", SUM(\"Rent_Income\") AS \"Total_Rent_Income\"\n",
      "FROM catastici\n",
      "GROUP BY \"Owner_First_Name\", \"Owner_Family_Name\"\n",
      "ORDER BY \"Total_Rent_Income\" DESC\n",
      "LIMIT 1;\n",
      "\n",
      "\n",
      "\n",
      "256 - 51\n",
      "1-NO, 2-YES\n",
      "Question: Can you list the various property categories under \"francesco\" \"patarol\"'s ownership?\n",
      "Evidence: \"Owner_First_Name\" = \"francesco\"; \"Owner_Family_Name\" = \"patarol\"\n",
      "\n",
      "True SQL:\n",
      "SELECT DISTINCT \"Property_Type\"\n",
      "FROM catastici\n",
      "WHERE \"Owner_First_Name\" = 'francesco' AND \"Owner_Family_Name\" = 'patarol';\n",
      "Generated SQL:\n",
      "SELECT \"Property_Type\"\n",
      "FROM catastici\n",
      "WHERE \"Owner_First_Name\" = 'francesco' AND \"Owner_Family_Name\" = 'patarol'\n",
      "ORDER BY \"Property_Type\";\n",
      "\n",
      "\n",
      "\n",
      "262 - 52\n",
      "1-YES, 2-NO\n",
      "Question: What's the total number of properties found in \"la calle vicina al campiel dal panizza in arzere\"?\n",
      "Evidence: \"Property_Location\" = \"la calle vicina al campiel dal panizza in arzere\"\n",
      "\n",
      "True SQL:\n",
      "SELECT COUNT(\"Property_Type\") \n",
      "FROM catastici \n",
      "WHERE \"Property_Location\" = 'la calle vicina al campiel dal panizza in arzere';\n",
      "Generated SQL:\n",
      "SELECT COUNT(*) AS total_properties, (COUNT(*) * 100.0 / (SELECT COUNT(*) FROM catastici)) AS percentage\n",
      "FROM catastici\n",
      "WHERE Property_Location = 'la calle vicina al campiel dal panizza in arzere';\n",
      "\n",
      "\n",
      "\n",
      "345 - 69\n",
      "1-YES, 2-NO\n",
      "Question: Is there availability of \"casa\" type properties located on \"calle della malvasia\"?\n",
      "Evidence: \"Property_Type\" = \"casa\"; \"Property_Location\" = \"calle della malvasia\"\n",
      "\n",
      "True SQL:\n",
      "SELECT \"Owner_First_Name\", \"Owner_Family_Name\", \"Rent_Income\" \n",
      "FROM catastici \n",
      "WHERE \"Property_Location\" = 'calle della malvasia' AND \"Property_Type\" = 'casa'\n",
      "limit 1;\n",
      "Generated SQL:\n",
      "SELECT \"Property_Location\", COUNT(*) AS \"Number_of_casa_properties\"\n",
      "FROM catastici\n",
      "WHERE \"Property_Type\" = 'casa' AND \"Property_Location\" = 'calle della malvasia'\n",
      "GROUP BY \"Property_Location\";\n",
      "\n",
      "\n",
      "\n",
      "365 - 73\n",
      "1-YES, 2-NO\n",
      "Question: What is the total count of families possessing assets in multiple type category classifications?\n",
      "Evidence: nan\n",
      "\n",
      "True SQL:\n",
      "SELECT COUNT(*) \n",
      "FROM (\n",
      "SELECT \"Owner_Family_Name\"\n",
      "FROM catastici\n",
      "GROUP BY \"Owner_Family_Name\"\n",
      "HAVING COUNT(DISTINCT \"Property_Type\") > 1\n",
      ") AS families_with_multiple_types;\n",
      "Generated SQL:\n",
      "\n",
      "SELECT COUNT(*) AS num_families_with_multiple_assets\n",
      "FROM (SELECT \"Owner_First_Name\", \"Owner_Family_Name\"\n",
      "FROM catastici\n",
      "GROUP BY \"Owner_First_Name\", \"Owner_Family_Name\"\n",
      "HAVING COUNT(DISTINCT \"Property_Type\") > 1) AS families_with_multiple_assets;\n",
      "\n",
      "\n",
      "\n",
      "382 - 76\n",
      "1-YES, 2-NO\n",
      "Question: Regarding the dataset, identify the entity with the greatest property portfolio.\n",
      "Evidence: nan\n",
      "\n",
      "True SQL:\n",
      "SELECT \"Owner_First_Name\", \"Owner_Family_Name\", COUNT(*) AS property_count\n",
      "FROM catastici\n",
      "GROUP BY \"Owner_First_Name\", \"Owner_Family_Name\"\n",
      "ORDER BY property_count DESC\n",
      "LIMIT 1;\n",
      "Generated SQL:\n",
      "\n",
      "SELECT \"Owner_ID\", COUNT(\"Property_Type\") AS num_property_types\n",
      "FROM catastici\n",
      "GROUP BY \"Owner_ID\"\n",
      "ORDER BY num_property_types DESC\n",
      "LIMIT 1;\n",
      "\n",
      "\n",
      "\n",
      "421 - 84\n",
      "1-YES, 2-NO\n",
      "Question: In the dataset, can you determine the number of individuals who own only one piece of property?\n",
      "Evidence: nan\n",
      "\n",
      "True SQL:\n",
      "SELECT COUNT(*) AS Num_Owners\n",
      "FROM (\n",
      "SELECT \"Owner_First_Name\", \"Owner_Family_Name\", COUNT(*) AS Num_Properties\n",
      "FROM catastici\n",
      "GROUP BY \"Owner_First_Name\", \"Owner_Family_Name\"\n",
      "HAVING COUNT(*) = 1\n",
      ") AS subquery;\n",
      "Generated SQL:\n",
      "\n",
      "SELECT \"Owner_First_Name\", \"Owner_Family_Name\", num_properties_owned\n",
      "FROM (\n",
      "SELECT \"Owner_First_Name\", \"Owner_Family_Name\", COUNT(*) AS num_properties_owned\n",
      "FROM catastici\n",
      "GROUP BY \"Owner_First_Name\", \"Owner_Family_Name\"\n",
      ") AS property_counts\n",
      "GROUP BY \"Owner_First_Name\", \"Owner_Family_Name\", num_properties_owned\n",
      "HAVING num_properties_owned = 1;\n",
      "\n",
      "\n",
      "\n",
      "488 - 97\n",
      "1-YES, 2-NO\n",
      "Question: What does the dataset reveal about the usual count of properties per owner, on average?\n",
      "Evidence: nan\n",
      "\n",
      "True SQL:\n",
      "SELECT \"Owner_First_Name\", \"Owner_Family_Name\", AVG(num_properties_owned) AS average_properties_per_owner\n",
      "FROM (\n",
      "SELECT \"Owner_First_Name\", \"Owner_Family_Name\", COUNT(*) AS num_properties_owned\n",
      "FROM catastici\n",
      "GROUP BY \"Owner_First_Name\", \"Owner_Family_Name\"\n",
      ") AS property_counts\n",
      "GROUP BY \"Owner_First_Name\", \"Owner_Family_Name\";\n",
      "Generated SQL:\n",
      "\n",
      "SELECT AVG(Num_Properties) AS avg_num_properties\n",
      "FROM (\n",
      "SELECT \"Owner_First_Name\", \"Owner_Family_Name\", COUNT(*) AS Num_Properties\n",
      "FROM catastici\n",
      "GROUP BY \"Owner_First_Name\", \"Owner_Family_Name\"\n",
      "HAVING COUNT(*) > 1\n",
      ") AS subquery;\n",
      "\n",
      "\n",
      "\n"
     ]
    }
   ],
   "source": [
    "for idx, row in query_wrong[query_wrong.output_1 != query_wrong.output_2].iterrows():\n",
    "    print(f\"{idx} - {row['question_id']}\")\n",
    "    print(f\"1-{row['output_1']}, 2-{row['output_2']}\")\n",
    "    print(f\"Question: {row['question']}\")\n",
    "    print(f\"Evidence: {row['evidence']}\")\n",
    "    print()\n",
    "    print('True SQL:')\n",
    "    print(row['true_query'])\n",
    "    print('Generated SQL:')\n",
    "    print(row['generated_query'])\n",
    "    print('\\n\\n') "
   ]
  }
 ],
 "metadata": {
  "kernelspec": {
   "display_name": "venice_env",
   "language": "python",
   "name": "python3"
  },
  "language_info": {
   "codemirror_mode": {
    "name": "ipython",
    "version": 3
   },
   "file_extension": ".py",
   "mimetype": "text/x-python",
   "name": "python",
   "nbconvert_exporter": "python",
   "pygments_lexer": "ipython3",
   "version": "3.10.4"
  }
 },
 "nbformat": 4,
 "nbformat_minor": 2
}
