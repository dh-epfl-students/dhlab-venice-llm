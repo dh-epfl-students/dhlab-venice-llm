{
 "cells": [
  {
   "cell_type": "code",
   "execution_count": 231,
   "metadata": {},
   "outputs": [],
   "source": [
    "import json\n",
    "import geopandas as gpd\n",
    "import pandas as pd\n",
    "import pyproj"
   ]
  },
  {
   "cell_type": "markdown",
   "metadata": {},
   "source": [
    "# Catastici"
   ]
  },
  {
   "cell_type": "code",
   "execution_count": 204,
   "metadata": {},
   "outputs": [],
   "source": [
    "with open('catastici_1741_STD.json', 'r') as f:\n",
    "    data = json.load(f)\n",
    "    \n",
    "# data = gpd.read_file(\"../data_20240221/raw/20240221_Catastici1741_Intermediate.geojson\")"
   ]
  },
  {
   "cell_type": "code",
   "execution_count": 205,
   "metadata": {},
   "outputs": [
    {
     "name": "stdout",
     "output_type": "stream",
     "text": [
      "(33297, 28)\n",
      "Index(['uidx', 'id', 'owner_name', 'owner_code', 'owner_count',\n",
      "       'owner_count_remark', 'owner_entity', 'owner_entity_group',\n",
      "       'owner_first_name', 'owner_family_name', 'owner_family_group',\n",
      "       'owner_title', 'owner_title_std', 'owner_mestiere',\n",
      "       'owner_mestiere_std', 'ten_name', 'function', 'an_rendi', 'id_napo',\n",
      "       'quantity_income', 'quality_income', 'author', 'place', 'parish',\n",
      "       'sestiere', 'uid', 'path_img', 'geometry'],\n",
      "      dtype='object')\n"
     ]
    },
    {
     "data": {
      "text/html": [
       "<div>\n",
       "<style scoped>\n",
       "    .dataframe tbody tr th:only-of-type {\n",
       "        vertical-align: middle;\n",
       "    }\n",
       "\n",
       "    .dataframe tbody tr th {\n",
       "        vertical-align: top;\n",
       "    }\n",
       "\n",
       "    .dataframe thead th {\n",
       "        text-align: right;\n",
       "    }\n",
       "</style>\n",
       "<table border=\"1\" class=\"dataframe\">\n",
       "  <thead>\n",
       "    <tr style=\"text-align: right;\">\n",
       "      <th></th>\n",
       "      <th>uidx</th>\n",
       "      <th>id</th>\n",
       "      <th>owner_name</th>\n",
       "      <th>owner_code</th>\n",
       "      <th>owner_count</th>\n",
       "      <th>owner_count_remark</th>\n",
       "      <th>owner_entity</th>\n",
       "      <th>owner_entity_group</th>\n",
       "      <th>owner_first_name</th>\n",
       "      <th>owner_family_name</th>\n",
       "      <th>...</th>\n",
       "      <th>id_napo</th>\n",
       "      <th>quantity_income</th>\n",
       "      <th>quality_income</th>\n",
       "      <th>author</th>\n",
       "      <th>place</th>\n",
       "      <th>parish</th>\n",
       "      <th>sestiere</th>\n",
       "      <th>uid</th>\n",
       "      <th>path_img</th>\n",
       "      <th>geometry</th>\n",
       "    </tr>\n",
       "  </thead>\n",
       "  <tbody>\n",
       "    <tr>\n",
       "      <th>21152</th>\n",
       "      <td>21152</td>\n",
       "      <td>228</td>\n",
       "      <td>Fratelli Busca</td>\n",
       "      <td>PPL</td>\n",
       "      <td>2</td>\n",
       "      <td>2+</td>\n",
       "      <td></td>\n",
       "      <td></td>\n",
       "      <td>_fratelli</td>\n",
       "      <td>BUSCA</td>\n",
       "      <td>...</td>\n",
       "      <td>nan</td>\n",
       "      <td>nan</td>\n",
       "      <td>nan</td>\n",
       "      <td>Davide</td>\n",
       "      <td>Alli Bari</td>\n",
       "      <td>San Giacomo dall'Orio</td>\n",
       "      <td>SC</td>\n",
       "      <td>GDO-0228</td>\n",
       "      <td>438_SCroce/9_SGiacomoDallOrio/SGiacomoDallOrio...</td>\n",
       "      <td>POINT (290803.9453117192 5035349.934663499)</td>\n",
       "    </tr>\n",
       "    <tr>\n",
       "      <th>17846</th>\n",
       "      <td>17846</td>\n",
       "      <td>18</td>\n",
       "      <td>Domenico Vaccaro</td>\n",
       "      <td>PPL</td>\n",
       "      <td>1</td>\n",
       "      <td></td>\n",
       "      <td></td>\n",
       "      <td></td>\n",
       "      <td>Domenico</td>\n",
       "      <td>VACCARO</td>\n",
       "      <td>...</td>\n",
       "      <td>nan</td>\n",
       "      <td>nan</td>\n",
       "      <td>nan</td>\n",
       "      <td>Francesca</td>\n",
       "      <td>Al Ponte di mezzo in Rio della Chiesa</td>\n",
       "      <td>San Trovaso</td>\n",
       "      <td>DD</td>\n",
       "      <td>TRV-0018b</td>\n",
       "      <td>439_Dorsoduro/6_STrovaso/STrovaso_2_17.png</td>\n",
       "      <td>POINT (290871.2582336992 5034313.463503406)</td>\n",
       "    </tr>\n",
       "    <tr>\n",
       "      <th>13778</th>\n",
       "      <td>13778</td>\n",
       "      <td>721</td>\n",
       "      <td>Antonio Altobello</td>\n",
       "      <td>PPL</td>\n",
       "      <td>1</td>\n",
       "      <td></td>\n",
       "      <td></td>\n",
       "      <td></td>\n",
       "      <td>Antonio</td>\n",
       "      <td>ALTOBELLO</td>\n",
       "      <td>...</td>\n",
       "      <td>nan</td>\n",
       "      <td>nan</td>\n",
       "      <td>nan</td>\n",
       "      <td>Davide</td>\n",
       "      <td>Fondamenta de Tentori</td>\n",
       "      <td>San Raffael</td>\n",
       "      <td>DD</td>\n",
       "      <td>RAF-0721</td>\n",
       "      <td>439_Dorsoduro/2_SRaffael/SRaffael_45_710.png</td>\n",
       "      <td>POINT (290432.0517098375 5034706.454614096)</td>\n",
       "    </tr>\n",
       "  </tbody>\n",
       "</table>\n",
       "<p>3 rows × 28 columns</p>\n",
       "</div>"
      ],
      "text/plain": [
       "        uidx   id         owner_name owner_code owner_count   \n",
       "21152  21152  228     Fratelli Busca        PPL           2  \\\n",
       "17846  17846   18   Domenico Vaccaro        PPL           1   \n",
       "13778  13778  721  Antonio Altobello        PPL           1   \n",
       "\n",
       "      owner_count_remark owner_entity owner_entity_group owner_first_name   \n",
       "21152                 2+                                        _fratelli  \\\n",
       "17846                                                            Domenico   \n",
       "13778                                                             Antonio   \n",
       "\n",
       "      owner_family_name  ... id_napo quantity_income quality_income   \n",
       "21152             BUSCA  ...     nan             nan            nan  \\\n",
       "17846           VACCARO  ...     nan             nan            nan   \n",
       "13778         ALTOBELLO  ...     nan             nan            nan   \n",
       "\n",
       "          author                                  place   \n",
       "21152     Davide                              Alli Bari  \\\n",
       "17846  Francesca  Al Ponte di mezzo in Rio della Chiesa   \n",
       "13778     Davide                  Fondamenta de Tentori   \n",
       "\n",
       "                      parish sestiere        uid   \n",
       "21152  San Giacomo dall'Orio       SC   GDO-0228  \\\n",
       "17846            San Trovaso       DD  TRV-0018b   \n",
       "13778            San Raffael       DD   RAF-0721   \n",
       "\n",
       "                                                path_img   \n",
       "21152  438_SCroce/9_SGiacomoDallOrio/SGiacomoDallOrio...  \\\n",
       "17846         439_Dorsoduro/6_STrovaso/STrovaso_2_17.png   \n",
       "13778       439_Dorsoduro/2_SRaffael/SRaffael_45_710.png   \n",
       "\n",
       "                                          geometry  \n",
       "21152  POINT (290803.9453117192 5035349.934663499)  \n",
       "17846  POINT (290871.2582336992 5034313.463503406)  \n",
       "13778  POINT (290432.0517098375 5034706.454614096)  \n",
       "\n",
       "[3 rows x 28 columns]"
      ]
     },
     "metadata": {},
     "output_type": "display_data"
    }
   ],
   "source": [
    "data = pd.DataFrame(data)\n",
    "print(data.shape)\n",
    "print(data.columns)\n",
    "display(data.sample(3))"
   ]
  },
  {
   "cell_type": "code",
   "execution_count": 206,
   "metadata": {},
   "outputs": [],
   "source": [
    "data_short = data[['owner_code', 'owner_count',\n",
    "       'owner_first_name', 'owner_family_name',\n",
    "       'owner_mestiere', 'ten_name', 'function', \n",
    "       'an_rendi', 'place', 'parish', 'geometry']]"
   ]
  },
  {
   "cell_type": "code",
   "execution_count": 208,
   "metadata": {},
   "outputs": [],
   "source": [
    "# numeric rent\n",
    "data_short = data_short[data_short['an_rendi'].apply(lambda x: type(x) == int)]\n",
    "# data_short = data_short[data_short['an_rendi'].str.isnumeric()]"
   ]
  },
  {
   "cell_type": "code",
   "execution_count": 209,
   "metadata": {},
   "outputs": [
    {
     "data": {
      "text/plain": [
       "(24460, 11)"
      ]
     },
     "execution_count": 209,
     "metadata": {},
     "output_type": "execute_result"
    }
   ],
   "source": [
    "# select single owners\n",
    "data_short = data_short[data_short['owner_count']==1]\n",
    "# data_short = data_short[data_short['owner_count']=='1']\n",
    "data_short.shape"
   ]
  },
  {
   "cell_type": "code",
   "execution_count": 210,
   "metadata": {},
   "outputs": [
    {
     "data": {
      "text/plain": [
       "(19070, 11)"
      ]
     },
     "execution_count": 210,
     "metadata": {},
     "output_type": "execute_result"
    }
   ],
   "source": [
    "# Select people only\n",
    "data_short = data_short[data_short['owner_code']=='PPL']\n",
    "data_short.shape"
   ]
  },
  {
   "cell_type": "code",
   "execution_count": 214,
   "metadata": {},
   "outputs": [],
   "source": [
    "# clean function\n",
    "data_short['function'] = data_short['function'].astype(str)\n",
    "data_short['function'] = data_short['function'].apply(lambda x: x.split('da')[0].strip().split(' e '))\n",
    "data_short['n_function'] = data_short['function'].apply(lambda x: len(x))\n",
    "data_short['function'] = data_short['function'].apply(lambda x: ', '.join(x))"
   ]
  },
  {
   "cell_type": "code",
   "execution_count": 215,
   "metadata": {},
   "outputs": [
    {
     "data": {
      "text/plain": [
       "(18953, 12)"
      ]
     },
     "execution_count": 215,
     "metadata": {},
     "output_type": "execute_result"
    }
   ],
   "source": [
    "# remove where | or _ in owner first name\n",
    "data_short = data_short[~data_short['owner_first_name'].str.contains('\\|')]\n",
    "data_short = data_short[~data_short['owner_first_name'].str.contains('_')]\n",
    "data_short.shape"
   ]
  },
  {
   "cell_type": "code",
   "execution_count": 225,
   "metadata": {},
   "outputs": [],
   "source": [
    "# clean geometry\n",
    "# data_short['x'] = data_short.geometry.apply(lambda point: point.x)\n",
    "# data_short['y'] = data_short.geometry.apply(lambda point: point.y)\n",
    "# data_short.drop(['geometry', 'owner_count', 'owner_code'], axis=1, inplace=True)\n",
    "\n",
    "data_short['geometry'] = data_short['geometry'].apply(lambda x: x.replace('POINT','').replace(')','').replace('(','').strip().split(' '))\n",
    "data_short.drop(['owner_count', 'owner_code'], axis=1, inplace=True)"
   ]
  },
  {
   "cell_type": "code",
   "execution_count": 226,
   "metadata": {},
   "outputs": [
    {
     "data": {
      "text/html": [
       "<div>\n",
       "<style scoped>\n",
       "    .dataframe tbody tr th:only-of-type {\n",
       "        vertical-align: middle;\n",
       "    }\n",
       "\n",
       "    .dataframe tbody tr th {\n",
       "        vertical-align: top;\n",
       "    }\n",
       "\n",
       "    .dataframe thead th {\n",
       "        text-align: right;\n",
       "    }\n",
       "</style>\n",
       "<table border=\"1\" class=\"dataframe\">\n",
       "  <thead>\n",
       "    <tr style=\"text-align: right;\">\n",
       "      <th></th>\n",
       "      <th>owner_first_name</th>\n",
       "      <th>owner_family_name</th>\n",
       "      <th>owner_mestiere</th>\n",
       "      <th>ten_name</th>\n",
       "      <th>function</th>\n",
       "      <th>an_rendi</th>\n",
       "      <th>place</th>\n",
       "      <th>parish</th>\n",
       "      <th>geometry</th>\n",
       "      <th>n_function</th>\n",
       "    </tr>\n",
       "  </thead>\n",
       "  <tbody>\n",
       "    <tr>\n",
       "      <th>13104</th>\n",
       "      <td>Alvise</td>\n",
       "      <td>PISANI</td>\n",
       "      <td></td>\n",
       "      <td>Francesco Boschini</td>\n",
       "      <td>casa</td>\n",
       "      <td>10</td>\n",
       "      <td>Fossa Capera</td>\n",
       "      <td>San Raffael</td>\n",
       "      <td>[290102.7505837445, 5034453.056417173]</td>\n",
       "      <td>1</td>\n",
       "    </tr>\n",
       "    <tr>\n",
       "      <th>10830</th>\n",
       "      <td>Andrea</td>\n",
       "      <td>ERIZZO</td>\n",
       "      <td></td>\n",
       "      <td>Zuanne Angieli</td>\n",
       "      <td>Casa, bottega</td>\n",
       "      <td>35</td>\n",
       "      <td>In Fondamenta vicin alla Chiesa</td>\n",
       "      <td>Sant'Antonino</td>\n",
       "      <td>[292483.0843632889, 5034723.356146083]</td>\n",
       "      <td>2</td>\n",
       "    </tr>\n",
       "    <tr>\n",
       "      <th>1615</th>\n",
       "      <td>Elisabetta</td>\n",
       "      <td>ZINELLI</td>\n",
       "      <td></td>\n",
       "      <td>Bortolo Dagnolo</td>\n",
       "      <td>casa a pepian</td>\n",
       "      <td>5</td>\n",
       "      <td>Calle del Centon</td>\n",
       "      <td>San Geremia</td>\n",
       "      <td>[290591.3896869204, 5035830.948885622]</td>\n",
       "      <td>1</td>\n",
       "    </tr>\n",
       "    <tr>\n",
       "      <th>5327</th>\n",
       "      <td>Paolina</td>\n",
       "      <td>BADOER MOCENIGO</td>\n",
       "      <td></td>\n",
       "      <td>Stefano Rubelli tentor</td>\n",
       "      <td>casa in solaro, bottega</td>\n",
       "      <td>60</td>\n",
       "      <td>Calle del ponte del legno</td>\n",
       "      <td>Santa Maria Nova</td>\n",
       "      <td>[292011.1163428106, 5035237.049365022]</td>\n",
       "      <td>2</td>\n",
       "    </tr>\n",
       "    <tr>\n",
       "      <th>31191</th>\n",
       "      <td>Giacomo</td>\n",
       "      <td>CORRER</td>\n",
       "      <td></td>\n",
       "      <td>Alba Bonati primo</td>\n",
       "      <td>Casa in tre solari</td>\n",
       "      <td>30</td>\n",
       "      <td>Calle del Pestrin</td>\n",
       "      <td>San Mattio</td>\n",
       "      <td>[291464.7446401383, 5035195.355419341]</td>\n",
       "      <td>1</td>\n",
       "    </tr>\n",
       "  </tbody>\n",
       "</table>\n",
       "</div>"
      ],
      "text/plain": [
       "      owner_first_name owner_family_name owner_mestiere   \n",
       "13104           Alvise            PISANI                 \\\n",
       "10830           Andrea            ERIZZO                  \n",
       "1615        Elisabetta           ZINELLI                  \n",
       "5327           Paolina   BADOER MOCENIGO                  \n",
       "31191          Giacomo            CORRER                  \n",
       "\n",
       "                     ten_name                 function an_rendi   \n",
       "13104      Francesco Boschini                     casa       10  \\\n",
       "10830          Zuanne Angieli            Casa, bottega       35   \n",
       "1615          Bortolo Dagnolo            casa a pepian        5   \n",
       "5327   Stefano Rubelli tentor  casa in solaro, bottega       60   \n",
       "31191       Alba Bonati primo       Casa in tre solari       30   \n",
       "\n",
       "                                 place            parish   \n",
       "13104                     Fossa Capera       San Raffael  \\\n",
       "10830  In Fondamenta vicin alla Chiesa     Sant'Antonino   \n",
       "1615                  Calle del Centon       San Geremia   \n",
       "5327         Calle del ponte del legno  Santa Maria Nova   \n",
       "31191                Calle del Pestrin        San Mattio   \n",
       "\n",
       "                                     geometry  n_function  \n",
       "13104  [290102.7505837445, 5034453.056417173]           1  \n",
       "10830  [292483.0843632889, 5034723.356146083]           2  \n",
       "1615   [290591.3896869204, 5035830.948885622]           1  \n",
       "5327   [292011.1163428106, 5035237.049365022]           2  \n",
       "31191  [291464.7446401383, 5035195.355419341]           1  "
      ]
     },
     "execution_count": 226,
     "metadata": {},
     "output_type": "execute_result"
    }
   ],
   "source": [
    "data_short.sample(5)"
   ]
  },
  {
   "cell_type": "code",
   "execution_count": 232,
   "metadata": {},
   "outputs": [],
   "source": [
    "def convert_coor(geometry):\n",
    "    x , y = geometry\n",
    "    src_crs = pyproj.CRS('EPSG:32633')\n",
    "    tgt_crs = pyproj.CRS('EPSG:4326')\n",
    "    transformer = pyproj.Transformer.from_crs(src_crs, tgt_crs, always_xy=True)\n",
    "    lon, lat = transformer.transform(x, y)\n",
    "    return [lon, lat]\n",
    "data_short['geometry'] = data_short['geometry'].apply(convert_coor)"
   ]
  },
  {
   "cell_type": "code",
   "execution_count": 252,
   "metadata": {},
   "outputs": [
    {
     "data": {
      "text/html": [
       "<div>\n",
       "<style scoped>\n",
       "    .dataframe tbody tr th:only-of-type {\n",
       "        vertical-align: middle;\n",
       "    }\n",
       "\n",
       "    .dataframe tbody tr th {\n",
       "        vertical-align: top;\n",
       "    }\n",
       "\n",
       "    .dataframe thead th {\n",
       "        text-align: right;\n",
       "    }\n",
       "</style>\n",
       "<table border=\"1\" class=\"dataframe\">\n",
       "  <thead>\n",
       "    <tr style=\"text-align: right;\">\n",
       "      <th></th>\n",
       "      <th>Owner_First_Name</th>\n",
       "      <th>Owner_Family_Name</th>\n",
       "      <th>Owner_Profession</th>\n",
       "      <th>Tenant_Name</th>\n",
       "      <th>Property_Functions</th>\n",
       "      <th>Rent_Price</th>\n",
       "      <th>Location</th>\n",
       "      <th>Parish</th>\n",
       "      <th>Property_Functions_Count</th>\n",
       "      <th>Longitude</th>\n",
       "      <th>Latitude</th>\n",
       "    </tr>\n",
       "  </thead>\n",
       "  <tbody>\n",
       "    <tr>\n",
       "      <th>21249</th>\n",
       "      <td>costantin</td>\n",
       "      <td>franceschi</td>\n",
       "      <td></td>\n",
       "      <td>francesco luchi</td>\n",
       "      <td>nan</td>\n",
       "      <td>14</td>\n",
       "      <td>in faccia al balin</td>\n",
       "      <td>san giacomo dall'orio</td>\n",
       "      <td>1</td>\n",
       "      <td>12.325729</td>\n",
       "      <td>45.440921</td>\n",
       "    </tr>\n",
       "    <tr>\n",
       "      <th>5092</th>\n",
       "      <td>maria celeste</td>\n",
       "      <td>calegari</td>\n",
       "      <td></td>\n",
       "      <td>domenico dall'oglio</td>\n",
       "      <td>casa in soler</td>\n",
       "      <td>38</td>\n",
       "      <td>calle per andar in corte a ka' minio</td>\n",
       "      <td>santa maria maddalena</td>\n",
       "      <td>1</td>\n",
       "      <td>12.330736</td>\n",
       "      <td>45.442989</td>\n",
       "    </tr>\n",
       "    <tr>\n",
       "      <th>20333</th>\n",
       "      <td>teresa</td>\n",
       "      <td>rossi</td>\n",
       "      <td></td>\n",
       "      <td>francesco pedretti</td>\n",
       "      <td>inviamento</td>\n",
       "      <td>9</td>\n",
       "      <td>calle della regina</td>\n",
       "      <td>san cassiano</td>\n",
       "      <td>1</td>\n",
       "      <td>12.331084</td>\n",
       "      <td>45.439616</td>\n",
       "    </tr>\n",
       "    <tr>\n",
       "      <th>31360</th>\n",
       "      <td></td>\n",
       "      <td>corner</td>\n",
       "      <td></td>\n",
       "      <td>francesco zanchi</td>\n",
       "      <td>casa primo soler</td>\n",
       "      <td>10</td>\n",
       "      <td>in calle di cornaro</td>\n",
       "      <td>san polo</td>\n",
       "      <td>1</td>\n",
       "      <td>12.329192</td>\n",
       "      <td>45.438028</td>\n",
       "    </tr>\n",
       "    <tr>\n",
       "      <th>6125</th>\n",
       "      <td>nicolo</td>\n",
       "      <td>dona</td>\n",
       "      <td></td>\n",
       "      <td>piero tacchin</td>\n",
       "      <td>bottega di favro</td>\n",
       "      <td>26</td>\n",
       "      <td>calle di ca' zen</td>\n",
       "      <td>santi apostoli</td>\n",
       "      <td>1</td>\n",
       "      <td>12.337738</td>\n",
       "      <td>45.441838</td>\n",
       "    </tr>\n",
       "  </tbody>\n",
       "</table>\n",
       "</div>"
      ],
      "text/plain": [
       "      Owner_First_Name Owner_Family_Name Owner_Profession   \n",
       "21249        costantin        franceschi                   \\\n",
       "5092     maria celeste          calegari                    \n",
       "20333           teresa             rossi                    \n",
       "31360                             corner                    \n",
       "6125            nicolo              dona                    \n",
       "\n",
       "               Tenant_Name Property_Functions  Rent_Price   \n",
       "21249      francesco luchi                nan          14  \\\n",
       "5092   domenico dall'oglio      casa in soler          38   \n",
       "20333   francesco pedretti         inviamento           9   \n",
       "31360     francesco zanchi   casa primo soler          10   \n",
       "6125         piero tacchin   bottega di favro          26   \n",
       "\n",
       "                                   Location                 Parish   \n",
       "21249                    in faccia al balin  san giacomo dall'orio  \\\n",
       "5092   calle per andar in corte a ka' minio  santa maria maddalena   \n",
       "20333                    calle della regina           san cassiano   \n",
       "31360                   in calle di cornaro               san polo   \n",
       "6125                       calle di ca' zen         santi apostoli   \n",
       "\n",
       "       Property_Functions_Count  Longitude   Latitude  \n",
       "21249                         1  12.325729  45.440921  \n",
       "5092                          1  12.330736  45.442989  \n",
       "20333                         1  12.331084  45.439616  \n",
       "31360                         1  12.329192  45.438028  \n",
       "6125                          1  12.337738  45.441838  "
      ]
     },
     "execution_count": 252,
     "metadata": {},
     "output_type": "execute_result"
    }
   ],
   "source": [
    "new_columns = {\n",
    "    \"owner_first_name\":\"Owner_First_Name\",\n",
    "    \"owner_family_name\":\"Owner_Family_Name\",\n",
    "    \"owner_mestiere\":\"Owner_Profession\",\n",
    "    \"ten_name\":\"Tenant_Name\",\n",
    "    \"function\":\"Property_Functions\",\n",
    "    \"an_rendi\":\"Rent_Price\",\n",
    "    \"place\":\"Location\",\n",
    "    \"parish\":\"Parish\",\n",
    "    \"geometry\":\"Coordinates\",\n",
    "    \"n_function\":\"Property_Functions_Count\",\n",
    "}\n",
    "data_short.rename(columns=new_columns, inplace=True)\n",
    "data_short = data_short.applymap(lambda x: x.lower() if isinstance(x, str) else x)\n",
    "data_short['Longitude'] = data_short['Coordinates'].apply(lambda x: x[0])\n",
    "data_short['Latitude'] = data_short['Coordinates'].apply(lambda x: x[1])\n",
    "data_short.drop('Coordinates',axis=1,inplace=True)\n",
    "data_short.sample(5)"
   ]
  },
  {
   "cell_type": "code",
   "execution_count": 253,
   "metadata": {},
   "outputs": [
    {
     "data": {
      "text/plain": [
       "(18953, 11)"
      ]
     },
     "execution_count": 253,
     "metadata": {},
     "output_type": "execute_result"
    }
   ],
   "source": [
    "data_short.shape"
   ]
  },
  {
   "cell_type": "code",
   "execution_count": 267,
   "metadata": {},
   "outputs": [],
   "source": [
    "data_short.to_csv('clean/properties.csv', index=False)"
   ]
  },
  {
   "cell_type": "markdown",
   "metadata": {},
   "source": [
    "# OSM"
   ]
  },
  {
   "cell_type": "code",
   "execution_count": 160,
   "metadata": {},
   "outputs": [],
   "source": [
    "with open('export.geojson', 'r') as f:\n",
    "    data = json.load(f)['features']\n",
    "data_p = [d['properties'] for d in data]\n",
    "data_g = [d['geometry']['coordinates'] for d in data]"
   ]
  },
  {
   "cell_type": "code",
   "execution_count": 161,
   "metadata": {},
   "outputs": [
    {
     "name": "stdout",
     "output_type": "stream",
     "text": [
      "{'roof:orientation', 'name', 'visible_name', 'building:levels', 'name:sk', 'addr:country', 'svg:bezier', 'loc_name', 'lit', 'roof:material', 'name:cs', 'religion', 'historic', 'addr:postcode', 'roof:height', 'name:ru', 'url', 'email', 'name:fr', 'bicycle', 'roof:shape', 'abandoned', 'name:zh', 'name:he', 'source:date', 'horse', '@id', 'source', 'opening_hours', 'website', 'addr:city', 'addr:street', 'name:vec', 'wikipedia', 'tourism', 'name:pl', 'ele', 'style', 'name:pt', 'name:uk', 'place', 'name:lt', 'start_date', 'building', 'wikipedia:en', 'amenity', 'height', 'wheelchair', 'foot', 'name:it', 'name:ko', 'wikimedia_commons', 'denomination', 'old_name', 'name:da', 'surface', 'check_date', 'area', 'service_times', 'name:es', 'addr:housenumber', 'building:colour', '@geometry', 'roof:colour', 'addr:place', 'name:hu', 'name:ja', 'name:de', 'wikidata', 'name:en', 'layer', 'building:material', 'importance', 'type', 'note', 'alt_name', 'highway'}\n"
     ]
    }
   ],
   "source": [
    "all_keys = set([dk for d in data_p for dk in d.keys()])\n",
    "print(all_keys)"
   ]
  },
  {
   "cell_type": "code",
   "execution_count": 162,
   "metadata": {},
   "outputs": [],
   "source": [
    "important_keys = ['name','religion','building','amenity','highway','place']\n",
    "data_clean = []\n",
    "for p, g in zip(data_p, data_g):\n",
    "    p_k = {}\n",
    "    for k in important_keys:\n",
    "        if k in p.keys():\n",
    "            p_k[k] = p[k]\n",
    "    p_k['geometry'] = g\n",
    "    data_clean.append(p_k)\n",
    "    "
   ]
  },
  {
   "cell_type": "code",
   "execution_count": 262,
   "metadata": {},
   "outputs": [
    {
     "data": {
      "text/html": [
       "<div>\n",
       "<style scoped>\n",
       "    .dataframe tbody tr th:only-of-type {\n",
       "        vertical-align: middle;\n",
       "    }\n",
       "\n",
       "    .dataframe tbody tr th {\n",
       "        vertical-align: top;\n",
       "    }\n",
       "\n",
       "    .dataframe thead th {\n",
       "        text-align: right;\n",
       "    }\n",
       "</style>\n",
       "<table border=\"1\" class=\"dataframe\">\n",
       "  <thead>\n",
       "    <tr style=\"text-align: right;\">\n",
       "      <th></th>\n",
       "      <th>religion</th>\n",
       "      <th>building</th>\n",
       "      <th>amenity</th>\n",
       "      <th>geometry</th>\n",
       "      <th>name</th>\n",
       "      <th>highway</th>\n",
       "      <th>place</th>\n",
       "    </tr>\n",
       "  </thead>\n",
       "  <tbody>\n",
       "    <tr>\n",
       "      <th>173</th>\n",
       "      <td>christian</td>\n",
       "      <td>church</td>\n",
       "      <td>place_of_worship</td>\n",
       "      <td>[12.3465285, 45.4355804]</td>\n",
       "      <td>Chiesa di Sant'Antonin</td>\n",
       "      <td>NaN</td>\n",
       "      <td>NaN</td>\n",
       "    </tr>\n",
       "    <tr>\n",
       "      <th>3</th>\n",
       "      <td>NaN</td>\n",
       "      <td>NaN</td>\n",
       "      <td>NaN</td>\n",
       "      <td>[12.3319525, 45.4342152]</td>\n",
       "      <td>Campo Sant'Anzolo</td>\n",
       "      <td>pedestrian</td>\n",
       "      <td>square</td>\n",
       "    </tr>\n",
       "    <tr>\n",
       "      <th>90</th>\n",
       "      <td>christian</td>\n",
       "      <td>church</td>\n",
       "      <td>place_of_worship</td>\n",
       "      <td>[12.3327977, 45.4326004]</td>\n",
       "      <td>Santa Maria del Giglio o Zobenigo</td>\n",
       "      <td>NaN</td>\n",
       "      <td>NaN</td>\n",
       "    </tr>\n",
       "    <tr>\n",
       "      <th>158</th>\n",
       "      <td>christian</td>\n",
       "      <td>church</td>\n",
       "      <td>place_of_worship</td>\n",
       "      <td>[12.3421972, 45.4392537]</td>\n",
       "      <td>Basilica dei santi Giovanni e Paolo</td>\n",
       "      <td>NaN</td>\n",
       "      <td>NaN</td>\n",
       "    </tr>\n",
       "    <tr>\n",
       "      <th>73</th>\n",
       "      <td>NaN</td>\n",
       "      <td>NaN</td>\n",
       "      <td>NaN</td>\n",
       "      <td>[12.3390051, 45.43605]</td>\n",
       "      <td>Campo della Guerra</td>\n",
       "      <td>pedestrian</td>\n",
       "      <td>NaN</td>\n",
       "    </tr>\n",
       "  </tbody>\n",
       "</table>\n",
       "</div>"
      ],
      "text/plain": [
       "      religion building           amenity                  geometry   \n",
       "173  christian   church  place_of_worship  [12.3465285, 45.4355804]  \\\n",
       "3          NaN      NaN               NaN  [12.3319525, 45.4342152]   \n",
       "90   christian   church  place_of_worship  [12.3327977, 45.4326004]   \n",
       "158  christian   church  place_of_worship  [12.3421972, 45.4392537]   \n",
       "73         NaN      NaN               NaN    [12.3390051, 45.43605]   \n",
       "\n",
       "                                    name     highway   place  \n",
       "173               Chiesa di Sant'Antonin         NaN     NaN  \n",
       "3                      Campo Sant'Anzolo  pedestrian  square  \n",
       "90     Santa Maria del Giglio o Zobenigo         NaN     NaN  \n",
       "158  Basilica dei santi Giovanni e Paolo         NaN     NaN  \n",
       "73                    Campo della Guerra  pedestrian     NaN  "
      ]
     },
     "execution_count": 262,
     "metadata": {},
     "output_type": "execute_result"
    }
   ],
   "source": [
    "data_exp = pd.DataFrame(data_clean)\n",
    "data_exp.sample(5)"
   ]
  },
  {
   "cell_type": "code",
   "execution_count": 263,
   "metadata": {},
   "outputs": [],
   "source": [
    "data_exp.loc[(data_exp['highway'].notna()) | (data_exp['place'].notna()), 'type'] = 'square'\n",
    "data_exp.loc[(data_exp['building'].notna()), 'type'] = 'building'\n",
    "data_exp = data_exp[data_exp['religion'] != 'jewish']\n",
    "data_exp.loc[data_exp['name']=='Oratorio della Madre di Dio', 'building'] = 'church'\n",
    "data_exp.loc[data_exp['name']=='Chiesa di San Giovanni Battista ai Catecumeni', 'building'] = 'church'\n",
    "data_exp.loc[data_exp['name']=='Cappella di San Vio', 'building'] = 'chapel'\n",
    "data_exp.loc[data_exp['name']==\"Scuola dell'Angelo custode\", 'building'] = 'chapel'\n",
    "data_exp.loc[data_exp['building'].notna(), 'type'] = data_exp['building']\n",
    "data_exp['name'].fillna('',inplace=True)\n",
    "data_exp['Longitude'] = data_exp['geometry'].apply(lambda x: x[0])\n",
    "data_exp['Latitude'] = data_exp['geometry'].apply(lambda x: x[1])\n",
    "data_exp.drop(['geometry','highway','place','religion','building','amenity'], axis=1, inplace=True)\n",
    "data_exp['name'] = data_exp['name'].apply(lambda x: x.lower())\n",
    "data_exp.rename(columns={\"name\":\"Entity_Name\", \"type\":\"Entity_Type\"}, inplace=True)"
   ]
  },
  {
   "cell_type": "code",
   "execution_count": 264,
   "metadata": {},
   "outputs": [
    {
     "name": "stdout",
     "output_type": "stream",
     "text": [
      "(192, 4)\n"
     ]
    },
    {
     "data": {
      "text/html": [
       "<div>\n",
       "<style scoped>\n",
       "    .dataframe tbody tr th:only-of-type {\n",
       "        vertical-align: middle;\n",
       "    }\n",
       "\n",
       "    .dataframe tbody tr th {\n",
       "        vertical-align: top;\n",
       "    }\n",
       "\n",
       "    .dataframe thead th {\n",
       "        text-align: right;\n",
       "    }\n",
       "</style>\n",
       "<table border=\"1\" class=\"dataframe\">\n",
       "  <thead>\n",
       "    <tr style=\"text-align: right;\">\n",
       "      <th></th>\n",
       "      <th>Entity_Name</th>\n",
       "      <th>Entity_Type</th>\n",
       "      <th>Longitude</th>\n",
       "      <th>Latitude</th>\n",
       "    </tr>\n",
       "  </thead>\n",
       "  <tbody>\n",
       "    <tr>\n",
       "      <th>12</th>\n",
       "      <td>campo san salvador</td>\n",
       "      <td>square</td>\n",
       "      <td>12.336150</td>\n",
       "      <td>45.436880</td>\n",
       "    </tr>\n",
       "    <tr>\n",
       "      <th>123</th>\n",
       "      <td>santa teresa</td>\n",
       "      <td>church</td>\n",
       "      <td>12.316247</td>\n",
       "      <td>45.433146</td>\n",
       "    </tr>\n",
       "    <tr>\n",
       "      <th>63</th>\n",
       "      <td></td>\n",
       "      <td>square</td>\n",
       "      <td>12.326952</td>\n",
       "      <td>45.437947</td>\n",
       "    </tr>\n",
       "    <tr>\n",
       "      <th>152</th>\n",
       "      <td>chiesa dei santi geremia e lucia</td>\n",
       "      <td>church</td>\n",
       "      <td>12.325317</td>\n",
       "      <td>45.442656</td>\n",
       "    </tr>\n",
       "    <tr>\n",
       "      <th>183</th>\n",
       "      <td>campo san stin</td>\n",
       "      <td>square</td>\n",
       "      <td>12.326952</td>\n",
       "      <td>45.437947</td>\n",
       "    </tr>\n",
       "  </tbody>\n",
       "</table>\n",
       "</div>"
      ],
      "text/plain": [
       "                          Entity_Name Entity_Type  Longitude   Latitude\n",
       "12                 campo san salvador      square  12.336150  45.436880\n",
       "123                      santa teresa      church  12.316247  45.433146\n",
       "63                                         square  12.326952  45.437947\n",
       "152  chiesa dei santi geremia e lucia      church  12.325317  45.442656\n",
       "183                    campo san stin      square  12.326952  45.437947"
      ]
     },
     "execution_count": 264,
     "metadata": {},
     "output_type": "execute_result"
    }
   ],
   "source": [
    "print(data_exp.shape)\n",
    "data_exp.sample(5)"
   ]
  },
  {
   "cell_type": "code",
   "execution_count": 268,
   "metadata": {},
   "outputs": [],
   "source": [
    "data_exp.to_csv('clean/entities.csv', index=False)"
   ]
  }
 ],
 "metadata": {
  "kernelspec": {
   "display_name": "venice_env",
   "language": "python",
   "name": "python3"
  },
  "language_info": {
   "codemirror_mode": {
    "name": "ipython",
    "version": 3
   },
   "file_extension": ".py",
   "mimetype": "text/x-python",
   "name": "python",
   "nbconvert_exporter": "python",
   "pygments_lexer": "ipython3",
   "version": "3.10.4"
  }
 },
 "nbformat": 4,
 "nbformat_minor": 2
}
