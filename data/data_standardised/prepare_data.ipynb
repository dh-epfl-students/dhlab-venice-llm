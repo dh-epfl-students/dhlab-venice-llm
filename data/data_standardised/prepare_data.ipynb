{
 "cells": [
  {
   "cell_type": "code",
   "execution_count": 1,
   "metadata": {},
   "outputs": [],
   "source": [
    "import json\n",
    "import geopandas as gpd\n",
    "import pandas as pd\n",
    "import pyproj\n",
    "from shapely.geometry import Point"
   ]
  },
  {
   "cell_type": "markdown",
   "metadata": {},
   "source": [
    "# Catastici"
   ]
  },
  {
   "cell_type": "code",
   "execution_count": 204,
   "metadata": {},
   "outputs": [],
   "source": [
    "with open('catastici_1741_STD.json', 'r') as f:\n",
    "    data = json.load(f)\n",
    "    \n",
    "# data = gpd.read_file(\"../data_20240221/raw/20240221_Catastici1741_Intermediate.geojson\")"
   ]
  },
  {
   "cell_type": "code",
   "execution_count": 205,
   "metadata": {},
   "outputs": [
    {
     "name": "stdout",
     "output_type": "stream",
     "text": [
      "(33297, 28)\n",
      "Index(['uidx', 'id', 'owner_name', 'owner_code', 'owner_count',\n",
      "       'owner_count_remark', 'owner_entity', 'owner_entity_group',\n",
      "       'owner_first_name', 'owner_family_name', 'owner_family_group',\n",
      "       'owner_title', 'owner_title_std', 'owner_mestiere',\n",
      "       'owner_mestiere_std', 'ten_name', 'function', 'an_rendi', 'id_napo',\n",
      "       'quantity_income', 'quality_income', 'author', 'place', 'parish',\n",
      "       'sestiere', 'uid', 'path_img', 'geometry'],\n",
      "      dtype='object')\n"
     ]
    },
    {
     "data": {
      "text/html": [
       "<div>\n",
       "<style scoped>\n",
       "    .dataframe tbody tr th:only-of-type {\n",
       "        vertical-align: middle;\n",
       "    }\n",
       "\n",
       "    .dataframe tbody tr th {\n",
       "        vertical-align: top;\n",
       "    }\n",
       "\n",
       "    .dataframe thead th {\n",
       "        text-align: right;\n",
       "    }\n",
       "</style>\n",
       "<table border=\"1\" class=\"dataframe\">\n",
       "  <thead>\n",
       "    <tr style=\"text-align: right;\">\n",
       "      <th></th>\n",
       "      <th>uidx</th>\n",
       "      <th>id</th>\n",
       "      <th>owner_name</th>\n",
       "      <th>owner_code</th>\n",
       "      <th>owner_count</th>\n",
       "      <th>owner_count_remark</th>\n",
       "      <th>owner_entity</th>\n",
       "      <th>owner_entity_group</th>\n",
       "      <th>owner_first_name</th>\n",
       "      <th>owner_family_name</th>\n",
       "      <th>...</th>\n",
       "      <th>id_napo</th>\n",
       "      <th>quantity_income</th>\n",
       "      <th>quality_income</th>\n",
       "      <th>author</th>\n",
       "      <th>place</th>\n",
       "      <th>parish</th>\n",
       "      <th>sestiere</th>\n",
       "      <th>uid</th>\n",
       "      <th>path_img</th>\n",
       "      <th>geometry</th>\n",
       "    </tr>\n",
       "  </thead>\n",
       "  <tbody>\n",
       "    <tr>\n",
       "      <th>21152</th>\n",
       "      <td>21152</td>\n",
       "      <td>228</td>\n",
       "      <td>Fratelli Busca</td>\n",
       "      <td>PPL</td>\n",
       "      <td>2</td>\n",
       "      <td>2+</td>\n",
       "      <td></td>\n",
       "      <td></td>\n",
       "      <td>_fratelli</td>\n",
       "      <td>BUSCA</td>\n",
       "      <td>...</td>\n",
       "      <td>nan</td>\n",
       "      <td>nan</td>\n",
       "      <td>nan</td>\n",
       "      <td>Davide</td>\n",
       "      <td>Alli Bari</td>\n",
       "      <td>San Giacomo dall'Orio</td>\n",
       "      <td>SC</td>\n",
       "      <td>GDO-0228</td>\n",
       "      <td>438_SCroce/9_SGiacomoDallOrio/SGiacomoDallOrio...</td>\n",
       "      <td>POINT (290803.9453117192 5035349.934663499)</td>\n",
       "    </tr>\n",
       "    <tr>\n",
       "      <th>17846</th>\n",
       "      <td>17846</td>\n",
       "      <td>18</td>\n",
       "      <td>Domenico Vaccaro</td>\n",
       "      <td>PPL</td>\n",
       "      <td>1</td>\n",
       "      <td></td>\n",
       "      <td></td>\n",
       "      <td></td>\n",
       "      <td>Domenico</td>\n",
       "      <td>VACCARO</td>\n",
       "      <td>...</td>\n",
       "      <td>nan</td>\n",
       "      <td>nan</td>\n",
       "      <td>nan</td>\n",
       "      <td>Francesca</td>\n",
       "      <td>Al Ponte di mezzo in Rio della Chiesa</td>\n",
       "      <td>San Trovaso</td>\n",
       "      <td>DD</td>\n",
       "      <td>TRV-0018b</td>\n",
       "      <td>439_Dorsoduro/6_STrovaso/STrovaso_2_17.png</td>\n",
       "      <td>POINT (290871.2582336992 5034313.463503406)</td>\n",
       "    </tr>\n",
       "    <tr>\n",
       "      <th>13778</th>\n",
       "      <td>13778</td>\n",
       "      <td>721</td>\n",
       "      <td>Antonio Altobello</td>\n",
       "      <td>PPL</td>\n",
       "      <td>1</td>\n",
       "      <td></td>\n",
       "      <td></td>\n",
       "      <td></td>\n",
       "      <td>Antonio</td>\n",
       "      <td>ALTOBELLO</td>\n",
       "      <td>...</td>\n",
       "      <td>nan</td>\n",
       "      <td>nan</td>\n",
       "      <td>nan</td>\n",
       "      <td>Davide</td>\n",
       "      <td>Fondamenta de Tentori</td>\n",
       "      <td>San Raffael</td>\n",
       "      <td>DD</td>\n",
       "      <td>RAF-0721</td>\n",
       "      <td>439_Dorsoduro/2_SRaffael/SRaffael_45_710.png</td>\n",
       "      <td>POINT (290432.0517098375 5034706.454614096)</td>\n",
       "    </tr>\n",
       "  </tbody>\n",
       "</table>\n",
       "<p>3 rows × 28 columns</p>\n",
       "</div>"
      ],
      "text/plain": [
       "        uidx   id         owner_name owner_code owner_count   \n",
       "21152  21152  228     Fratelli Busca        PPL           2  \\\n",
       "17846  17846   18   Domenico Vaccaro        PPL           1   \n",
       "13778  13778  721  Antonio Altobello        PPL           1   \n",
       "\n",
       "      owner_count_remark owner_entity owner_entity_group owner_first_name   \n",
       "21152                 2+                                        _fratelli  \\\n",
       "17846                                                            Domenico   \n",
       "13778                                                             Antonio   \n",
       "\n",
       "      owner_family_name  ... id_napo quantity_income quality_income   \n",
       "21152             BUSCA  ...     nan             nan            nan  \\\n",
       "17846           VACCARO  ...     nan             nan            nan   \n",
       "13778         ALTOBELLO  ...     nan             nan            nan   \n",
       "\n",
       "          author                                  place   \n",
       "21152     Davide                              Alli Bari  \\\n",
       "17846  Francesca  Al Ponte di mezzo in Rio della Chiesa   \n",
       "13778     Davide                  Fondamenta de Tentori   \n",
       "\n",
       "                      parish sestiere        uid   \n",
       "21152  San Giacomo dall'Orio       SC   GDO-0228  \\\n",
       "17846            San Trovaso       DD  TRV-0018b   \n",
       "13778            San Raffael       DD   RAF-0721   \n",
       "\n",
       "                                                path_img   \n",
       "21152  438_SCroce/9_SGiacomoDallOrio/SGiacomoDallOrio...  \\\n",
       "17846         439_Dorsoduro/6_STrovaso/STrovaso_2_17.png   \n",
       "13778       439_Dorsoduro/2_SRaffael/SRaffael_45_710.png   \n",
       "\n",
       "                                          geometry  \n",
       "21152  POINT (290803.9453117192 5035349.934663499)  \n",
       "17846  POINT (290871.2582336992 5034313.463503406)  \n",
       "13778  POINT (290432.0517098375 5034706.454614096)  \n",
       "\n",
       "[3 rows x 28 columns]"
      ]
     },
     "metadata": {},
     "output_type": "display_data"
    }
   ],
   "source": [
    "data = pd.DataFrame(data)\n",
    "print(data.shape)\n",
    "print(data.columns)\n",
    "display(data.sample(3))"
   ]
  },
  {
   "cell_type": "code",
   "execution_count": 206,
   "metadata": {},
   "outputs": [],
   "source": [
    "data_short = data[['owner_code', 'owner_count',\n",
    "       'owner_first_name', 'owner_family_name',\n",
    "       'owner_mestiere', 'ten_name', 'function', \n",
    "       'an_rendi', 'place', 'parish', 'geometry']]"
   ]
  },
  {
   "cell_type": "code",
   "execution_count": 208,
   "metadata": {},
   "outputs": [],
   "source": [
    "# numeric rent\n",
    "data_short = data_short[data_short['an_rendi'].apply(lambda x: type(x) == int)]\n",
    "# data_short = data_short[data_short['an_rendi'].str.isnumeric()]"
   ]
  },
  {
   "cell_type": "code",
   "execution_count": 209,
   "metadata": {},
   "outputs": [
    {
     "data": {
      "text/plain": [
       "(24460, 11)"
      ]
     },
     "execution_count": 209,
     "metadata": {},
     "output_type": "execute_result"
    }
   ],
   "source": [
    "# select single owners\n",
    "data_short = data_short[data_short['owner_count']==1]\n",
    "# data_short = data_short[data_short['owner_count']=='1']\n",
    "data_short.shape"
   ]
  },
  {
   "cell_type": "code",
   "execution_count": 210,
   "metadata": {},
   "outputs": [
    {
     "data": {
      "text/plain": [
       "(19070, 11)"
      ]
     },
     "execution_count": 210,
     "metadata": {},
     "output_type": "execute_result"
    }
   ],
   "source": [
    "# Select people only\n",
    "data_short = data_short[data_short['owner_code']=='PPL']\n",
    "data_short.shape"
   ]
  },
  {
   "cell_type": "code",
   "execution_count": 214,
   "metadata": {},
   "outputs": [],
   "source": [
    "# clean function\n",
    "data_short['function'] = data_short['function'].astype(str)\n",
    "data_short['function'] = data_short['function'].apply(lambda x: x.split('da')[0].strip().split(' e '))\n",
    "data_short['n_function'] = data_short['function'].apply(lambda x: len(x))\n",
    "data_short['function'] = data_short['function'].apply(lambda x: ', '.join(x))"
   ]
  },
  {
   "cell_type": "code",
   "execution_count": 215,
   "metadata": {},
   "outputs": [
    {
     "data": {
      "text/plain": [
       "(18953, 12)"
      ]
     },
     "execution_count": 215,
     "metadata": {},
     "output_type": "execute_result"
    }
   ],
   "source": [
    "# remove where | or _ in owner first name\n",
    "data_short = data_short[~data_short['owner_first_name'].str.contains('\\|')]\n",
    "data_short = data_short[~data_short['owner_first_name'].str.contains('_')]\n",
    "data_short.shape"
   ]
  },
  {
   "cell_type": "code",
   "execution_count": 225,
   "metadata": {},
   "outputs": [],
   "source": [
    "# clean geometry\n",
    "# data_short['x'] = data_short.geometry.apply(lambda point: point.x)\n",
    "# data_short['y'] = data_short.geometry.apply(lambda point: point.y)\n",
    "# data_short.drop(['geometry', 'owner_count', 'owner_code'], axis=1, inplace=True)\n",
    "\n",
    "data_short['geometry'] = data_short['geometry'].apply(lambda x: x.replace('POINT','').replace(')','').replace('(','').strip().split(' '))\n",
    "data_short.drop(['owner_count', 'owner_code'], axis=1, inplace=True)"
   ]
  },
  {
   "cell_type": "code",
   "execution_count": 226,
   "metadata": {},
   "outputs": [
    {
     "data": {
      "text/html": [
       "<div>\n",
       "<style scoped>\n",
       "    .dataframe tbody tr th:only-of-type {\n",
       "        vertical-align: middle;\n",
       "    }\n",
       "\n",
       "    .dataframe tbody tr th {\n",
       "        vertical-align: top;\n",
       "    }\n",
       "\n",
       "    .dataframe thead th {\n",
       "        text-align: right;\n",
       "    }\n",
       "</style>\n",
       "<table border=\"1\" class=\"dataframe\">\n",
       "  <thead>\n",
       "    <tr style=\"text-align: right;\">\n",
       "      <th></th>\n",
       "      <th>owner_first_name</th>\n",
       "      <th>owner_family_name</th>\n",
       "      <th>owner_mestiere</th>\n",
       "      <th>ten_name</th>\n",
       "      <th>function</th>\n",
       "      <th>an_rendi</th>\n",
       "      <th>place</th>\n",
       "      <th>parish</th>\n",
       "      <th>geometry</th>\n",
       "      <th>n_function</th>\n",
       "    </tr>\n",
       "  </thead>\n",
       "  <tbody>\n",
       "    <tr>\n",
       "      <th>13104</th>\n",
       "      <td>Alvise</td>\n",
       "      <td>PISANI</td>\n",
       "      <td></td>\n",
       "      <td>Francesco Boschini</td>\n",
       "      <td>casa</td>\n",
       "      <td>10</td>\n",
       "      <td>Fossa Capera</td>\n",
       "      <td>San Raffael</td>\n",
       "      <td>[290102.7505837445, 5034453.056417173]</td>\n",
       "      <td>1</td>\n",
       "    </tr>\n",
       "    <tr>\n",
       "      <th>10830</th>\n",
       "      <td>Andrea</td>\n",
       "      <td>ERIZZO</td>\n",
       "      <td></td>\n",
       "      <td>Zuanne Angieli</td>\n",
       "      <td>Casa, bottega</td>\n",
       "      <td>35</td>\n",
       "      <td>In Fondamenta vicin alla Chiesa</td>\n",
       "      <td>Sant'Antonino</td>\n",
       "      <td>[292483.0843632889, 5034723.356146083]</td>\n",
       "      <td>2</td>\n",
       "    </tr>\n",
       "    <tr>\n",
       "      <th>1615</th>\n",
       "      <td>Elisabetta</td>\n",
       "      <td>ZINELLI</td>\n",
       "      <td></td>\n",
       "      <td>Bortolo Dagnolo</td>\n",
       "      <td>casa a pepian</td>\n",
       "      <td>5</td>\n",
       "      <td>Calle del Centon</td>\n",
       "      <td>San Geremia</td>\n",
       "      <td>[290591.3896869204, 5035830.948885622]</td>\n",
       "      <td>1</td>\n",
       "    </tr>\n",
       "    <tr>\n",
       "      <th>5327</th>\n",
       "      <td>Paolina</td>\n",
       "      <td>BADOER MOCENIGO</td>\n",
       "      <td></td>\n",
       "      <td>Stefano Rubelli tentor</td>\n",
       "      <td>casa in solaro, bottega</td>\n",
       "      <td>60</td>\n",
       "      <td>Calle del ponte del legno</td>\n",
       "      <td>Santa Maria Nova</td>\n",
       "      <td>[292011.1163428106, 5035237.049365022]</td>\n",
       "      <td>2</td>\n",
       "    </tr>\n",
       "    <tr>\n",
       "      <th>31191</th>\n",
       "      <td>Giacomo</td>\n",
       "      <td>CORRER</td>\n",
       "      <td></td>\n",
       "      <td>Alba Bonati primo</td>\n",
       "      <td>Casa in tre solari</td>\n",
       "      <td>30</td>\n",
       "      <td>Calle del Pestrin</td>\n",
       "      <td>San Mattio</td>\n",
       "      <td>[291464.7446401383, 5035195.355419341]</td>\n",
       "      <td>1</td>\n",
       "    </tr>\n",
       "  </tbody>\n",
       "</table>\n",
       "</div>"
      ],
      "text/plain": [
       "      owner_first_name owner_family_name owner_mestiere   \n",
       "13104           Alvise            PISANI                 \\\n",
       "10830           Andrea            ERIZZO                  \n",
       "1615        Elisabetta           ZINELLI                  \n",
       "5327           Paolina   BADOER MOCENIGO                  \n",
       "31191          Giacomo            CORRER                  \n",
       "\n",
       "                     ten_name                 function an_rendi   \n",
       "13104      Francesco Boschini                     casa       10  \\\n",
       "10830          Zuanne Angieli            Casa, bottega       35   \n",
       "1615          Bortolo Dagnolo            casa a pepian        5   \n",
       "5327   Stefano Rubelli tentor  casa in solaro, bottega       60   \n",
       "31191       Alba Bonati primo       Casa in tre solari       30   \n",
       "\n",
       "                                 place            parish   \n",
       "13104                     Fossa Capera       San Raffael  \\\n",
       "10830  In Fondamenta vicin alla Chiesa     Sant'Antonino   \n",
       "1615                  Calle del Centon       San Geremia   \n",
       "5327         Calle del ponte del legno  Santa Maria Nova   \n",
       "31191                Calle del Pestrin        San Mattio   \n",
       "\n",
       "                                     geometry  n_function  \n",
       "13104  [290102.7505837445, 5034453.056417173]           1  \n",
       "10830  [292483.0843632889, 5034723.356146083]           2  \n",
       "1615   [290591.3896869204, 5035830.948885622]           1  \n",
       "5327   [292011.1163428106, 5035237.049365022]           2  \n",
       "31191  [291464.7446401383, 5035195.355419341]           1  "
      ]
     },
     "execution_count": 226,
     "metadata": {},
     "output_type": "execute_result"
    }
   ],
   "source": [
    "data_short.sample(5)"
   ]
  },
  {
   "cell_type": "code",
   "execution_count": 232,
   "metadata": {},
   "outputs": [],
   "source": [
    "def convert_coor(geometry):\n",
    "    x , y = geometry\n",
    "    src_crs = pyproj.CRS('EPSG:32633')\n",
    "    tgt_crs = pyproj.CRS('EPSG:4326')\n",
    "    transformer = pyproj.Transformer.from_crs(src_crs, tgt_crs, always_xy=True)\n",
    "    lon, lat = transformer.transform(x, y)\n",
    "    return [lon, lat]\n",
    "data_short['geometry'] = data_short['geometry'].apply(convert_coor)"
   ]
  },
  {
   "cell_type": "code",
   "execution_count": 252,
   "metadata": {},
   "outputs": [
    {
     "data": {
      "text/html": [
       "<div>\n",
       "<style scoped>\n",
       "    .dataframe tbody tr th:only-of-type {\n",
       "        vertical-align: middle;\n",
       "    }\n",
       "\n",
       "    .dataframe tbody tr th {\n",
       "        vertical-align: top;\n",
       "    }\n",
       "\n",
       "    .dataframe thead th {\n",
       "        text-align: right;\n",
       "    }\n",
       "</style>\n",
       "<table border=\"1\" class=\"dataframe\">\n",
       "  <thead>\n",
       "    <tr style=\"text-align: right;\">\n",
       "      <th></th>\n",
       "      <th>Owner_First_Name</th>\n",
       "      <th>Owner_Family_Name</th>\n",
       "      <th>Owner_Profession</th>\n",
       "      <th>Tenant_Name</th>\n",
       "      <th>Property_Functions</th>\n",
       "      <th>Rent_Price</th>\n",
       "      <th>Location</th>\n",
       "      <th>Parish</th>\n",
       "      <th>Property_Functions_Count</th>\n",
       "      <th>Longitude</th>\n",
       "      <th>Latitude</th>\n",
       "    </tr>\n",
       "  </thead>\n",
       "  <tbody>\n",
       "    <tr>\n",
       "      <th>21249</th>\n",
       "      <td>costantin</td>\n",
       "      <td>franceschi</td>\n",
       "      <td></td>\n",
       "      <td>francesco luchi</td>\n",
       "      <td>nan</td>\n",
       "      <td>14</td>\n",
       "      <td>in faccia al balin</td>\n",
       "      <td>san giacomo dall'orio</td>\n",
       "      <td>1</td>\n",
       "      <td>12.325729</td>\n",
       "      <td>45.440921</td>\n",
       "    </tr>\n",
       "    <tr>\n",
       "      <th>5092</th>\n",
       "      <td>maria celeste</td>\n",
       "      <td>calegari</td>\n",
       "      <td></td>\n",
       "      <td>domenico dall'oglio</td>\n",
       "      <td>casa in soler</td>\n",
       "      <td>38</td>\n",
       "      <td>calle per andar in corte a ka' minio</td>\n",
       "      <td>santa maria maddalena</td>\n",
       "      <td>1</td>\n",
       "      <td>12.330736</td>\n",
       "      <td>45.442989</td>\n",
       "    </tr>\n",
       "    <tr>\n",
       "      <th>20333</th>\n",
       "      <td>teresa</td>\n",
       "      <td>rossi</td>\n",
       "      <td></td>\n",
       "      <td>francesco pedretti</td>\n",
       "      <td>inviamento</td>\n",
       "      <td>9</td>\n",
       "      <td>calle della regina</td>\n",
       "      <td>san cassiano</td>\n",
       "      <td>1</td>\n",
       "      <td>12.331084</td>\n",
       "      <td>45.439616</td>\n",
       "    </tr>\n",
       "    <tr>\n",
       "      <th>31360</th>\n",
       "      <td></td>\n",
       "      <td>corner</td>\n",
       "      <td></td>\n",
       "      <td>francesco zanchi</td>\n",
       "      <td>casa primo soler</td>\n",
       "      <td>10</td>\n",
       "      <td>in calle di cornaro</td>\n",
       "      <td>san polo</td>\n",
       "      <td>1</td>\n",
       "      <td>12.329192</td>\n",
       "      <td>45.438028</td>\n",
       "    </tr>\n",
       "    <tr>\n",
       "      <th>6125</th>\n",
       "      <td>nicolo</td>\n",
       "      <td>dona</td>\n",
       "      <td></td>\n",
       "      <td>piero tacchin</td>\n",
       "      <td>bottega di favro</td>\n",
       "      <td>26</td>\n",
       "      <td>calle di ca' zen</td>\n",
       "      <td>santi apostoli</td>\n",
       "      <td>1</td>\n",
       "      <td>12.337738</td>\n",
       "      <td>45.441838</td>\n",
       "    </tr>\n",
       "  </tbody>\n",
       "</table>\n",
       "</div>"
      ],
      "text/plain": [
       "      Owner_First_Name Owner_Family_Name Owner_Profession   \n",
       "21249        costantin        franceschi                   \\\n",
       "5092     maria celeste          calegari                    \n",
       "20333           teresa             rossi                    \n",
       "31360                             corner                    \n",
       "6125            nicolo              dona                    \n",
       "\n",
       "               Tenant_Name Property_Functions  Rent_Price   \n",
       "21249      francesco luchi                nan          14  \\\n",
       "5092   domenico dall'oglio      casa in soler          38   \n",
       "20333   francesco pedretti         inviamento           9   \n",
       "31360     francesco zanchi   casa primo soler          10   \n",
       "6125         piero tacchin   bottega di favro          26   \n",
       "\n",
       "                                   Location                 Parish   \n",
       "21249                    in faccia al balin  san giacomo dall'orio  \\\n",
       "5092   calle per andar in corte a ka' minio  santa maria maddalena   \n",
       "20333                    calle della regina           san cassiano   \n",
       "31360                   in calle di cornaro               san polo   \n",
       "6125                       calle di ca' zen         santi apostoli   \n",
       "\n",
       "       Property_Functions_Count  Longitude   Latitude  \n",
       "21249                         1  12.325729  45.440921  \n",
       "5092                          1  12.330736  45.442989  \n",
       "20333                         1  12.331084  45.439616  \n",
       "31360                         1  12.329192  45.438028  \n",
       "6125                          1  12.337738  45.441838  "
      ]
     },
     "execution_count": 252,
     "metadata": {},
     "output_type": "execute_result"
    }
   ],
   "source": [
    "new_columns = {\n",
    "    \"owner_first_name\":\"Owner_First_Name\",\n",
    "    \"owner_family_name\":\"Owner_Family_Name\",\n",
    "    \"owner_mestiere\":\"Owner_Profession\",\n",
    "    \"ten_name\":\"Tenant_Name\",\n",
    "    \"function\":\"Property_Functions\",\n",
    "    \"an_rendi\":\"Rent_Price\",\n",
    "    \"place\":\"Location\",\n",
    "    \"parish\":\"Parish\",\n",
    "    \"geometry\":\"Coordinates\",\n",
    "    \"n_function\":\"Property_Functions_Count\",\n",
    "}\n",
    "data_short.rename(columns=new_columns, inplace=True)\n",
    "data_short = data_short.applymap(lambda x: x.lower() if isinstance(x, str) else x)\n",
    "data_short['Longitude'] = data_short['Coordinates'].apply(lambda x: x[0])\n",
    "data_short['Latitude'] = data_short['Coordinates'].apply(lambda x: x[1])\n",
    "data_short.drop('Coordinates',axis=1,inplace=True)\n",
    "data_short.sample(5)"
   ]
  },
  {
   "cell_type": "code",
   "execution_count": 253,
   "metadata": {},
   "outputs": [
    {
     "data": {
      "text/plain": [
       "(18953, 11)"
      ]
     },
     "execution_count": 253,
     "metadata": {},
     "output_type": "execute_result"
    }
   ],
   "source": [
    "data_short.shape"
   ]
  },
  {
   "cell_type": "code",
   "execution_count": 20,
   "metadata": {},
   "outputs": [
    {
     "data": {
      "text/plain": [
       "array([nan, 'avvocato', 'medico', 'procurator', 'mercante da legname',\n",
       "       'orefice', 'illustrissimo medico', 'procuratore', 'fruttarola',\n",
       "       'luganegher', 'dottor', 'nodaro veneto', 'avocato', 'frutariol',\n",
       "       'economo', 'mercadante da chiodi', 'cuoco', 'ecconomo',\n",
       "       'peruchier', 'specier da confetti', \"mercante d'oro\", 'tutrice',\n",
       "       'erbarol', 'fabro'], dtype=object)"
      ]
     },
     "execution_count": 20,
     "metadata": {},
     "output_type": "execute_result"
    }
   ],
   "source": [
    "data_short.Owner_Profession.unique()"
   ]
  },
  {
   "cell_type": "code",
   "execution_count": 14,
   "metadata": {},
   "outputs": [],
   "source": [
    "data_short = data_short.fillna('')\n",
    "data_short.to_csv('clean/properties.csv', index=False)"
   ]
  },
  {
   "cell_type": "code",
   "execution_count": 15,
   "metadata": {},
   "outputs": [],
   "source": [
    "data_short = pd.read_csv('clean/properties.csv')"
   ]
  },
  {
   "cell_type": "code",
   "execution_count": 18,
   "metadata": {},
   "outputs": [],
   "source": [
    "gdf = gpd.GeoDataFrame(data_short, geometry=[Point(xy) for xy in zip(data_short['Longitude'], data_short['Latitude'])])\n",
    "geojson_str = gdf.to_json()\n",
    "gdf.to_file(\"clean/properties_geo.geojson\", driver=\"GeoJSON\")  "
   ]
  },
  {
   "cell_type": "markdown",
   "metadata": {},
   "source": [
    "# OSM"
   ]
  },
  {
   "cell_type": "code",
   "execution_count": 160,
   "metadata": {},
   "outputs": [],
   "source": [
    "with open('export.geojson', 'r') as f:\n",
    "    data = json.load(f)['features']\n",
    "data_p = [d['properties'] for d in data]\n",
    "data_g = [d['geometry']['coordinates'] for d in data]"
   ]
  },
  {
   "cell_type": "code",
   "execution_count": 161,
   "metadata": {},
   "outputs": [
    {
     "name": "stdout",
     "output_type": "stream",
     "text": [
      "{'roof:orientation', 'name', 'visible_name', 'building:levels', 'name:sk', 'addr:country', 'svg:bezier', 'loc_name', 'lit', 'roof:material', 'name:cs', 'religion', 'historic', 'addr:postcode', 'roof:height', 'name:ru', 'url', 'email', 'name:fr', 'bicycle', 'roof:shape', 'abandoned', 'name:zh', 'name:he', 'source:date', 'horse', '@id', 'source', 'opening_hours', 'website', 'addr:city', 'addr:street', 'name:vec', 'wikipedia', 'tourism', 'name:pl', 'ele', 'style', 'name:pt', 'name:uk', 'place', 'name:lt', 'start_date', 'building', 'wikipedia:en', 'amenity', 'height', 'wheelchair', 'foot', 'name:it', 'name:ko', 'wikimedia_commons', 'denomination', 'old_name', 'name:da', 'surface', 'check_date', 'area', 'service_times', 'name:es', 'addr:housenumber', 'building:colour', '@geometry', 'roof:colour', 'addr:place', 'name:hu', 'name:ja', 'name:de', 'wikidata', 'name:en', 'layer', 'building:material', 'importance', 'type', 'note', 'alt_name', 'highway'}\n"
     ]
    }
   ],
   "source": [
    "all_keys = set([dk for d in data_p for dk in d.keys()])\n",
    "print(all_keys)"
   ]
  },
  {
   "cell_type": "code",
   "execution_count": 162,
   "metadata": {},
   "outputs": [],
   "source": [
    "important_keys = ['name','religion','building','amenity','highway','place']\n",
    "data_clean = []\n",
    "for p, g in zip(data_p, data_g):\n",
    "    p_k = {}\n",
    "    for k in important_keys:\n",
    "        if k in p.keys():\n",
    "            p_k[k] = p[k]\n",
    "    p_k['geometry'] = g\n",
    "    data_clean.append(p_k)\n",
    "    "
   ]
  },
  {
   "cell_type": "code",
   "execution_count": 262,
   "metadata": {},
   "outputs": [
    {
     "data": {
      "text/html": [
       "<div>\n",
       "<style scoped>\n",
       "    .dataframe tbody tr th:only-of-type {\n",
       "        vertical-align: middle;\n",
       "    }\n",
       "\n",
       "    .dataframe tbody tr th {\n",
       "        vertical-align: top;\n",
       "    }\n",
       "\n",
       "    .dataframe thead th {\n",
       "        text-align: right;\n",
       "    }\n",
       "</style>\n",
       "<table border=\"1\" class=\"dataframe\">\n",
       "  <thead>\n",
       "    <tr style=\"text-align: right;\">\n",
       "      <th></th>\n",
       "      <th>religion</th>\n",
       "      <th>building</th>\n",
       "      <th>amenity</th>\n",
       "      <th>geometry</th>\n",
       "      <th>name</th>\n",
       "      <th>highway</th>\n",
       "      <th>place</th>\n",
       "    </tr>\n",
       "  </thead>\n",
       "  <tbody>\n",
       "    <tr>\n",
       "      <th>173</th>\n",
       "      <td>christian</td>\n",
       "      <td>church</td>\n",
       "      <td>place_of_worship</td>\n",
       "      <td>[12.3465285, 45.4355804]</td>\n",
       "      <td>Chiesa di Sant'Antonin</td>\n",
       "      <td>NaN</td>\n",
       "      <td>NaN</td>\n",
       "    </tr>\n",
       "    <tr>\n",
       "      <th>3</th>\n",
       "      <td>NaN</td>\n",
       "      <td>NaN</td>\n",
       "      <td>NaN</td>\n",
       "      <td>[12.3319525, 45.4342152]</td>\n",
       "      <td>Campo Sant'Anzolo</td>\n",
       "      <td>pedestrian</td>\n",
       "      <td>square</td>\n",
       "    </tr>\n",
       "    <tr>\n",
       "      <th>90</th>\n",
       "      <td>christian</td>\n",
       "      <td>church</td>\n",
       "      <td>place_of_worship</td>\n",
       "      <td>[12.3327977, 45.4326004]</td>\n",
       "      <td>Santa Maria del Giglio o Zobenigo</td>\n",
       "      <td>NaN</td>\n",
       "      <td>NaN</td>\n",
       "    </tr>\n",
       "    <tr>\n",
       "      <th>158</th>\n",
       "      <td>christian</td>\n",
       "      <td>church</td>\n",
       "      <td>place_of_worship</td>\n",
       "      <td>[12.3421972, 45.4392537]</td>\n",
       "      <td>Basilica dei santi Giovanni e Paolo</td>\n",
       "      <td>NaN</td>\n",
       "      <td>NaN</td>\n",
       "    </tr>\n",
       "    <tr>\n",
       "      <th>73</th>\n",
       "      <td>NaN</td>\n",
       "      <td>NaN</td>\n",
       "      <td>NaN</td>\n",
       "      <td>[12.3390051, 45.43605]</td>\n",
       "      <td>Campo della Guerra</td>\n",
       "      <td>pedestrian</td>\n",
       "      <td>NaN</td>\n",
       "    </tr>\n",
       "  </tbody>\n",
       "</table>\n",
       "</div>"
      ],
      "text/plain": [
       "      religion building           amenity                  geometry   \n",
       "173  christian   church  place_of_worship  [12.3465285, 45.4355804]  \\\n",
       "3          NaN      NaN               NaN  [12.3319525, 45.4342152]   \n",
       "90   christian   church  place_of_worship  [12.3327977, 45.4326004]   \n",
       "158  christian   church  place_of_worship  [12.3421972, 45.4392537]   \n",
       "73         NaN      NaN               NaN    [12.3390051, 45.43605]   \n",
       "\n",
       "                                    name     highway   place  \n",
       "173               Chiesa di Sant'Antonin         NaN     NaN  \n",
       "3                      Campo Sant'Anzolo  pedestrian  square  \n",
       "90     Santa Maria del Giglio o Zobenigo         NaN     NaN  \n",
       "158  Basilica dei santi Giovanni e Paolo         NaN     NaN  \n",
       "73                    Campo della Guerra  pedestrian     NaN  "
      ]
     },
     "execution_count": 262,
     "metadata": {},
     "output_type": "execute_result"
    }
   ],
   "source": [
    "data_exp = pd.DataFrame(data_clean)\n",
    "data_exp.sample(5)"
   ]
  },
  {
   "cell_type": "code",
   "execution_count": 263,
   "metadata": {},
   "outputs": [],
   "source": [
    "data_exp.loc[(data_exp['highway'].notna()) | (data_exp['place'].notna()), 'type'] = 'square'\n",
    "data_exp.loc[(data_exp['building'].notna()), 'type'] = 'building'\n",
    "data_exp = data_exp[data_exp['religion'] != 'jewish']\n",
    "data_exp.loc[data_exp['name']=='Oratorio della Madre di Dio', 'building'] = 'church'\n",
    "data_exp.loc[data_exp['name']=='Chiesa di San Giovanni Battista ai Catecumeni', 'building'] = 'church'\n",
    "data_exp.loc[data_exp['name']=='Cappella di San Vio', 'building'] = 'church'\n",
    "data_exp.loc[data_exp['name']==\"Scuola dell'Angelo custode\", 'building'] = 'church'\n",
    "data_exp.loc[data_exp['building']==\"chapel\", 'building'] = 'church'\n",
    "data_exp.loc[data_exp['building'].notna(), 'type'] = data_exp['building']\n",
    "data_exp['name'].fillna('',inplace=True)\n",
    "data_exp['Longitude'] = data_exp['geometry'].apply(lambda x: x[0])\n",
    "data_exp['Latitude'] = data_exp['geometry'].apply(lambda x: x[1])\n",
    "data_exp.drop(['geometry','highway','place','religion','building','amenity'], axis=1, inplace=True)\n",
    "data_exp['name'] = data_exp['name'].apply(lambda x: x.lower())\n",
    "data_exp.rename(columns={\"name\":\"Entity_Name\", \"type\":\"Entity_Type\"}, inplace=True)"
   ]
  },
  {
   "cell_type": "code",
   "execution_count": 264,
   "metadata": {},
   "outputs": [
    {
     "name": "stdout",
     "output_type": "stream",
     "text": [
      "(192, 4)\n"
     ]
    },
    {
     "data": {
      "text/html": [
       "<div>\n",
       "<style scoped>\n",
       "    .dataframe tbody tr th:only-of-type {\n",
       "        vertical-align: middle;\n",
       "    }\n",
       "\n",
       "    .dataframe tbody tr th {\n",
       "        vertical-align: top;\n",
       "    }\n",
       "\n",
       "    .dataframe thead th {\n",
       "        text-align: right;\n",
       "    }\n",
       "</style>\n",
       "<table border=\"1\" class=\"dataframe\">\n",
       "  <thead>\n",
       "    <tr style=\"text-align: right;\">\n",
       "      <th></th>\n",
       "      <th>Entity_Name</th>\n",
       "      <th>Entity_Type</th>\n",
       "      <th>Longitude</th>\n",
       "      <th>Latitude</th>\n",
       "    </tr>\n",
       "  </thead>\n",
       "  <tbody>\n",
       "    <tr>\n",
       "      <th>12</th>\n",
       "      <td>campo san salvador</td>\n",
       "      <td>square</td>\n",
       "      <td>12.336150</td>\n",
       "      <td>45.436880</td>\n",
       "    </tr>\n",
       "    <tr>\n",
       "      <th>123</th>\n",
       "      <td>santa teresa</td>\n",
       "      <td>church</td>\n",
       "      <td>12.316247</td>\n",
       "      <td>45.433146</td>\n",
       "    </tr>\n",
       "    <tr>\n",
       "      <th>63</th>\n",
       "      <td></td>\n",
       "      <td>square</td>\n",
       "      <td>12.326952</td>\n",
       "      <td>45.437947</td>\n",
       "    </tr>\n",
       "    <tr>\n",
       "      <th>152</th>\n",
       "      <td>chiesa dei santi geremia e lucia</td>\n",
       "      <td>church</td>\n",
       "      <td>12.325317</td>\n",
       "      <td>45.442656</td>\n",
       "    </tr>\n",
       "    <tr>\n",
       "      <th>183</th>\n",
       "      <td>campo san stin</td>\n",
       "      <td>square</td>\n",
       "      <td>12.326952</td>\n",
       "      <td>45.437947</td>\n",
       "    </tr>\n",
       "  </tbody>\n",
       "</table>\n",
       "</div>"
      ],
      "text/plain": [
       "                          Entity_Name Entity_Type  Longitude   Latitude\n",
       "12                 campo san salvador      square  12.336150  45.436880\n",
       "123                      santa teresa      church  12.316247  45.433146\n",
       "63                                         square  12.326952  45.437947\n",
       "152  chiesa dei santi geremia e lucia      church  12.325317  45.442656\n",
       "183                    campo san stin      square  12.326952  45.437947"
      ]
     },
     "execution_count": 264,
     "metadata": {},
     "output_type": "execute_result"
    }
   ],
   "source": [
    "print(data_exp.shape)\n",
    "data_exp.sample(5)"
   ]
  },
  {
   "cell_type": "code",
   "execution_count": null,
   "metadata": {},
   "outputs": [],
   "source": []
  },
  {
   "cell_type": "code",
   "execution_count": 23,
   "metadata": {},
   "outputs": [],
   "source": [
    "data_exp.to_csv('clean/entities.csv', index=False)"
   ]
  },
  {
   "cell_type": "code",
   "execution_count": 24,
   "metadata": {},
   "outputs": [
    {
     "name": "stdout",
     "output_type": "stream",
     "text": [
      "{\"type\": \"FeatureCollection\", \"features\": [{\"id\": \"0\", \"type\": \"Feature\", \"properties\": {\"Entity_Name\": null, \"Entity_Type\": \"church\", \"Longitude\": 12.3328817, \"Latitude\": 45.4463708}, \"geometry\": {\"type\": \"Point\", \"coordinates\": [12.3328817, 45.4463708]}}, {\"id\": \"1\", \"type\": \"Feature\", \"properties\": {\"Entity_Name\": \"campiello della malvasia\", \"Entity_Type\": \"square\", \"Longitude\": 12.3497984, \"Latitude\": 45.4329065}, \"geometry\": {\"type\": \"Point\", \"coordinates\": [12.3497984, 45.4329065]}}, {\"id\": \"2\", \"type\": \"Feature\", \"properties\": {\"Entity_Name\": \"campo santa margherita\", \"Entity_Type\": \"square\", \"Longitude\": 12.3234482, \"Latitude\": 45.434305}, \"geometry\": {\"type\": \"Point\", \"coordinates\": [12.3234482, 45.434305]}}, {\"id\": \"3\", \"type\": \"Feature\", \"properties\": {\"Entity_Name\": \"campo sant'anzolo\", \"Entity_Type\": \"square\", \"Longitude\": 12.3319525, \"Latitude\": 45.4342152}, \"geometry\": {\"type\": \"Point\", \"coordinates\": [12.3319525, 45.4342152]}}, {\"id\": \"4\", \"type\": \"Feature\", \"properties\": {\"Entity_Name\": \"campo santa maria del giglio\", \"Entity_Type\": \"square\", \"Longitude\": 12.3329024, \"Latitude\": 45.4324274}, \"geometry\": {\"type\": \"Point\", \"coordinates\": [12.3329024, 45.4324274]}}, {\"id\": \"5\", \"type\": \"Feature\", \"properties\": {\"Entity_Name\": \"campo san zaccaria\", \"Entity_Type\": \"square\", \"Longitude\": 12.3431064, \"Latitude\": 45.4345951}, \"geometry\": {\"type\": \"Point\", \"coordinates\": [12.3431064, 45.4345951]}}, {\"id\": \"6\", \"type\": \"Feature\", \"properties\": {\"Entity_Name\": \"piazza san marco\", \"Entity_Type\": \"square\", \"Longitude\": 12.3385068, \"Latitude\": 45.4342611}, \"geometry\": {\"type\": \"Point\", \"coordinates\": [12.3385068, 45.4342611]}}, {\"id\": \"7\", \"type\": \"Feature\", \"properties\": {\"Entity_Name\": \"piazzetta san marco\", \"Entity_Type\": \"square\", \"Longitude\": 12.3396096, \"Latitude\": 45.4337604}, \"geometry\": {\"type\": \"Point\", \"coordinates\": [12.3396096, 45.4337604]}}, {\"id\": \"8\", \"type\": \"Feature\", \"properties\": {\"Entity_Name\": \"campo santi giovanni e paolo\", \"Entity_Type\": \"square\", \"Longitude\": 12.3416758, \"Latitude\": 45.4392211}, \"geometry\": {\"type\": \"Point\", \"coordinates\": [12.3416758, 45.4392211]}}, {\"id\": \"9\", \"type\": \"Feature\", \"properties\": {\"Entity_Name\": \"fondamenta santa lucia\", \"Entity_Type\": \"square\", \"Longitude\": 12.3213378, \"Latitude\": 45.4407746}, \"geometry\": {\"type\": \"Point\", \"coordinates\": [12.3213378, 45.4407746]}}, {\"id\": \"10\", \"type\": \"Feature\", \"properties\": {\"Entity_Name\": \"riva degli schiavoni\", \"Entity_Type\": \"square\", \"Longitude\": 12.3433257, \"Latitude\": 45.4338887}, \"geometry\": {\"type\": \"Point\", \"coordinates\": [12.3433257, 45.4338887]}}, {\"id\": \"11\", \"type\": \"Feature\", \"properties\": {\"Entity_Name\": \"campo san bartolomeo\", \"Entity_Type\": \"square\", \"Longitude\": 12.3368573, \"Latitude\": 45.4376819}, \"geometry\": {\"type\": \"Point\", \"coordinates\": [12.3368573, 45.4376819]}}, {\"id\": \"12\", \"type\": \"Feature\", \"properties\": {\"Entity_Name\": \"campo san salvador\", \"Entity_Type\": \"square\", \"Longitude\": 12.3361501, \"Latitude\": 45.43688}, \"geometry\": {\"type\": \"Point\", \"coordinates\": [12.3361501, 45.43688]}}, {\"id\": \"13\", \"type\": \"Feature\", \"properties\": {\"Entity_Name\": \"campo san maurizio\", \"Entity_Type\": \"square\", \"Longitude\": 12.331588, \"Latitude\": 45.4328103}, \"geometry\": {\"type\": \"Point\", \"coordinates\": [12.331588, 45.4328103]}}, {\"id\": \"14\", \"type\": \"Feature\", \"properties\": {\"Entity_Name\": \"campo santo stefano\", \"Entity_Type\": \"square\", \"Longitude\": 12.3302134, \"Latitude\": 45.4330928}, \"geometry\": {\"type\": \"Point\", \"coordinates\": [12.3302134, 45.4330928]}}, {\"id\": \"15\", \"type\": \"Feature\", \"properties\": {\"Entity_Name\": \"campo san samuele\", \"Entity_Type\": \"square\", \"Longitude\": 12.3278968, \"Latitude\": 45.433487}, \"geometry\": {\"type\": \"Point\", \"coordinates\": [12.3278968, 45.433487]}}, {\"id\": \"16\", \"type\": \"Feature\", \"properties\": {\"Entity_Name\": \"campo san giuseppe\", \"Entity_Type\": \"square\", \"Longitude\": 12.3569087, \"Latitude\": 45.4300804}, \"geometry\": {\"type\": \"Point\", \"coordinates\": [12.3569087, 45.4300804]}}, {\"id\": \"17\", \"type\": \"Feature\", \"properties\": {\"Entity_Name\": \"campo de l'arsenal\", \"Entity_Type\": \"square\", \"Longitude\": 12.3498727, \"Latitude\": 45.4345615}, \"geometry\": {\"type\": \"Point\", \"coordinates\": [12.3498727, 45.4345615]}}, {\"id\": \"18\", \"type\": \"Feature\", \"properties\": {\"Entity_Name\": \"campo de santa giustina\", \"Entity_Type\": \"square\", \"Longitude\": 12.3461005, \"Latitude\": 45.4380393}, \"geometry\": {\"type\": \"Point\", \"coordinates\": [12.3461005, 45.4380393]}}, {\"id\": \"19\", \"type\": \"Feature\", \"properties\": {\"Entity_Name\": \"campo san marcuola\", \"Entity_Type\": \"square\", \"Longitude\": 12.3286849, \"Latitude\": 45.4427031}, \"geometry\": {\"type\": \"Point\", \"coordinates\": [12.3286849, 45.4427031]}}, {\"id\": \"20\", \"type\": \"Feature\", \"properties\": {\"Entity_Name\": \"campo san zan degol\\u00e3\\u00a0\", \"Entity_Type\": \"square\", \"Longitude\": 12.3276788, \"Latitude\": 45.4415183}, \"geometry\": {\"type\": \"Point\", \"coordinates\": [12.3276788, 45.4415183]}}, {\"id\": \"21\", \"type\": \"Feature\", \"properties\": {\"Entity_Name\": \"campo san vidal\", \"Entity_Type\": \"square\", \"Longitude\": 12.329422, \"Latitude\": 45.4321966}, \"geometry\": {\"type\": \"Point\", \"coordinates\": [12.329422, 45.4321966]}}, {\"id\": \"22\", \"type\": \"Feature\", \"properties\": {\"Entity_Name\": \"campo de la salute\", \"Entity_Type\": \"square\", \"Longitude\": 12.3349515, \"Latitude\": 45.4306491}, \"geometry\": {\"type\": \"Point\", \"coordinates\": [12.3349515, 45.4306491]}}, {\"id\": \"23\", \"type\": \"Feature\", \"properties\": {\"Entity_Name\": \"campiello barbaro\", \"Entity_Type\": \"square\", \"Longitude\": 12.332246, \"Latitude\": 45.4304544}, \"geometry\": {\"type\": \"Point\", \"coordinates\": [12.332246, 45.4304544]}}, {\"id\": \"24\", \"type\": \"Feature\", \"properties\": {\"Entity_Name\": \"corte del sabion\", \"Entity_Type\": \"square\", \"Longitude\": 12.3311699, \"Latitude\": 45.430005}, \"geometry\": {\"type\": \"Point\", \"coordinates\": [12.3311699, 45.430005]}}, {\"id\": \"25\", \"type\": \"Feature\", \"properties\": {\"Entity_Name\": \"campo de la maddalena\", \"Entity_Type\": \"square\", \"Longitude\": 12.3311462, \"Latitude\": 45.4431192}, \"geometry\": {\"type\": \"Point\", \"coordinates\": [12.3311462, 45.4431192]}}, {\"id\": \"26\", \"type\": \"Feature\", \"properties\": {\"Entity_Name\": \"campo santa maria formosa\", \"Entity_Type\": \"square\", \"Longitude\": 12.341037, \"Latitude\": 45.4372965}, \"geometry\": {\"type\": \"Point\", \"coordinates\": [12.341037, 45.4372965]}}, {\"id\": \"27\", \"type\": \"Feature\", \"properties\": {\"Entity_Name\": \"campo san vio\", \"Entity_Type\": \"square\", \"Longitude\": 12.3301799, \"Latitude\": 45.4307831}, \"geometry\": {\"type\": \"Point\", \"coordinates\": [12.3301799, 45.4307831]}}, {\"id\": \"28\", \"type\": \"Feature\", \"properties\": {\"Entity_Name\": \"campo san giacomo\", \"Entity_Type\": \"square\", \"Longitude\": 12.3352369, \"Latitude\": 45.4386849}, \"geometry\": {\"type\": \"Point\", \"coordinates\": [12.3352369, 45.4386849]}}, {\"id\": \"29\", \"type\": \"Feature\", \"properties\": {\"Entity_Name\": \"corte del teatro\", \"Entity_Type\": \"square\", \"Longitude\": 12.3348925, \"Latitude\": 45.4363699}, \"geometry\": {\"type\": \"Point\", \"coordinates\": [12.3348925, 45.4363699]}}, {\"id\": \"30\", \"type\": \"Feature\", \"properties\": {\"Entity_Name\": \"campo santa sofia\", \"Entity_Type\": \"square\", \"Longitude\": 12.3347383, \"Latitude\": 45.4406467}, \"geometry\": {\"type\": \"Point\", \"coordinates\": [12.3347383, 45.4406467]}}, {\"id\": \"31\", \"type\": \"Feature\", \"properties\": {\"Entity_Name\": \"campo san marziale\", \"Entity_Type\": \"square\", \"Longitude\": 12.332734, \"Latitude\": 45.4437402}, \"geometry\": {\"type\": \"Point\", \"coordinates\": [12.332734, 45.4437402]}}, {\"id\": \"32\", \"type\": \"Feature\", \"properties\": {\"Entity_Name\": \"campiello de la scuola\", \"Entity_Type\": \"square\", \"Longitude\": 12.3256837, \"Latitude\": 45.4447084}, \"geometry\": {\"type\": \"Point\", \"coordinates\": [12.3256837, 45.4447084]}}, {\"id\": \"33\", \"type\": \"Feature\", \"properties\": {\"Entity_Name\": \"campo san simon grando\", \"Entity_Type\": \"square\", \"Longitude\": 12.3240477, \"Latitude\": 45.4410881}, \"geometry\": {\"type\": \"Point\", \"coordinates\": [12.3240477, 45.4410881]}}, {\"id\": \"34\", \"type\": \"Feature\", \"properties\": {\"Entity_Name\": \"campo san giovanni grisostomo\", \"Entity_Type\": \"square\", \"Longitude\": 12.3372687, \"Latitude\": 45.4393188}, \"geometry\": {\"type\": \"Point\", \"coordinates\": [12.3372687, 45.4393188]}}, {\"id\": \"35\", \"type\": \"Feature\", \"properties\": {\"Entity_Name\": \"corte del tintor\", \"Entity_Type\": \"square\", \"Longitude\": 12.3373131, \"Latitude\": 45.4381687}, \"geometry\": {\"type\": \"Point\", \"coordinates\": [12.3373131, 45.4381687]}}, {\"id\": \"36\", \"type\": \"Feature\", \"properties\": {\"Entity_Name\": \"campiello del vin\", \"Entity_Type\": \"square\", \"Longitude\": 12.342503, \"Latitude\": 45.4343989}, \"geometry\": {\"type\": \"Point\", \"coordinates\": [12.342503, 45.4343989]}}, {\"id\": \"37\", \"type\": \"Feature\", \"properties\": {\"Entity_Name\": \"corte bollani\", \"Entity_Type\": \"square\", \"Longitude\": 12.345393, \"Latitude\": 45.4349225}, \"geometry\": {\"type\": \"Point\", \"coordinates\": [12.345393, 45.4349225]}}, {\"id\": \"38\", \"type\": \"Feature\", \"properties\": {\"Entity_Name\": \"campo bandiera e moro\", \"Entity_Type\": \"square\", \"Longitude\": 12.3466516, \"Latitude\": 45.434605}, \"geometry\": {\"type\": \"Point\", \"coordinates\": [12.3466516, 45.434605]}}, {\"id\": \"39\", \"type\": \"Feature\", \"properties\": {\"Entity_Name\": \"campiello del piovan\", \"Entity_Type\": \"square\", \"Longitude\": 12.3469645, \"Latitude\": 45.4341196}, \"geometry\": {\"type\": \"Point\", \"coordinates\": [12.3469645, 45.4341196]}}, {\"id\": \"40\", \"type\": \"Feature\", \"properties\": {\"Entity_Name\": \"corte soranzo\", \"Entity_Type\": \"square\", \"Longitude\": 12.3481364, \"Latitude\": 45.4355848}, \"geometry\": {\"type\": \"Point\", \"coordinates\": [12.3481364, 45.4355848]}}, {\"id\": \"41\", \"type\": \"Feature\", \"properties\": {\"Entity_Name\": \"campo do pozzi\", \"Entity_Type\": \"square\", \"Longitude\": 12.3485656, \"Latitude\": 45.4361239}, \"geometry\": {\"type\": \"Point\", \"coordinates\": [12.3485656, 45.4361239]}}, {\"id\": \"42\", \"type\": \"Feature\", \"properties\": {\"Entity_Name\": \"campo de le gorne\", \"Entity_Type\": \"square\", \"Longitude\": 12.3491799, \"Latitude\": 45.4356281}, \"geometry\": {\"type\": \"Point\", \"coordinates\": [12.3491799, 45.4356281]}}, {\"id\": \"43\", \"type\": \"Feature\", \"properties\": {\"Entity_Name\": \"campo santa ternita\", \"Entity_Type\": \"square\", \"Longitude\": 12.3487332, \"Latitude\": 45.4372742}, \"geometry\": {\"type\": \"Point\", \"coordinates\": [12.3487332, 45.4372742]}}, {\"id\": \"44\", \"type\": \"Feature\", \"properties\": {\"Entity_Name\": \"campo de la chiesa\", \"Entity_Type\": \"square\", \"Longitude\": 12.3474567, \"Latitude\": 45.4378686}, \"geometry\": {\"type\": \"Point\", \"coordinates\": [12.3474567, 45.4378686]}}, {\"id\": \"45\", \"type\": \"Feature\", \"properties\": {\"Entity_Name\": \"campo de santa giustina detto de barbaria\", \"Entity_Type\": \"square\", \"Longitude\": 12.345294, \"Latitude\": 45.4384584}, \"geometry\": {\"type\": \"Point\", \"coordinates\": [12.345294, 45.4384584]}}, {\"id\": \"46\", \"type\": \"Feature\", \"properties\": {\"Entity_Name\": \"campo san lorenzo\", \"Entity_Type\": \"square\", \"Longitude\": 12.3448987, \"Latitude\": 45.4371544}, \"geometry\": {\"type\": \"Point\", \"coordinates\": [12.3448987, 45.4371544]}}, {\"id\": \"47\", \"type\": \"Feature\", \"properties\": {\"Entity_Name\": \"campo san canzian\", \"Entity_Type\": \"square\", \"Longitude\": 12.3383358, \"Latitude\": 45.440155}, \"geometry\": {\"type\": \"Point\", \"coordinates\": [12.3383358, 45.440155]}}, {\"id\": \"48\", \"type\": \"Feature\", \"properties\": {\"Entity_Name\": \"campiello bruno crovato\", \"Entity_Type\": \"square\", \"Longitude\": 12.3385939, \"Latitude\": 45.43988}, \"geometry\": {\"type\": \"Point\", \"coordinates\": [12.3385939, 45.43988]}}, {\"id\": \"49\", \"type\": \"Feature\", \"properties\": {\"Entity_Name\": \"campiello santa maria nova\", \"Entity_Type\": \"square\", \"Longitude\": 12.3386135, \"Latitude\": 45.4396637}, \"geometry\": {\"type\": \"Point\", \"coordinates\": [12.3386135, 45.4396637]}}, {\"id\": \"50\", \"type\": \"Feature\", \"properties\": {\"Entity_Name\": \"campo drio la chiesa\", \"Entity_Type\": \"square\", \"Longitude\": 12.3370728, \"Latitude\": 45.440507}, \"geometry\": {\"type\": \"Point\", \"coordinates\": [12.3370728, 45.440507]}}, {\"id\": \"51\", \"type\": \"Feature\", \"properties\": {\"Entity_Name\": \"campo santi apostoli\", \"Entity_Type\": \"square\", \"Longitude\": 12.3365278, \"Latitude\": 45.440382}, \"geometry\": {\"type\": \"Point\", \"coordinates\": [12.3365278, 45.440382]}}, {\"id\": \"52\", \"type\": \"Feature\", \"properties\": {\"Entity_Name\": null, \"Entity_Type\": \"square\", \"Longitude\": 12.3362882, \"Latitude\": 45.4419575}, \"geometry\": {\"type\": \"Point\", \"coordinates\": [12.3362882, 45.4419575]}}, {\"id\": \"53\", \"type\": \"Feature\", \"properties\": {\"Entity_Name\": \"campo de le erbe\", \"Entity_Type\": \"square\", \"Longitude\": 12.3352127, \"Latitude\": 45.4422347}, \"geometry\": {\"type\": \"Point\", \"coordinates\": [12.3352127, 45.4422347]}}, {\"id\": \"54\", \"type\": \"Feature\", \"properties\": {\"Entity_Name\": \"corte de le candele\", \"Entity_Type\": \"square\", \"Longitude\": 12.3378917, \"Latitude\": 45.4431702}, \"geometry\": {\"type\": \"Point\", \"coordinates\": [12.3378917, 45.4431702]}}, {\"id\": \"55\", \"type\": \"Feature\", \"properties\": {\"Entity_Name\": \"campo san leonardo\", \"Entity_Type\": \"square\", \"Longitude\": 12.3268312, \"Latitude\": 45.4435712}, \"geometry\": {\"type\": \"Point\", \"coordinates\": [12.3268312, 45.4435712]}}, {\"id\": \"56\", \"type\": \"Feature\", \"properties\": {\"Entity_Name\": \"campo dei gesuiti\", \"Entity_Type\": \"square\", \"Longitude\": 12.3384704, \"Latitude\": 45.4431116}, \"geometry\": {\"type\": \"Point\", \"coordinates\": [12.3384704, 45.4431116]}}, {\"id\": \"57\", \"type\": \"Feature\", \"properties\": {\"Entity_Name\": \"campo de gheto novo\", \"Entity_Type\": \"square\", \"Longitude\": 12.3268873, \"Latitude\": 45.4453254}, \"geometry\": {\"type\": \"Point\", \"coordinates\": [12.3268873, 45.4453254]}}, {\"id\": \"58\", \"type\": \"Feature\", \"properties\": {\"Entity_Name\": \"campo san geremia\", \"Entity_Type\": \"square\", \"Longitude\": 12.32495, \"Latitude\": 45.4429576}, \"geometry\": {\"type\": \"Point\", \"coordinates\": [12.32495, 45.4429576]}}, {\"id\": \"59\", \"type\": \"Feature\", \"properties\": {\"Entity_Name\": \"campo san giacomo dall'orio\", \"Entity_Type\": \"square\", \"Longitude\": 12.3275643, \"Latitude\": 45.4400409}, \"geometry\": {\"type\": \"Point\", \"coordinates\": [12.3275643, 45.4400409]}}, {\"id\": \"60\", \"type\": \"Feature\", \"properties\": {\"Entity_Name\": \"campiello del piovan\", \"Entity_Type\": \"square\", \"Longitude\": 12.3273433, \"Latitude\": 45.4402858}, \"geometry\": {\"type\": \"Point\", \"coordinates\": [12.3273433, 45.4402858]}}, {\"id\": \"61\", \"type\": \"Feature\", \"properties\": {\"Entity_Name\": \"campo de le strope\", \"Entity_Type\": \"square\", \"Longitude\": 12.3264994, \"Latitude\": 45.4394409}, \"geometry\": {\"type\": \"Point\", \"coordinates\": [12.3264994, 45.4394409]}}, {\"id\": \"62\", \"type\": \"Feature\", \"properties\": {\"Entity_Name\": \"campo sant'agostin\", \"Entity_Type\": \"square\", \"Longitude\": 12.3283991, \"Latitude\": 45.4387763}, \"geometry\": {\"type\": \"Point\", \"coordinates\": [12.3283991, 45.4387763]}}, {\"id\": \"63\", \"type\": \"Feature\", \"properties\": {\"Entity_Name\": null, \"Entity_Type\": \"square\", \"Longitude\": 12.3269519, \"Latitude\": 45.4379471}, \"geometry\": {\"type\": \"Point\", \"coordinates\": [12.3269519, 45.4379471]}}, {\"id\": \"64\", \"type\": \"Feature\", \"properties\": {\"Entity_Name\": \"campo dei frari\", \"Entity_Type\": \"square\", \"Longitude\": 12.326855, \"Latitude\": 45.4369109}, \"geometry\": {\"type\": \"Point\", \"coordinates\": [12.326855, 45.4369109]}}, {\"id\": \"65\", \"type\": \"Feature\", \"properties\": {\"Entity_Name\": \"campo ruga\", \"Entity_Type\": \"square\", \"Longitude\": 12.3571991, \"Latitude\": 45.4337649}, \"geometry\": {\"type\": \"Point\", \"coordinates\": [12.3571991, 45.4337649]}}, {\"id\": \"66\", \"type\": \"Feature\", \"properties\": {\"Entity_Name\": \"corte del bianco\", \"Entity_Type\": \"square\", \"Longitude\": 12.357731, \"Latitude\": 45.4330565}, \"geometry\": {\"type\": \"Point\", \"coordinates\": [12.357731, 45.4330565]}}, {\"id\": \"67\", \"type\": \"Feature\", \"properties\": {\"Entity_Name\": \"campo sant'agnese\", \"Entity_Type\": \"square\", \"Longitude\": 12.3279756, \"Latitude\": 45.4296683}, \"geometry\": {\"type\": \"Point\", \"coordinates\": [12.3279756, 45.4296683]}}, {\"id\": \"68\", \"type\": \"Feature\", \"properties\": {\"Entity_Name\": \"corte dell'albero\", \"Entity_Type\": \"square\", \"Longitude\": 12.3308054, \"Latitude\": 45.4351018}, \"geometry\": {\"type\": \"Point\", \"coordinates\": [12.3308054, 45.4351018]}}, {\"id\": \"69\", \"type\": \"Feature\", \"properties\": {\"Entity_Name\": \"campo san beneto\", \"Entity_Type\": \"square\", \"Longitude\": 12.332436, \"Latitude\": 45.4355436}, \"geometry\": {\"type\": \"Point\", \"coordinates\": [12.332436, 45.4355436]}}, {\"id\": \"70\", \"type\": \"Feature\", \"properties\": {\"Entity_Name\": \"campo daniele manin\", \"Entity_Type\": \"square\", \"Longitude\": 12.3342529, \"Latitude\": 45.435338}, \"geometry\": {\"type\": \"Point\", \"coordinates\": [12.3342529, 45.435338]}}, {\"id\": \"71\", \"type\": \"Feature\", \"properties\": {\"Entity_Name\": \"campiello del remer\", \"Entity_Type\": \"square\", \"Longitude\": 12.3363189, \"Latitude\": 45.4394111}, \"geometry\": {\"type\": \"Point\", \"coordinates\": [12.3363189, 45.4394111]}}, {\"id\": \"72\", \"type\": \"Feature\", \"properties\": {\"Entity_Name\": \"corte dei preti\", \"Entity_Type\": \"square\", \"Longitude\": 12.3248655, \"Latitude\": 45.4362527}, \"geometry\": {\"type\": \"Point\", \"coordinates\": [12.3248655, 45.4362527]}}, {\"id\": \"73\", \"type\": \"Feature\", \"properties\": {\"Entity_Name\": \"campo della guerra\", \"Entity_Type\": \"square\", \"Longitude\": 12.3390051, \"Latitude\": 45.43605}, \"geometry\": {\"type\": \"Point\", \"coordinates\": [12.3390051, 45.43605]}}, {\"id\": \"74\", \"type\": \"Feature\", \"properties\": {\"Entity_Name\": \"corte rubbi\", \"Entity_Type\": \"square\", \"Longitude\": 12.3380699, \"Latitude\": 45.4367189}, \"geometry\": {\"type\": \"Point\", \"coordinates\": [12.3380699, 45.4367189]}}, {\"id\": \"75\", \"type\": \"Feature\", \"properties\": {\"Entity_Name\": \"campiello de la cason\", \"Entity_Type\": \"square\", \"Longitude\": 12.3377675, \"Latitude\": 45.4405121}, \"geometry\": {\"type\": \"Point\", \"coordinates\": [12.3377675, 45.4405121]}}, {\"id\": \"76\", \"type\": \"Feature\", \"properties\": {\"Entity_Name\": \"fondamenta dei arsenalotti\", \"Entity_Type\": \"square\", \"Longitude\": 12.3499261, \"Latitude\": 45.4341564}, \"geometry\": {\"type\": \"Point\", \"coordinates\": [12.3499261, 45.4341564]}}, {\"id\": \"77\", \"type\": \"Feature\", \"properties\": {\"Entity_Name\": \"campo santa marina\", \"Entity_Type\": \"square\", \"Longitude\": 12.3393134, \"Latitude\": 45.4384477}, \"geometry\": {\"type\": \"Point\", \"coordinates\": [12.3393134, 45.4384477]}}, {\"id\": \"78\", \"type\": \"Feature\", \"properties\": {\"Entity_Name\": \"salizada san lio\", \"Entity_Type\": \"square\", \"Longitude\": 12.3391842, \"Latitude\": 45.4370689}, \"geometry\": {\"type\": \"Point\", \"coordinates\": [12.3391842, 45.4370689]}}, {\"id\": \"79\", \"type\": \"Feature\", \"properties\": {\"Entity_Name\": \"sant'andrea della zirada\", \"Entity_Type\": \"church\", \"Longitude\": 12.3162458, \"Latitude\": 45.4382582}, \"geometry\": {\"type\": \"Point\", \"coordinates\": [12.3162458, 45.4382582]}}, {\"id\": \"80\", \"type\": \"Feature\", \"properties\": {\"Entity_Name\": \"chiesa di san trovaso\", \"Entity_Type\": \"church\", \"Longitude\": 12.3260101, \"Latitude\": 45.4307889}, \"geometry\": {\"type\": \"Point\", \"coordinates\": [12.3260101, 45.4307889]}}, {\"id\": \"81\", \"type\": \"Feature\", \"properties\": {\"Entity_Name\": \"santa maria del rosario\", \"Entity_Type\": \"church\", \"Longitude\": 12.3273265, \"Latitude\": 45.4295363}, \"geometry\": {\"type\": \"Point\", \"coordinates\": [12.3273265, 45.4295363]}}, {\"id\": \"82\", \"type\": \"Feature\", \"properties\": {\"Entity_Name\": \"chiesa di san salvador\", \"Entity_Type\": \"church\", \"Longitude\": 12.3365371, \"Latitude\": 45.4366863}, \"geometry\": {\"type\": \"Point\", \"coordinates\": [12.3365371, 45.4366863]}}, {\"id\": \"83\", \"type\": \"Feature\", \"properties\": {\"Entity_Name\": \"chiesa di san gregorio\", \"Entity_Type\": \"church\", \"Longitude\": 12.3339581, \"Latitude\": 45.4306666}, \"geometry\": {\"type\": \"Point\", \"coordinates\": [12.3339581, 45.4306666]}}, {\"id\": \"84\", \"type\": \"Feature\", \"properties\": {\"Entity_Name\": \"chiesa di san giacomo apostolo\", \"Entity_Type\": \"church\", \"Longitude\": 12.3354734, \"Latitude\": 45.4385041}, \"geometry\": {\"type\": \"Point\", \"coordinates\": [12.3354734, 45.4385041]}}, {\"id\": \"85\", \"type\": \"Feature\", \"properties\": {\"Entity_Name\": \"chiesa di san luca\", \"Entity_Type\": \"church\", \"Longitude\": 12.3337817, \"Latitude\": 45.4357547}, \"geometry\": {\"type\": \"Point\", \"coordinates\": [12.3337817, 45.4357547]}}, {\"id\": \"86\", \"type\": \"Feature\", \"properties\": {\"Entity_Name\": \"basilica di san pietro di castello\", \"Entity_Type\": \"church\", \"Longitude\": 12.3598627, \"Latitude\": 45.4345413}, \"geometry\": {\"type\": \"Point\", \"coordinates\": [12.3598627, 45.4345413]}}, {\"id\": \"87\", \"type\": \"Feature\", \"properties\": {\"Entity_Name\": \"scuola dell'angelo custode\", \"Entity_Type\": \"church\", \"Longitude\": 12.3363048, \"Latitude\": 45.4401811}, \"geometry\": {\"type\": \"Point\", \"coordinates\": [12.3363048, 45.4401811]}}, {\"id\": \"88\", \"type\": \"Feature\", \"properties\": {\"Entity_Name\": \"chiesa di santa maria dei miracoli\", \"Entity_Type\": \"church\", \"Longitude\": 12.3392413, \"Latitude\": 45.4395029}, \"geometry\": {\"type\": \"Point\", \"coordinates\": [12.3392413, 45.4395029]}}, {\"id\": \"89\", \"type\": \"Feature\", \"properties\": {\"Entity_Name\": \"basilica di san marco\", \"Entity_Type\": \"church\", \"Longitude\": 12.3398366, \"Latitude\": 45.4345551}, \"geometry\": {\"type\": \"Point\", \"coordinates\": [12.3398366, 45.4345551]}}, {\"id\": \"90\", \"type\": \"Feature\", \"properties\": {\"Entity_Name\": \"santa maria del giglio o zobenigo\", \"Entity_Type\": \"church\", \"Longitude\": 12.3327977, \"Latitude\": 45.4326004}, \"geometry\": {\"type\": \"Point\", \"coordinates\": [12.3327977, 45.4326004]}}, {\"id\": \"91\", \"type\": \"Feature\", \"properties\": {\"Entity_Name\": \"chiesa di san bartolomeo\", \"Entity_Type\": \"church\", \"Longitude\": 12.3364533, \"Latitude\": 45.437545}, \"geometry\": {\"type\": \"Point\", \"coordinates\": [12.3364533, 45.437545]}}, {\"id\": \"92\", \"type\": \"Feature\", \"properties\": {\"Entity_Name\": \"chiesa di san giovanni in bragora\", \"Entity_Type\": \"church\", \"Longitude\": 12.3469876, \"Latitude\": 45.4343511}, \"geometry\": {\"type\": \"Point\", \"coordinates\": [12.3469876, 45.4343511]}}, {\"id\": \"93\", \"type\": \"Feature\", \"properties\": {\"Entity_Name\": \"chiesa di santa sofia\", \"Entity_Type\": \"church\", \"Longitude\": 12.3350413, \"Latitude\": 45.4410353}, \"geometry\": {\"type\": \"Point\", \"coordinates\": [12.3350413, 45.4410353]}}, {\"id\": \"94\", \"type\": \"Feature\", \"properties\": {\"Entity_Name\": \"chiesa dell'ospedaletto\", \"Entity_Type\": \"church\", \"Longitude\": 12.342901, \"Latitude\": 45.4389176}, \"geometry\": {\"type\": \"Point\", \"coordinates\": [12.342901, 45.4389176]}}, {\"id\": \"95\", \"type\": \"Feature\", \"properties\": {\"Entity_Name\": \"sant' aponal\", \"Entity_Type\": \"church\", \"Longitude\": 12.3326011, \"Latitude\": 45.4379655}, \"geometry\": {\"type\": \"Point\", \"coordinates\": [12.3326011, 45.4379655]}}, {\"id\": \"96\", \"type\": \"Feature\", \"properties\": {\"Entity_Name\": \"chiesa di san felice\", \"Entity_Type\": \"church\", \"Longitude\": 12.333346, \"Latitude\": 45.441794}, \"geometry\": {\"type\": \"Point\", \"coordinates\": [12.333346, 45.441794]}}, {\"id\": \"97\", \"type\": \"Feature\", \"properties\": {\"Entity_Name\": \"santa maria della salute\", \"Entity_Type\": \"church\", \"Longitude\": 12.3347226, \"Latitude\": 45.4305667}, \"geometry\": {\"type\": \"Point\", \"coordinates\": [12.3347226, 45.4305667]}}, {\"id\": \"98\", \"type\": \"Feature\", \"properties\": {\"Entity_Name\": \"santa maria del pianto\", \"Entity_Type\": \"church\", \"Longitude\": 12.3453738, \"Latitude\": 45.4398447}, \"geometry\": {\"type\": \"Point\", \"coordinates\": [12.3453738, 45.4398447]}}, {\"id\": \"99\", \"type\": \"Feature\", \"properties\": {\"Entity_Name\": \"chiesa di san giorgio dei greci\", \"Entity_Type\": \"church\", \"Longitude\": 12.3448288, \"Latitude\": 45.4354268}, \"geometry\": {\"type\": \"Point\", \"coordinates\": [12.3448288, 45.4354268]}}, {\"id\": \"100\", \"type\": \"Feature\", \"properties\": {\"Entity_Name\": \"chiesa dei santi apostoli\", \"Entity_Type\": \"church\", \"Longitude\": 12.3367424, \"Latitude\": 45.44051}, \"geometry\": {\"type\": \"Point\", \"coordinates\": [12.3367424, 45.44051]}}, {\"id\": \"101\", \"type\": \"Feature\", \"properties\": {\"Entity_Name\": \"chiesa di san zulian\", \"Entity_Type\": \"church\", \"Longitude\": 12.3386363, \"Latitude\": 45.4358076}, \"geometry\": {\"type\": \"Point\", \"coordinates\": [12.3386363, 45.4358076]}}, {\"id\": \"102\", \"type\": \"Feature\", \"properties\": {\"Entity_Name\": \"chiesa di san lazzaro dei mendicanti\", \"Entity_Type\": \"church\", \"Longitude\": 12.3426397, \"Latitude\": 45.4411855}, \"geometry\": {\"type\": \"Point\", \"coordinates\": [12.3426397, 45.4411855]}}, {\"id\": \"103\", \"type\": \"Feature\", \"properties\": {\"Entity_Name\": \"oratorio della beata vergine addolorata\", \"Entity_Type\": \"church\", \"Longitude\": 12.3452037, \"Latitude\": 45.4382583}, \"geometry\": {\"type\": \"Point\", \"coordinates\": [12.3452037, 45.4382583]}}, {\"id\": \"104\", \"type\": \"Feature\", \"properties\": {\"Entity_Name\": \"chiesa di san fantin\", \"Entity_Type\": \"church\", \"Longitude\": 12.3342694, \"Latitude\": 45.4338736}, \"geometry\": {\"type\": \"Point\", \"coordinates\": [12.3342694, 45.4338736]}}, {\"id\": \"105\", \"type\": \"Feature\", \"properties\": {\"Entity_Name\": \"chiesa di san canciano\", \"Entity_Type\": \"church\", \"Longitude\": 12.3386275, \"Latitude\": 45.4401082}, \"geometry\": {\"type\": \"Point\", \"coordinates\": [12.3386275, 45.4401082]}}, {\"id\": \"106\", \"type\": \"Feature\", \"properties\": {\"Entity_Name\": \"ex chiesa di san biagio\", \"Entity_Type\": \"church\", \"Longitude\": 12.3502761, \"Latitude\": 45.4325039}, \"geometry\": {\"type\": \"Point\", \"coordinates\": [12.3502761, 45.4325039]}}, {\"id\": \"107\", \"type\": \"Feature\", \"properties\": {\"Entity_Name\": \"chiesa di san lio\", \"Entity_Type\": \"church\", \"Longitude\": 12.338574, \"Latitude\": 45.4375615}, \"geometry\": {\"type\": \"Point\", \"coordinates\": [12.338574, 45.4375615]}}, {\"id\": \"108\", \"type\": \"Feature\", \"properties\": {\"Entity_Name\": \"chiesa di santa maria della pieta\", \"Entity_Type\": \"church\", \"Longitude\": 12.3449503, \"Latitude\": 45.4341899}, \"geometry\": {\"type\": \"Point\", \"coordinates\": [12.3449503, 45.4341899]}}, {\"id\": \"109\", \"type\": \"Feature\", \"properties\": {\"Entity_Name\": \"chiesa di santa maria della consolazione\", \"Entity_Type\": \"church\", \"Longitude\": 12.3383016, \"Latitude\": 45.4369322}, \"geometry\": {\"type\": \"Point\", \"coordinates\": [12.3383016, 45.4369322]}}, {\"id\": \"110\", \"type\": \"Feature\", \"properties\": {\"Entity_Name\": \"chiesa di san silvestro\", \"Entity_Type\": \"church\", \"Longitude\": 12.3334165, \"Latitude\": 45.437441}, \"geometry\": {\"type\": \"Point\", \"coordinates\": [12.3334165, 45.437441]}}, {\"id\": \"111\", \"type\": \"Feature\", \"properties\": {\"Entity_Name\": \"chiesa di san martino vescovo\", \"Entity_Type\": \"church\", \"Longitude\": 12.3489937, \"Latitude\": 45.4345834}, \"geometry\": {\"type\": \"Point\", \"coordinates\": [12.3489937, 45.4345834]}}, {\"id\": \"112\", \"type\": \"Feature\", \"properties\": {\"Entity_Name\": \"chiesa di santa maria assunta\", \"Entity_Type\": \"church\", \"Longitude\": 12.3391425, \"Latitude\": 45.4433295}, \"geometry\": {\"type\": \"Point\", \"coordinates\": [12.3391425, 45.4433295]}}, {\"id\": \"113\", \"type\": \"Feature\", \"properties\": {\"Entity_Name\": \"chiesa di san giuseppe di castello\", \"Entity_Type\": \"church\", \"Longitude\": 12.3574179, \"Latitude\": 45.4305926}, \"geometry\": {\"type\": \"Point\", \"coordinates\": [12.3574179, 45.4305926]}}, {\"id\": \"114\", \"type\": \"Feature\", \"properties\": {\"Entity_Name\": \"chiesa di san mois\\u00e3\\u00a8\", \"Entity_Type\": \"church\", \"Longitude\": 12.3361511, \"Latitude\": 45.4330896}, \"geometry\": {\"type\": \"Point\", \"coordinates\": [12.3361511, 45.4330896]}}, {\"id\": \"115\", \"type\": \"Feature\", \"properties\": {\"Entity_Name\": \"san giovanni grisostomo\", \"Entity_Type\": \"church\", \"Longitude\": 12.3372547, \"Latitude\": 45.439156}, \"geometry\": {\"type\": \"Point\", \"coordinates\": [12.3372547, 45.439156]}}, {\"id\": \"116\", \"type\": \"Feature\", \"properties\": {\"Entity_Name\": \"chiesa di santa maria formosa\", \"Entity_Type\": \"church\", \"Longitude\": 12.3410016, \"Latitude\": 45.4370337}, \"geometry\": {\"type\": \"Point\", \"coordinates\": [12.3410016, 45.4370337]}}, {\"id\": \"117\", \"type\": \"Feature\", \"properties\": {\"Entity_Name\": \"san francesco della vigna\", \"Entity_Type\": \"church\", \"Longitude\": 12.3480842, \"Latitude\": 45.4382191}, \"geometry\": {\"type\": \"Point\", \"coordinates\": [12.3480842, 45.4382191]}}, {\"id\": \"118\", \"type\": \"Feature\", \"properties\": {\"Entity_Name\": \"chiesa delle cappuccine\", \"Entity_Type\": \"church\", \"Longitude\": 12.3242345, \"Latitude\": 45.4467014}, \"geometry\": {\"type\": \"Point\", \"coordinates\": [12.3242345, 45.4467014]}}, {\"id\": \"119\", \"type\": \"Feature\", \"properties\": {\"Entity_Name\": \"testimoni di geova\", \"Entity_Type\": \"church\", \"Longitude\": 12.3257768, \"Latitude\": 45.447517}, \"geometry\": {\"type\": \"Point\", \"coordinates\": [12.3257768, 45.447517]}}, {\"id\": \"120\", \"type\": \"Feature\", \"properties\": {\"Entity_Name\": \"chiesa di san bonaventura\", \"Entity_Type\": \"church\", \"Longitude\": 12.3267555, \"Latitude\": 45.4478246}, \"geometry\": {\"type\": \"Point\", \"coordinates\": [12.3267555, 45.4478246]}}, {\"id\": \"121\", \"type\": \"Feature\", \"properties\": {\"Entity_Name\": \"chiesa di san simeon piccolo\", \"Entity_Type\": \"church\", \"Longitude\": 12.3224148, \"Latitude\": 45.4403001}, \"geometry\": {\"type\": \"Point\", \"coordinates\": [12.3224148, 45.4403001]}}, {\"id\": \"122\", \"type\": \"Feature\", \"properties\": {\"Entity_Name\": \"oratorio di santa maria dell'addolorata\", \"Entity_Type\": \"church\", \"Longitude\": 12.3211278, \"Latitude\": 45.4447215}, \"geometry\": {\"type\": \"Point\", \"coordinates\": [12.3211278, 45.4447215]}}, {\"id\": \"123\", \"type\": \"Feature\", \"properties\": {\"Entity_Name\": \"santa teresa\", \"Entity_Type\": \"church\", \"Longitude\": 12.3162474, \"Latitude\": 45.4331461}, \"geometry\": {\"type\": \"Point\", \"coordinates\": [12.3162474, 45.4331461]}}, {\"id\": \"124\", \"type\": \"Feature\", \"properties\": {\"Entity_Name\": \"chiesa di san simeone profeta\", \"Entity_Type\": \"church\", \"Longitude\": 12.324519, \"Latitude\": 45.440692}, \"geometry\": {\"type\": \"Point\", \"coordinates\": [12.324519, 45.440692]}}, {\"id\": \"125\", \"type\": \"Feature\", \"properties\": {\"Entity_Name\": \"chiesa di san giovanni evangelista\", \"Entity_Type\": \"church\", \"Longitude\": 12.3261031, \"Latitude\": 45.438149}, \"geometry\": {\"type\": \"Point\", \"coordinates\": [12.3261031, 45.438149]}}, {\"id\": \"126\", \"type\": \"Feature\", \"properties\": {\"Entity_Name\": \"chiesa di san samuele\", \"Entity_Type\": \"church\", \"Longitude\": 12.3283051, \"Latitude\": 45.4336146}, \"geometry\": {\"type\": \"Point\", \"coordinates\": [12.3283051, 45.4336146]}}, {\"id\": \"127\", \"type\": \"Feature\", \"properties\": {\"Entity_Name\": \"san nicola da tolentino\", \"Entity_Type\": \"church\", \"Longitude\": 12.3220464, \"Latitude\": 45.437571}, \"geometry\": {\"type\": \"Point\", \"coordinates\": [12.3220464, 45.437571]}}, {\"id\": \"128\", \"type\": \"Feature\", \"properties\": {\"Entity_Name\": \"basilica di santa maria gloriosa dei frari\", \"Entity_Type\": \"church\", \"Longitude\": 12.3263629, \"Latitude\": 45.4368721}, \"geometry\": {\"type\": \"Point\", \"coordinates\": [12.3263629, 45.4368721]}}, {\"id\": \"129\", \"type\": \"Feature\", \"properties\": {\"Entity_Name\": \"san nicol\\u00e3\\u00b2 dei mendicoli\", \"Entity_Type\": \"church\", \"Longitude\": 12.3159072, \"Latitude\": 45.4325191}, \"geometry\": {\"type\": \"Point\", \"coordinates\": [12.3159072, 45.4325191]}}, {\"id\": \"130\", \"type\": \"Feature\", \"properties\": {\"Entity_Name\": \"san cassiano\", \"Entity_Type\": \"church\", \"Longitude\": 12.3321417, \"Latitude\": 45.4397103}, \"geometry\": {\"type\": \"Point\", \"coordinates\": [12.3321417, 45.4397103]}}, {\"id\": \"131\", \"type\": \"Feature\", \"properties\": {\"Entity_Name\": \"chiesa di san girolamo\", \"Entity_Type\": \"church\", \"Longitude\": 12.3252865, \"Latitude\": 45.4460485}, \"geometry\": {\"type\": \"Point\", \"coordinates\": [12.3252865, 45.4460485]}}, {\"id\": \"132\", \"type\": \"Feature\", \"properties\": {\"Entity_Name\": \"chiesa del nome di ges\\u00e3\\u00b9\", \"Entity_Type\": \"church\", \"Longitude\": 12.3167487, \"Latitude\": 45.4390754}, \"geometry\": {\"type\": \"Point\", \"coordinates\": [12.3167487, 45.4390754]}}, {\"id\": \"133\", \"type\": \"Feature\", \"properties\": {\"Entity_Name\": \"san giovanni decollato\", \"Entity_Type\": \"church\", \"Longitude\": 12.3279017, \"Latitude\": 45.4415896}, \"geometry\": {\"type\": \"Point\", \"coordinates\": [12.3279017, 45.4415896]}}, {\"id\": \"134\", \"type\": \"Feature\", \"properties\": {\"Entity_Name\": \"chiesa di san polo\", \"Entity_Type\": \"church\", \"Longitude\": 12.3296503, \"Latitude\": 45.4371564}, \"geometry\": {\"type\": \"Point\", \"coordinates\": [12.3296503, 45.4371564]}}, {\"id\": \"135\", \"type\": \"Feature\", \"properties\": {\"Entity_Name\": \"san pantalon\", \"Entity_Type\": \"church\", \"Longitude\": 12.3247439, \"Latitude\": 45.4357225}, \"geometry\": {\"type\": \"Point\", \"coordinates\": [12.3247439, 45.4357225]}}, {\"id\": \"136\", \"type\": \"Feature\", \"properties\": {\"Entity_Name\": \"chiesa di santa fosca\", \"Entity_Type\": \"church\", \"Longitude\": 12.3322097, \"Latitude\": 45.4429324}, \"geometry\": {\"type\": \"Point\", \"coordinates\": [12.3322097, 45.4429324]}}, {\"id\": \"137\", \"type\": \"Feature\", \"properties\": {\"Entity_Name\": \"san tom\\u00e3\\u00a0\", \"Entity_Type\": \"church\", \"Longitude\": 12.3277737, \"Latitude\": 45.4359293}, \"geometry\": {\"type\": \"Point\", \"coordinates\": [12.3277737, 45.4359293]}}, {\"id\": \"138\", \"type\": \"Feature\", \"properties\": {\"Entity_Name\": \"chiesa di santo stefano\", \"Entity_Type\": \"church\", \"Longitude\": 12.3311232, \"Latitude\": 45.4336573}, \"geometry\": {\"type\": \"Point\", \"coordinates\": [12.3311232, 45.4336573]}}, {\"id\": \"139\", \"type\": \"Feature\", \"properties\": {\"Entity_Name\": \"chiesa di sant'alvise\", \"Entity_Type\": \"church\", \"Longitude\": 12.3291844, \"Latitude\": 45.4473871}, \"geometry\": {\"type\": \"Point\", \"coordinates\": [12.3291844, 45.4473871]}}, {\"id\": \"140\", \"type\": \"Feature\", \"properties\": {\"Entity_Name\": \"la maddalena\", \"Entity_Type\": \"church\", \"Longitude\": 12.3311227, \"Latitude\": 45.4429857}, \"geometry\": {\"type\": \"Point\", \"coordinates\": [12.3311227, 45.4429857]}}, {\"id\": \"141\", \"type\": \"Feature\", \"properties\": {\"Entity_Name\": \"chiesa di san vidal\", \"Entity_Type\": \"church\", \"Longitude\": 12.3295205, \"Latitude\": 45.4324243}, \"geometry\": {\"type\": \"Point\", \"coordinates\": [12.3295205, 45.4324243]}}, {\"id\": \"142\", \"type\": \"Feature\", \"properties\": {\"Entity_Name\": \"chiesa di sant'agnese\", \"Entity_Type\": \"church\", \"Longitude\": 12.3281765, \"Latitude\": 45.4297792}, \"geometry\": {\"type\": \"Point\", \"coordinates\": [12.3281765, 45.4297792]}}, {\"id\": \"143\", \"type\": \"Feature\", \"properties\": {\"Entity_Name\": \"chiesa di san sebastian\", \"Entity_Type\": \"church\", \"Longitude\": 12.3200504, \"Latitude\": 45.4319887}, \"geometry\": {\"type\": \"Point\", \"coordinates\": [12.3200504, 45.4319887]}}, {\"id\": \"144\", \"type\": \"Feature\", \"properties\": {\"Entity_Name\": \"san raffaele arcangelo\", \"Entity_Type\": \"church\", \"Longitude\": 12.3190055, \"Latitude\": 45.4324442}, \"geometry\": {\"type\": \"Point\", \"coordinates\": [12.3190055, 45.4324442]}}, {\"id\": \"145\", \"type\": \"Feature\", \"properties\": {\"Entity_Name\": \"chiesa di san giobbe\", \"Entity_Type\": \"church\", \"Longitude\": 12.320415, \"Latitude\": 45.4449687}, \"geometry\": {\"type\": \"Point\", \"coordinates\": [12.320415, 45.4449687]}}, {\"id\": \"146\", \"type\": \"Feature\", \"properties\": {\"Entity_Name\": \"chiesa degli ognissanti\", \"Entity_Type\": \"church\", \"Longitude\": 12.323361, \"Latitude\": 45.4312765}, \"geometry\": {\"type\": \"Point\", \"coordinates\": [12.323361, 45.4312765]}}, {\"id\": \"147\", \"type\": \"Feature\", \"properties\": {\"Entity_Name\": \"chiesa di santa maria di nazareth\", \"Entity_Type\": \"church\", \"Longitude\": 12.3219457, \"Latitude\": 45.4414771}, \"geometry\": {\"type\": \"Point\", \"coordinates\": [12.3219457, 45.4414771]}}, {\"id\": \"148\", \"type\": \"Feature\", \"properties\": {\"Entity_Name\": \"san barnaba\", \"Entity_Type\": \"church\", \"Longitude\": 12.3254573, \"Latitude\": 45.4330719}, \"geometry\": {\"type\": \"Point\", \"coordinates\": [12.3254573, 45.4330719]}}, {\"id\": \"149\", \"type\": \"Feature\", \"properties\": {\"Entity_Name\": \"chiesa di san leonardo\", \"Entity_Type\": \"church\", \"Longitude\": 12.3269338, \"Latitude\": 45.4433865}, \"geometry\": {\"type\": \"Point\", \"coordinates\": [12.3269338, 45.4433865]}}, {\"id\": \"150\", \"type\": \"Feature\", \"properties\": {\"Entity_Name\": \"chiesa di san giacomo dall'orio\", \"Entity_Type\": \"church\", \"Longitude\": 12.327433, \"Latitude\": 45.4401218}, \"geometry\": {\"type\": \"Point\", \"coordinates\": [12.327433, 45.4401218]}}, {\"id\": \"151\", \"type\": \"Feature\", \"properties\": {\"Entity_Name\": \"chiesa san marcuola\", \"Entity_Type\": \"church\", \"Longitude\": 12.3286677, \"Latitude\": 45.4429189}, \"geometry\": {\"type\": \"Point\", \"coordinates\": [12.3286677, 45.4429189]}}, {\"id\": \"152\", \"type\": \"Feature\", \"properties\": {\"Entity_Name\": \"chiesa dei santi geremia e lucia\", \"Entity_Type\": \"church\", \"Longitude\": 12.3253173, \"Latitude\": 45.4426562}, \"geometry\": {\"type\": \"Point\", \"coordinates\": [12.3253173, 45.4426562]}}, {\"id\": \"153\", \"type\": \"Feature\", \"properties\": {\"Entity_Name\": \"chiesa di san rocco\", \"Entity_Type\": \"church\", \"Longitude\": 12.3252298, \"Latitude\": 45.4369492}, \"geometry\": {\"type\": \"Point\", \"coordinates\": [12.3252298, 45.4369492]}}, {\"id\": \"154\", \"type\": \"Feature\", \"properties\": {\"Entity_Name\": \"chiesa di san stae\", \"Entity_Type\": \"church\", \"Longitude\": 12.3306332, \"Latitude\": 45.4413182}, \"geometry\": {\"type\": \"Point\", \"coordinates\": [12.3306332, 45.4413182]}}, {\"id\": \"155\", \"type\": \"Feature\", \"properties\": {\"Entity_Name\": null, \"Entity_Type\": \"church\", \"Longitude\": 12.3257716, \"Latitude\": 45.4456771}, \"geometry\": {\"type\": \"Point\", \"coordinates\": [12.3257716, 45.4456771]}}, {\"id\": \"156\", \"type\": \"Feature\", \"properties\": {\"Entity_Name\": \"santa maria dei carmini\", \"Entity_Type\": \"church\", \"Longitude\": 12.3222886, \"Latitude\": 45.4333829}, \"geometry\": {\"type\": \"Point\", \"coordinates\": [12.3222886, 45.4333829]}}, {\"id\": \"157\", \"type\": \"Feature\", \"properties\": {\"Entity_Name\": \"madonna dell'orto\", \"Entity_Type\": \"church\", \"Longitude\": 12.3326421, \"Latitude\": 45.4465164}, \"geometry\": {\"type\": \"Point\", \"coordinates\": [12.3326421, 45.4465164]}}, {\"id\": \"158\", \"type\": \"Feature\", \"properties\": {\"Entity_Name\": \"basilica dei santi giovanni e paolo\", \"Entity_Type\": \"church\", \"Longitude\": 12.3421972, \"Latitude\": 45.4392537}, \"geometry\": {\"type\": \"Point\", \"coordinates\": [12.3421972, 45.4392537]}}, {\"id\": \"159\", \"type\": \"Feature\", \"properties\": {\"Entity_Name\": \"chiesa di san zaccaria\", \"Entity_Type\": \"church\", \"Longitude\": 12.3436026, \"Latitude\": 45.4347114}, \"geometry\": {\"type\": \"Point\", \"coordinates\": [12.3436026, 45.4347114]}}, {\"id\": \"160\", \"type\": \"Feature\", \"properties\": {\"Entity_Name\": \"chiesa di san beneto\", \"Entity_Type\": \"church\", \"Longitude\": 12.3323746, \"Latitude\": 45.435649}, \"geometry\": {\"type\": \"Point\", \"coordinates\": [12.3323746, 45.435649]}}, {\"id\": \"161\", \"type\": \"Feature\", \"properties\": {\"Entity_Name\": \"campo sant' aponal\", \"Entity_Type\": \"square\", \"Longitude\": 12.3323438, \"Latitude\": 45.4378217}, \"geometry\": {\"type\": \"Point\", \"coordinates\": [12.3323438, 45.4378217]}}, {\"id\": \"162\", \"type\": \"Feature\", \"properties\": {\"Entity_Name\": \"campo pisani\", \"Entity_Type\": \"square\", \"Longitude\": 12.3303446, \"Latitude\": 45.4324122}, \"geometry\": {\"type\": \"Point\", \"coordinates\": [12.3303446, 45.4324122]}}, {\"id\": \"163\", \"type\": \"Feature\", \"properties\": {\"Entity_Name\": \"salizada san samuele\", \"Entity_Type\": \"square\", \"Longitude\": 12.3294767, \"Latitude\": 45.4342095}, \"geometry\": {\"type\": \"Point\", \"coordinates\": [12.3294767, 45.4342095]}}, {\"id\": \"164\", \"type\": \"Feature\", \"properties\": {\"Entity_Name\": \"chiesa di san maurizio\", \"Entity_Type\": \"church\", \"Longitude\": 12.3315903, \"Latitude\": 45.4330793}, \"geometry\": {\"type\": \"Point\", \"coordinates\": [12.3315903, 45.4330793]}}, {\"id\": \"165\", \"type\": \"Feature\", \"properties\": {\"Entity_Name\": \"chiesa di santa maria della visitazione\", \"Entity_Type\": \"church\", \"Longitude\": 12.3266696, \"Latitude\": 45.4296417}, \"geometry\": {\"type\": \"Point\", \"coordinates\": [12.3266696, 45.4296417]}}, {\"id\": \"166\", \"type\": \"Feature\", \"properties\": {\"Entity_Name\": \"chiesa di san lorenzo\", \"Entity_Type\": \"church\", \"Longitude\": 12.3455424, \"Latitude\": 45.4372558}, \"geometry\": {\"type\": \"Point\", \"coordinates\": [12.3455424, 45.4372558]}}, {\"id\": \"167\", \"type\": \"Feature\", \"properties\": {\"Entity_Name\": \"campo de la chiesa\", \"Entity_Type\": \"square\", \"Longitude\": 12.3651478, \"Latitude\": 45.4271661}, \"geometry\": {\"type\": \"Point\", \"coordinates\": [12.3651478, 45.4271661]}}, {\"id\": \"168\", \"type\": \"Feature\", \"properties\": {\"Entity_Name\": \"chiesa di saint george\", \"Entity_Type\": \"church\", \"Longitude\": 12.3303593, \"Latitude\": 45.4306827}, \"geometry\": {\"type\": \"Point\", \"coordinates\": [12.3303593, 45.4306827]}}, {\"id\": \"169\", \"type\": \"Feature\", \"properties\": {\"Entity_Name\": \"chiesa di san giovanni di malta\", \"Entity_Type\": \"church\", \"Longitude\": 12.3463743, \"Latitude\": 45.4364368}, \"geometry\": {\"type\": \"Point\", \"coordinates\": [12.3463743, 45.4364368]}}, {\"id\": \"170\", \"type\": \"Feature\", \"properties\": {\"Entity_Name\": \"chiesa di sant'antonin\", \"Entity_Type\": \"church\", \"Longitude\": 12.3465285, \"Latitude\": 45.4355804}, \"geometry\": {\"type\": \"Point\", \"coordinates\": [12.3465285, 45.4355804]}}, {\"id\": \"171\", \"type\": \"Feature\", \"properties\": {\"Entity_Name\": \"chiesa di san francesco di paola\", \"Entity_Type\": \"church\", \"Longitude\": 12.3541836, \"Latitude\": 45.4326115}, \"geometry\": {\"type\": \"Point\", \"coordinates\": [12.3541836, 45.4326115]}}, {\"id\": \"172\", \"type\": \"Feature\", \"properties\": {\"Entity_Name\": \"chiesa di san gallo\", \"Entity_Type\": \"church\", \"Longitude\": 12.3368697, \"Latitude\": 45.4345557}, \"geometry\": {\"type\": \"Point\", \"coordinates\": [12.3368697, 45.4345557]}}, {\"id\": \"173\", \"type\": \"Feature\", \"properties\": {\"Entity_Name\": \"chiesa di san giovanni nuovo\", \"Entity_Type\": \"church\", \"Longitude\": 12.3415833, \"Latitude\": 45.4356637}, \"geometry\": {\"type\": \"Point\", \"coordinates\": [12.3415833, 45.4356637]}}, {\"id\": \"174\", \"type\": \"Feature\", \"properties\": {\"Entity_Name\": \"chiesa di santa maria mater domini\", \"Entity_Type\": \"church\", \"Longitude\": 12.3303551, \"Latitude\": 45.4400419}, \"geometry\": {\"type\": \"Point\", \"coordinates\": [12.3303551, 45.4400419]}}, {\"id\": \"175\", \"type\": \"Feature\", \"properties\": {\"Entity_Name\": \"chiesa di santa maria delle penitenti\", \"Entity_Type\": \"church\", \"Longitude\": 12.3192666, \"Latitude\": 45.4467375}, \"geometry\": {\"type\": \"Point\", \"coordinates\": [12.3192666, 45.4467375]}}, {\"id\": \"176\", \"type\": \"Feature\", \"properties\": {\"Entity_Name\": \"chiesa di santa croce degli armeni\", \"Entity_Type\": \"church\", \"Longitude\": 12.3377471, \"Latitude\": 45.4355228}, \"geometry\": {\"type\": \"Point\", \"coordinates\": [12.3377471, 45.4355228]}}, {\"id\": \"177\", \"type\": \"Feature\", \"properties\": {\"Entity_Name\": \"chiesa delle eremite\", \"Entity_Type\": \"church\", \"Longitude\": 12.3245178, \"Latitude\": 45.4318965}, \"geometry\": {\"type\": \"Point\", \"coordinates\": [12.3245178, 45.4318965]}}, {\"id\": \"178\", \"type\": \"Feature\", \"properties\": {\"Entity_Name\": \"chiesa di san marziale\", \"Entity_Type\": \"church\", \"Longitude\": 12.3329312, \"Latitude\": 45.44383}, \"geometry\": {\"type\": \"Point\", \"coordinates\": [12.3329312, 45.44383]}}, {\"id\": \"179\", \"type\": \"Feature\", \"properties\": {\"Entity_Name\": \"campo santa maria del giglio\", \"Entity_Type\": \"square\", \"Longitude\": 12.3329024, \"Latitude\": 45.4324274}, \"geometry\": {\"type\": \"Point\", \"coordinates\": [12.3329024, 45.4324274]}}, {\"id\": \"180\", \"type\": \"Feature\", \"properties\": {\"Entity_Name\": \"campo san stin\", \"Entity_Type\": \"square\", \"Longitude\": 12.3269519, \"Latitude\": 45.4379471}, \"geometry\": {\"type\": \"Point\", \"coordinates\": [12.3269519, 45.4379471]}}, {\"id\": \"181\", \"type\": \"Feature\", \"properties\": {\"Entity_Name\": \"chiesa di cristo re alla celestia\", \"Entity_Type\": \"church\", \"Longitude\": 12.3493237, \"Latitude\": 45.4380991}, \"geometry\": {\"type\": \"Point\", \"coordinates\": [12.3493237, 45.4380991]}}, {\"id\": \"182\", \"type\": \"Feature\", \"properties\": {\"Entity_Name\": \"chiesa di san giovanni elemosinario\", \"Entity_Type\": \"church\", \"Longitude\": 12.334562, \"Latitude\": 45.4386723}, \"geometry\": {\"type\": \"Point\", \"coordinates\": [12.334562, 45.4386723]}}, {\"id\": \"183\", \"type\": \"Feature\", \"properties\": {\"Entity_Name\": \"ex chiesa di santa maria ausiliatrice (vulgo san gioacchin)\", \"Entity_Type\": \"church\", \"Longitude\": 12.3564479, \"Latitude\": 45.4326278}, \"geometry\": {\"type\": \"Point\", \"coordinates\": [12.3564479, 45.4326278]}}, {\"id\": \"184\", \"type\": \"Feature\", \"properties\": {\"Entity_Name\": \"chiesa dei santi rocco e margherita\", \"Entity_Type\": \"church\", \"Longitude\": 12.3299235, \"Latitude\": 45.433818}, \"geometry\": {\"type\": \"Point\", \"coordinates\": [12.3299235, 45.433818]}}, {\"id\": \"185\", \"type\": \"Feature\", \"properties\": {\"Entity_Name\": \"oratorio dell'annunziata\", \"Entity_Type\": \"church\", \"Longitude\": 12.3317989, \"Latitude\": 45.4343024}, \"geometry\": {\"type\": \"Point\", \"coordinates\": [12.3317989, 45.4343024]}}, {\"id\": \"186\", \"type\": \"Feature\", \"properties\": {\"Entity_Name\": \"oratorio della madre di dio\", \"Entity_Type\": \"church\", \"Longitude\": 12.3211877, \"Latitude\": 45.4450877}, \"geometry\": {\"type\": \"Point\", \"coordinates\": [12.3211877, 45.4450877]}}, {\"id\": \"187\", \"type\": \"Feature\", \"properties\": {\"Entity_Name\": \"chiesa di san giovanni battista ai catecumeni\", \"Entity_Type\": \"church\", \"Longitude\": 12.3339302, \"Latitude\": 45.4300786}, \"geometry\": {\"type\": \"Point\", \"coordinates\": [12.3339302, 45.4300786]}}, {\"id\": \"188\", \"type\": \"Feature\", \"properties\": {\"Entity_Name\": \"cappella di san vio\", \"Entity_Type\": \"church\", \"Longitude\": 12.3300817, \"Latitude\": 45.4305342}, \"geometry\": {\"type\": \"Point\", \"coordinates\": [12.3300817, 45.4305342]}}, {\"id\": \"189\", \"type\": \"Feature\", \"properties\": {\"Entity_Name\": \"cappella del corpo di san marco\", \"Entity_Type\": \"church\", \"Longitude\": 12.3489733, \"Latitude\": 45.4384319}, \"geometry\": {\"type\": \"Point\", \"coordinates\": [12.3489733, 45.4384319]}}, {\"id\": \"190\", \"type\": \"Feature\", \"properties\": {\"Entity_Name\": \"corte del morer\", \"Entity_Type\": \"square\", \"Longitude\": 12.3313067, \"Latitude\": 45.4290447}, \"geometry\": {\"type\": \"Point\", \"coordinates\": [12.3313067, 45.4290447]}}, {\"id\": \"191\", \"type\": \"Feature\", \"properties\": {\"Entity_Name\": \"chiesa evangelica valdese\", \"Entity_Type\": \"church\", \"Longitude\": 12.342726, \"Latitude\": 45.4378275}, \"geometry\": {\"type\": \"Point\", \"coordinates\": [12.342726, 45.4378275]}}]}\n"
     ]
    }
   ],
   "source": [
    "data_exp = pd.read_csv('clean/entities.csv')\n",
    "\n",
    "gdf = gpd.GeoDataFrame(data_exp, geometry=[Point(xy) for xy in zip(data_exp['Longitude'], data_exp['Latitude'])])\n",
    "geojson_str = gdf.to_json()\n",
    "gdf.to_file(\"clean/entities_geo.geojson\", driver=\"GeoJSON\")  \n",
    "print(geojson_str)"
   ]
  }
 ],
 "metadata": {
  "kernelspec": {
   "display_name": "venice_env",
   "language": "python",
   "name": "python3"
  },
  "language_info": {
   "codemirror_mode": {
    "name": "ipython",
    "version": 3
   },
   "file_extension": ".py",
   "mimetype": "text/x-python",
   "name": "python",
   "nbconvert_exporter": "python",
   "pygments_lexer": "ipython3",
   "version": "3.10.4"
  }
 },
 "nbformat": 4,
 "nbformat_minor": 2
}
