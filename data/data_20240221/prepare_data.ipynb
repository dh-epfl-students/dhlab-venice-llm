{
 "cells": [
  {
   "cell_type": "code",
   "execution_count": 1,
   "metadata": {},
   "outputs": [],
   "source": [
    "import geopandas as gpd\n",
    "\n",
    "# Read the GeoJSON file\n",
    "catastici = gpd.read_file(\"./data/raw/20240221_Catastici1741_Intermediate.geojson\")"
   ]
  },
  {
   "cell_type": "markdown",
   "metadata": {},
   "source": [
    "# Filtering the dataset"
   ]
  },
  {
   "cell_type": "code",
   "execution_count": 2,
   "metadata": {},
   "outputs": [],
   "source": [
    "# filter the necessary datapoints\n",
    "catastici_ppl = catastici[(catastici['owner_code'] == 'PPL') & (catastici['owner_count']=='1')]\n",
    "catastici_ppl = catastici_ppl[['owner_first_name','owner_family_name','function','place','an_rendi']]"
   ]
  },
  {
   "cell_type": "markdown",
   "metadata": {},
   "source": [
    "Drop the rows if the owner first name is not given, not to confuse the model further. -> 1273 rows"
   ]
  },
  {
   "cell_type": "code",
   "execution_count": 3,
   "metadata": {},
   "outputs": [],
   "source": [
    "# drop the rows with not owner first name info\n",
    "catastici_ppl = catastici_ppl[catastici_ppl.owner_first_name!='']"
   ]
  },
  {
   "cell_type": "markdown",
   "metadata": {},
   "source": [
    "Some First and Family names with \"|\" followed by some family relationship, e.g. \"angela patella paolo | _moglie\". There are 118 of these rows, so I am dropping these rows as well to have cleaner dataset."
   ]
  },
  {
   "cell_type": "code",
   "execution_count": 4,
   "metadata": {},
   "outputs": [],
   "source": [
    "catastici_ppl = catastici_ppl[(~catastici_ppl['owner_first_name'].str.contains('\\|')) & (~catastici_ppl['owner_family_name'].str.contains('\\|'))]"
   ]
  },
  {
   "cell_type": "markdown",
   "metadata": {},
   "source": [
    "Set the nan values in the ramaining 2 columns (function and place) to 'NOT GIVEN' to have a model that also learns what information is not given."
   ]
  },
  {
   "cell_type": "code",
   "execution_count": 5,
   "metadata": {},
   "outputs": [],
   "source": [
    "# remove the NaN values\n",
    "catastici_ppl = catastici_ppl[catastici_ppl['function']!='nan']        # 278\n",
    "catastici_ppl = catastici_ppl[catastici_ppl['place']!='nan']           # 18"
   ]
  },
  {
   "cell_type": "code",
   "execution_count": 6,
   "metadata": {},
   "outputs": [],
   "source": [
    "# lowercase everything\n",
    "for col in catastici_ppl.columns.to_list():\n",
    "    catastici_ppl[col] = catastici_ppl[col].str.lower()"
   ]
  },
  {
   "cell_type": "markdown",
   "metadata": {},
   "source": [
    "<font color='red'> The price is given in various types, i.e. with different currencies, some include the rent perioud, some have the goods exchanged instead of monetary payment. I filtered only for the numerical payments which are given in ducati.</font>"
   ]
  },
  {
   "cell_type": "code",
   "execution_count": 7,
   "metadata": {},
   "outputs": [],
   "source": [
    "catastici_ppl = catastici_ppl[catastici_ppl['an_rendi'].str.isnumeric()]\n",
    "catastici_ppl['an_rendi'] = catastici_ppl['an_rendi'].astype(int)"
   ]
  },
  {
   "cell_type": "code",
   "execution_count": 8,
   "metadata": {},
   "outputs": [],
   "source": [
    "# drop duplicate rows\n",
    "catastici_ppl = catastici_ppl[['owner_first_name', 'owner_family_name', 'function', 'place', 'an_rendi']].drop_duplicates()"
   ]
  },
  {
   "cell_type": "markdown",
   "metadata": {},
   "source": [
    "Rename the columns and store"
   ]
  },
  {
   "cell_type": "code",
   "execution_count": 9,
   "metadata": {},
   "outputs": [],
   "source": [
    "# rename the columns\n",
    "catastici_ppl.rename({\n",
    "    'owner_first_name':'Owner_First_Name',\n",
    "    'owner_family_name':'Owner_Family_Name',\n",
    "    'function':'Property_Type',\n",
    "    'place':'Property_Location',\n",
    "    'an_rendi':'Rent_Income'\n",
    "}, axis=1, inplace=True)\n",
    "catastici_ppl.to_csv(f'./data/clean/catastici_num.csv', index=False)"
   ]
  }
 ],
 "metadata": {
  "kernelspec": {
   "display_name": "venice_env",
   "language": "python",
   "name": "python3"
  },
  "language_info": {
   "codemirror_mode": {
    "name": "ipython",
    "version": 3
   },
   "file_extension": ".py",
   "mimetype": "text/x-python",
   "name": "python",
   "nbconvert_exporter": "python",
   "pygments_lexer": "ipython3",
   "version": "3.10.4"
  }
 },
 "nbformat": 4,
 "nbformat_minor": 2
}
