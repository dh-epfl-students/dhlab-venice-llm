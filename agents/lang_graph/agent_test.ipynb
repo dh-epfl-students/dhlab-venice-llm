{
 "cells": [
  {
   "cell_type": "code",
   "execution_count": 1,
   "metadata": {},
   "outputs": [],
   "source": [
    "# LangChain supports many other chat models. Here, we're using Ollama\n",
    "from langchain_community.chat_models import ChatOllama\n",
    "\n",
    "from langchain_core.prompts import ChatPromptTemplate\n",
    "from langchain.prompts import PromptTemplate\n",
    "\n",
    "from langchain_core.output_parsers import StrOutputParser"
   ]
  },
  {
   "cell_type": "code",
   "execution_count": 2,
   "metadata": {},
   "outputs": [],
   "source": [
    "# # class to view the latest available supported parameters\n",
    "# llm = ChatOllama(model=\"llama3\")\n",
    "\n",
    "# # Example\n",
    "# prompt = ChatPromptTemplate.from_template(\"Tell me briefly what you know about {topic}\")\n",
    "# chain = prompt | llm | StrOutputParser()\n",
    "# print(chain.invoke({\"topic\": \"Venice of time 1741\"}))"
   ]
  },
  {
   "cell_type": "code",
   "execution_count": 3,
   "metadata": {},
   "outputs": [],
   "source": [
    "import re\n",
    "import sys\n",
    "from io import StringIO\n",
    "import pandas as pd\n",
    "from prompts import prompt_plan, prompt_code, prompt_debug, prompt_info\n",
    "\n",
    "def read_questions(questions_path='data/matches.csv'):\n",
    "    questions = pd.read_csv(questions_path)\n",
    "    return questions\n",
    "\n",
    "def get_llm(model='llama3', repeat_penalty=1.1, temperature=0.8, top_k=40, top_p=0.9):\n",
    "    llm = ChatOllama(model=model, repeat_penalty=repeat_penalty, temperature=temperature, top_k=top_k, top_p=top_p)\n",
    "    \n",
    "    return llm\n",
    "\n",
    "def get_planner(top_k=5):\n",
    "    llm = get_llm(top_k=top_k)\n",
    "\n",
    "    planner_prompt = PromptTemplate(\n",
    "        template=prompt_plan,\n",
    "        input_variables=[\"question\", \"entities_matches\"],\n",
    "    )\n",
    "\n",
    "    planner = planner_prompt | llm | StrOutputParser()\n",
    "\n",
    "    return planner\n",
    "\n",
    "def get_debugger(top_k=5):\n",
    "    llm = get_llm(top_k=top_k)\n",
    "\n",
    "    debugger_prompt = PromptTemplate(\n",
    "        template=prompt_debug,\n",
    "        input_variables=[\"question\", \"entities_matches\", \"plan\", \"code\", \"error_message\"],\n",
    "    )\n",
    "\n",
    "    debugger = debugger_prompt | llm | StrOutputParser()\n",
    "\n",
    "    return debugger\n",
    "\n",
    "def get_info(top_k=5):\n",
    "    llm = get_llm(top_k=top_k)\n",
    "\n",
    "    info_prompt = PromptTemplate(\n",
    "        template=prompt_info,\n",
    "        input_variables=[\"question\", \"code\", \"output\"],\n",
    "    )\n",
    "\n",
    "    infoer = info_prompt | llm | StrOutputParser()\n",
    "\n",
    "    return infoer\n",
    "\n",
    "def get_coder(top_k=5):\n",
    "    llm = get_llm(top_k=top_k)\n",
    "\n",
    "    coder_prompt = PromptTemplate(\n",
    "        template=prompt_code,\n",
    "        input_variables=['answer_type', \"question\", \"entities_matches\", \"plan\"],\n",
    "    )\n",
    "\n",
    "    coder = coder_prompt | llm | StrOutputParser()\n",
    "\n",
    "    return coder\n",
    "\n",
    "def extract_python_code(text):\n",
    "    # Find all code block matches in the text\n",
    "    pattern = r'```python(.*?)```|```\\s*(.*?)```|```Python(.*?)```'\n",
    "    matches = re.findall(pattern, text, re.DOTALL)\n",
    "    \n",
    "    # Extract the code from matches\n",
    "    code_blocks = [match[0] if match[0] else match[1] for match in matches]\n",
    "    code_blocks = [code_block[len('python'):].lstrip() if code_block.lower().startswith('python') else code_block for code_block in code_blocks]\n",
    "    code = '\\n\\n'.join(code_blocks).strip()\n",
    "    \n",
    "    return code\n",
    "\n",
    "def execute_code(code):\n",
    "    global_namespace = globals().copy()\n",
    "    local_namespace = locals().copy()\n",
    "    combined_namespace = {**global_namespace, **local_namespace}\n",
    "    \n",
    "    # Redirect stdout to capture printed output\n",
    "    stdout_orig = sys.stdout\n",
    "    sys.stdout = StringIO()\n",
    "\n",
    "    try:\n",
    "        # Execute the code in the combined namespace\n",
    "        exec(code, combined_namespace)\n",
    "\n",
    "        # Get the captured output\n",
    "        output = sys.stdout.getvalue()\n",
    "        return output.strip()\n",
    "    finally:\n",
    "        # Restore stdout\n",
    "        sys.stdout = stdout_orig\n",
    "        \n",
    "def extract_content(text):\n",
    "    # Use a regular expression to find content between [[ and ]]\n",
    "    match = re.search(r'\\[\\[(.*?)\\]\\]', text)\n",
    "    if match:\n",
    "        # Return the content as a string\n",
    "        return match.group(1)\n",
    "    else:\n",
    "        # Return None if no match is found\n",
    "        return None"
   ]
  },
  {
   "cell_type": "code",
   "execution_count": 19,
   "metadata": {},
   "outputs": [
    {
     "data": {
      "text/plain": [
       "question             Which square has the highest density of tenant...\n",
       "category                                                       spatial\n",
       "answer_format                                                   entity\n",
       "n_matches                                                            1\n",
       "column_mappings      [('square', 'Landmark_Type', 3), ('tenants', '...\n",
       "in_columns                                  [True, True, False, False]\n",
       "phrase_matches       [{'square': {'dataset': 'data/landmarks.csv', ...\n",
       "references           [{'location': {'dataset': 'data/buildings_1740...\n",
       "n_matches_predict                                                    2\n",
       "code                 import pandas as pd\\nfrom math import radians,...\n",
       "plan                 Here is the step-by-step plan to answer the qu...\n",
       "output                                        campiello della malvasia\n",
       "error_message                                                      NaN\n",
       "Name: 2, dtype: object"
      ]
     },
     "execution_count": 19,
     "metadata": {},
     "output_type": "execute_result"
    }
   ],
   "source": [
    "questions = read_questions(questions_path='out/out_code_1.csv')\n",
    "questions = questions[questions['error_message'].isna()]\n",
    "\n",
    "question_sample = questions.iloc[1]\n",
    "question_sample"
   ]
  },
  {
   "cell_type": "code",
   "execution_count": 4,
   "metadata": {},
   "outputs": [],
   "source": [
    "question = \"\"\"Which square has the larges number of commercial buildings within 100 meters in the dataset in 1740?\"\"\"\n",
    "\n",
    "code = \"\"\"import pandas as pd\n",
    "import numpy as np\n",
    "from math import sin, cos, sqrt, atan2, radians\n",
    "\n",
    "# Load the datasets\n",
    "buildings_1740 = pd.read_csv('data/buildings_1740.csv')\n",
    "landmarks = pd.read_csv('data/landmarks.csv')\n",
    "\n",
    "# Step 1: Filter the buildings dataset to only include commercial buildings\n",
    "commercial_buildings = buildings_1740[buildings_1740['building_functions'].str.contains(\"calle, magazzeno\")]\n",
    "\n",
    "# Step 2: Calculate the distance from each commercial building to the nearest square\n",
    "def haversine(lat1, lon1, lat2, lon2):\n",
    "    R = 6371.0\n",
    "    dlat = radians(lat2 - lat1)\n",
    "    dlon = radians(lon2 - lon1)\n",
    "    a = sin(dlat/2)**2 + cos(radians(lat1)) * cos(radians(lat2)) * sin(dlon/2)**2\n",
    "    c = 2 * np.arctan2(sqrt(a), sqrt(1-a))\n",
    "    distance = R * c\n",
    "    return distance\n",
    "\n",
    "distances = []\n",
    "for index, row in commercial_buildings.iterrows():\n",
    "    min_distance = float('inf')\n",
    "    nearest_square_name = None\n",
    "    for index_landmark, landmark_row in landmarks.iterrows():\n",
    "        if landmark_row['landmark_type'] == 'square':\n",
    "            distance = haversine(row['latitude'], row['longitude'], landmark_row['latitude'], landmark_row['longitude'])\n",
    "            if distance < min_distance:\n",
    "                min_distance = distance\n",
    "                nearest_square_name = landmark_row['landmark_name']\n",
    "    distances.append([row['location'], min_distance, nearest_square_name])\n",
    "\n",
    "# Step 3: Filter the data to only include commercial buildings within 100 meters from a square\n",
    "commercial_buildings_within_100m = [row for row in distances if row[1] <= 0.1]\n",
    "\n",
    "# Step 4: Group and count the number of commercial buildings for each square\n",
    "square_counts = {}\n",
    "for row in commercial_buildings_within_100m:\n",
    "    if row[2] not in square_counts:\n",
    "        square_counts[row[2]] = 1\n",
    "    else:\n",
    "        square_counts[row[2]] += 1\n",
    "\n",
    "# Step 5: Identify the square with the largest number of commercial buildings\n",
    "square_with_most_commercial_buildings = max(square_counts, key=square_counts.get)\n",
    "\n",
    "print(f\"The answer is: [[{square_with_most_commercial_buildings}]]\")\"\"\"\n",
    "\n",
    "output = \"\"\"The answer is: [[campo san giacomo]]\"\"\""
   ]
  },
  {
   "cell_type": "code",
   "execution_count": 9,
   "metadata": {},
   "outputs": [
    {
     "name": "stdout",
     "output_type": "stream",
     "text": [
      "Here's the modified code to print the number of rows of the final dataset:\n",
      "\n",
      "```Python\n",
      "import pandas as pd\n",
      "import numpy as np\n",
      "from math import sin, cos, sqrt, atan2, radians\n",
      "\n",
      "# Load the datasets\n",
      "buildings_1740 = pd.read_csv('data/buildings_1740.csv')\n",
      "landmarks = pd.read_csv('data/landmarks.csv')\n",
      "\n",
      "# Step 1: Filter the buildings dataset to only include commercial buildings\n",
      "commercial_buildings = buildings_1740[buildings_1740['building_functions'].str.contains(\"calle, magazzeno\")]\n",
      "\n",
      "# Step 2: Calculate the distance from each commercial building to the nearest square\n",
      "def haversine(lat1, lon1, lat2, lon2):\n",
      "    R = 6371.0\n",
      "    dlat = radians(lat2 - lat1)\n",
      "    dlon = radians(lon2 - lon1)\n",
      "    a = sin(dlat/2)**2 + cos(radians(lat1)) * cos(radians(lat2)) * sin(dlon/2)**2\n",
      "    c = 2 * np.arctan2(sqrt(a), sqrt(1-a))\n",
      "    distance = R * c\n",
      "    return distance\n",
      "\n",
      "distances = []\n",
      "for index, row in commercial_buildings.iterrows():\n",
      "    min_distance = float('inf')\n",
      "    nearest_square_name = None\n",
      "    for index_landmark, landmark_row in landmarks.iterrows():\n",
      "        if landmark_row['landmark_type'] == 'square':\n",
      "            distance = haversine(row['latitude'], row['longitude'], landmark_row['latitude'], landmark_row['longitude'])\n",
      "            if distance < min_distance:\n",
      "                min_distance = distance\n",
      "                nearest_square_name = landmark_row['landmark_name']\n",
      "    distances.append([row['location'], min_distance, nearest_square_name])\n",
      "\n",
      "# Step 3: Filter the data to only include commercial buildings within 100 meters from a square\n",
      "commercial_buildings_within_100m = [row for row in distances if row[1] <= 0.1]\n",
      "\n",
      "# Step 4: Group and count the number of commercial buildings for each square\n",
      "square_counts = {}\n",
      "for row in commercial_buildings_within_100m:\n",
      "    if row[2] not in square_counts:\n",
      "        square_counts[row[2]] = 1\n",
      "    else:\n",
      "        square_counts[row[2]] += 1\n",
      "\n",
      "# Step 5: Identify the square with the largest number of commercial buildings\n",
      "square_with_most_commercial_buildings = max(square_counts, key=square_counts.get)\n",
      "\n",
      "print(f\"The answer is: [[{square_with_most_commercial_buildings}]]\")\n",
      "\n",
      "num_rows = len(commercial_buildings_within_100m)\n",
      "print(f\"The number of rows used is: [[{num_rows}]]\")\n",
      "```\n"
     ]
    }
   ],
   "source": [
    "infoer = get_info(top_k=1)\n",
    "\n",
    "info = infoer.invoke({\n",
    "        \"question\": question,\n",
    "        \"code\": f\"```python\\n{code}\\n```\",\n",
    "        \"output\": output\n",
    "})\n",
    "\n",
    "print(info)"
   ]
  },
  {
   "cell_type": "code",
   "execution_count": 6,
   "metadata": {},
   "outputs": [
    {
     "name": "stdout",
     "output_type": "stream",
     "text": [
      "import pandas as pd\n",
      "import numpy as np\n",
      "from math import sin, cos, sqrt, atan2, radians\n",
      "\n",
      "# Load the datasets\n",
      "buildings_1740 = pd.read_csv('data/buildings_1740.csv')\n",
      "landmarks = pd.read_csv('data/landmarks.csv')\n",
      "\n",
      "# Step 1: Filter the buildings dataset to only include commercial buildings\n",
      "commercial_buildings = buildings_1740[buildings_1740['building_functions'].str.contains(\"calle, magazzeno\")]\n",
      "\n",
      "# Step 2: Calculate the distance from each commercial building to the nearest square\n",
      "def haversine(lat1, lon1, lat2, lon2):\n",
      "    R = 6371.0\n",
      "    dlat = radians(lat2 - lat1)\n",
      "    dlon = radians(lon2 - lon1)\n",
      "    a = sin(dlat/2)**2 + cos(radians(lat1)) * cos(radians(lat2)) * sin(dlon/2)**2\n",
      "    c = 2 * np.arctan2(sqrt(a), sqrt(1-a))\n",
      "    distance = R * c\n",
      "    return distance\n",
      "\n",
      "distances = []\n",
      "for index, row in commercial_buildings.iterrows():\n",
      "    min_distance = float('inf')\n",
      "    nearest_square_name = None\n",
      "    for index_landmark, landmark_row in landmarks.iterrows():\n",
      "        if landmark_row['landmark_type'] == 'square':\n",
      "            distance = haversine(row['latitude'], row['longitude'], landmark_row['latitude'], landmark_row['longitude'])\n",
      "            if distance < min_distance:\n",
      "                min_distance = distance\n",
      "                nearest_square_name = landmark_row['landmark_name']\n",
      "    distances.append([row['location'], min_distance, nearest_square_name])\n",
      "\n",
      "# Step 3: Filter the data to only include commercial buildings within 100 meters from a square\n",
      "commercial_buildings_within_100m = [row for row in distances if row[1] <= 0.1]\n",
      "\n",
      "# Step 4: Group and count the number of commercial buildings for each square\n",
      "square_counts = {}\n",
      "for row in commercial_buildings_within_100m:\n",
      "    if row[2] not in square_counts:\n",
      "        square_counts[row[2]] = 1\n",
      "    else:\n",
      "        square_counts[row[2]] += 1\n",
      "\n",
      "# Step 5: Identify the square with the largest number of commercial buildings\n",
      "square_with_most_commercial_buildings = max(square_counts, key=square_counts.get)\n",
      "\n",
      "print(f\"The answer is: [[{square_with_most_commercial_buildings}]]\")\n",
      "\n",
      "num_rows = len(commercial_buildings)\n",
      "print(f\"The number of rows used is: [[{num_rows}]]\")\n"
     ]
    }
   ],
   "source": [
    "info_code = extract_python_code(info)\n",
    "print(info_code)"
   ]
  },
  {
   "cell_type": "code",
   "execution_count": 7,
   "metadata": {},
   "outputs": [
    {
     "name": "stdout",
     "output_type": "stream",
     "text": [
      "The answer is: [[campo san giacomo]]\n",
      "The number of rows used is: [[1]]\n",
      "--------------------\n",
      "campo san giacomo\n"
     ]
    }
   ],
   "source": [
    "import traceback\n",
    "try:\n",
    "    output = execute_code(info_code)\n",
    "    print(output)\n",
    "    print(\"-\"*20)\n",
    "    print(extract_content(output))\n",
    "except Exception:\n",
    "    error_message = traceback.format_exc()\n",
    "    print(error_message.split('exec(code, combined_namespace)')[1])"
   ]
  },
  {
   "cell_type": "code",
   "execution_count": 25,
   "metadata": {},
   "outputs": [
    {
     "data": {
      "text/plain": [
       "'1340699'"
      ]
     },
     "execution_count": 25,
     "metadata": {},
     "output_type": "execute_result"
    }
   ],
   "source": [
    "extract_content(output)"
   ]
  },
  {
   "cell_type": "code",
   "execution_count": null,
   "metadata": {},
   "outputs": [],
   "source": []
  },
  {
   "cell_type": "code",
   "execution_count": 12,
   "metadata": {},
   "outputs": [],
   "source": [
    "output = 'haha'"
   ]
  },
  {
   "cell_type": "code",
   "execution_count": 13,
   "metadata": {},
   "outputs": [
    {
     "name": "stdout",
     "output_type": "stream",
     "text": [
      "The answer is: [[campo san giacomo]]\n",
      "The number of rows used is: [[1]]\n"
     ]
    }
   ],
   "source": [
    "# code_o = output\n",
    "print(code_o)"
   ]
  },
  {
   "cell_type": "code",
   "execution_count": null,
   "metadata": {},
   "outputs": [],
   "source": []
  },
  {
   "cell_type": "code",
   "execution_count": null,
   "metadata": {},
   "outputs": [],
   "source": []
  }
 ],
 "metadata": {
  "kernelspec": {
   "display_name": "venice_env",
   "language": "python",
   "name": "python3"
  },
  "language_info": {
   "codemirror_mode": {
    "name": "ipython",
    "version": 3
   },
   "file_extension": ".py",
   "mimetype": "text/x-python",
   "name": "python",
   "nbconvert_exporter": "python",
   "pygments_lexer": "ipython3",
   "version": "3.10.4"
  }
 },
 "nbformat": 4,
 "nbformat_minor": 2
}
