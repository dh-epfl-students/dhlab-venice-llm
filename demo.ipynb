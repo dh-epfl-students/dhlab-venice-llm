{
 "cells": [
  {
   "cell_type": "code",
   "execution_count": 14,
   "metadata": {},
   "outputs": [],
   "source": [
    "import os\n",
    "import getpass\n",
    "\n",
    "api_key = getpass.getpass(\"Enter OPENAI_API_KEY: \")\n",
    "os.environ['OPENAI_API_KEY'] = api_key"
   ]
  },
  {
   "cell_type": "code",
   "execution_count": 1,
   "metadata": {},
   "outputs": [
    {
     "name": "stderr",
     "output_type": "stream",
     "text": [
      "/opt/anaconda3/envs/dhlab/lib/python3.10/site-packages/tqdm/auto.py:21: TqdmWarning: IProgress not found. Please update jupyter and ipywidgets. See https://ipywidgets.readthedocs.io/en/stable/user_install.html\n",
      "  from .autonotebook import tqdm as notebook_tqdm\n"
     ]
    },
    {
     "data": {
      "image/jpeg": "[encoded data removed]",
      "text/plain": [
       "<IPython.core.display.Image object>"
      ]
     },
     "metadata": {},
     "output_type": "display_data"
    }
   ],
   "source": [
    "from IPython.display import Image, display\n",
    "from agent import graph\n",
    "from utils.utils import extract_content\n",
    "\n",
    "# Visualize the graph\n",
    "display(Image(graph.get_graph().draw_mermaid_png()))"
   ]
  },
  {
   "cell_type": "code",
   "execution_count": 19,
   "metadata": {},
   "outputs": [
    {
     "name": "stdout",
     "output_type": "stream",
     "text": [
      "Specify all the property types that are encapsulated in the dataset.\n"
     ]
    }
   ],
   "source": [
    "import pandas as pd\n",
    "\n",
    "# Read Sample question\n",
    "questions = pd.read_csv('data/questions_sql.csv')\n",
    "sample_question = questions.iloc[0]\n",
    "\n",
    "print(sample_question['question'])"
   ]
  },
  {
   "cell_type": "code",
   "execution_count": 20,
   "metadata": {},
   "outputs": [],
   "source": [
    "from utils.utils import get_openai_llm\n",
    "\n",
    "# Initialize the OpenAI model\n",
    "llm = get_openai_llm(seed=42)"
   ]
  },
  {
   "cell_type": "code",
   "execution_count": 21,
   "metadata": {},
   "outputs": [],
   "source": [
    "# Run the graph\n",
    "final_state = graph.invoke({\n",
    "    \"llm\": llm,\n",
    "    \"question\": sample_question['question'],\n",
    "    \"answer_format\": sample_question['answer_format'],\n",
    "    \"num_steps\": 0\n",
    "})"
   ]
  },
  {
   "cell_type": "code",
   "execution_count": 22,
   "metadata": {},
   "outputs": [
    {
     "name": "stdout",
     "output_type": "stream",
     "text": [
      "*** References ***\n",
      "[{'property types': {'dataset': 'data/buildings_1740.csv', 'column': 'building_functions'}}, {'property types': {'dataset': 'data/buildings_1808.csv', 'column': 'building_functions'}}]\n",
      "\n",
      "*** Entities ***\n",
      "[]\n",
      "\n",
      "*** Plan ***\n",
      "1. **Identify the Relevant Datasets**: We need to focus on the two datasets mentioned in the references: the 1740 Buildings Dataset and the 1808 Buildings Dataset. Both datasets contain information about the functions of buildings, which we refer to as property types.\n",
      "\n",
      "2. **Extract Building Functions from 1740 Dataset**: \n",
      "   - Open the 1740 Buildings Dataset.\n",
      "   - Locate the column labeled 'building_functions'.\n",
      "   - Extract all unique values from this column to identify the different functions that buildings served in 1740.\n",
      "\n",
      "3. **Extract Building Functions from 1808 Dataset**: \n",
      "   - Open the 1808 Buildings Dataset.\n",
      "   - Locate the column labeled 'building_functions'.\n",
      "   - Extract all unique values from this column to identify the different functions that buildings served in 1808.\n",
      "\n",
      "4. **Combine the Unique Building Functions**: \n",
      "   - Create a comprehensive list of all unique property types by merging the unique values obtained from both datasets.\n",
      "   - Ensure that there are no duplicates in the combined list.\n",
      "\n",
      "5. **Format the Output**: \n",
      "   - Prepare the final list of unique property types in a clear format, as specified in the question, ensuring that it reflects all the extracted data accurately.\n",
      "\n",
      "6. **Review the Results**: \n",
      "   - Double-check the combined list for any inconsistencies or errors, ensuring that all property types are correctly represented and formatted.\n",
      "\n",
      "7. **Present the Final Answer**: \n",
      "   - Output the final list of property types clearly and concisely, ready for submission as the answer to the question posed.\n",
      "\n",
      "*** Code ***\n",
      "import pandas as pd\n",
      "\n",
      "# Step 1: Load the datasets\n",
      "buildings_1740 = pd.read_csv('data/buildings_1740.csv')\n",
      "buildings_1808 = pd.read_csv('data/buildings_1808.csv')\n",
      "\n",
      "# Step 2: Extract building functions from the 1740 dataset\n",
      "functions_1740 = set()\n",
      "for functions in buildings_1740['building_functions'].dropna():\n",
      "    functions_1740.update(functions.split(', '))\n",
      "\n",
      "# Step 3: Extract building functions from the 1808 dataset\n",
      "functions_1808 = set(buildings_1808['building_functions'].dropna().explode())\n",
      "\n",
      "# Step 4: Combine the unique building functions\n",
      "all_unique_functions = functions_1740.union(functions_1808)\n",
      "\n",
      "# Step 5: Format the output\n",
      "final_answer = list(all_unique_functions)\n",
      "\n",
      "# Step 6: Review the results (not explicitly necessary in code but ensure correctness)\n",
      "# Step 7: Present the final answer\n",
      "print(f\"The answer is: [[{', '.join(final_answer)}]]\")\n",
      "\n",
      "*** Answer ***\n",
      "\n",
      "The answer is: [[corto, forno, magazzeno, casetta, macello, corto, palazzo, bottega, casa, volta, palazzo, bottega, casa, corto, locale, casa, orto, bottega, casa, orto, stanza, appartamento, luogo, locale, osteria, bottega, casa, corto, casa, locanda, casa, corto, magazzeno, bottega, casotto, casa, corto, fabbrica, tintoria, terreno, loggia, casa, corto, portico, casa, stanza, chiesa, casotto, casa, corto, giardino, portico, casa, corto, forno, bottega, casa, corto, magazzeno, osteria, bottega, corto, locale, corto, portico, locale, teatro, bottega, locale, bottega, porta, stabile, bottega, casa, corto, fabbrica, bottega, camera, casa, luogo, teatro, casa, locale, scuola, bottega, caffe, locale, bottega, palazzo, casa, corto, squero, bottega, magazzeno, casino, fabbrica, locale, casa, corto, orto, cavana, locanda, casa, corto, magazzeno, vendivino, casa, giardino, appartamento, casa, forno, casa, loggia, casa, casetta, corto, casa, magazzeno, casa, corto, fabbrica, bottega, casa, corto, magazzeno, portico, corto, luogo, osteria, giardino, caffe, area, casa, pollaio, casa, magazzeno, vendivino, magazzeno, casa, fabbrica, andito, casa, casa, corto, osteria, portico, squero, casa, corto, locanda, appartamento, casa, volta, magazzeno, scuola, locanda, magazzeno, corto, portico, tagliapietra, casa, corto, scalla, caffe, casa, bottega, magazzeno, palazzo, ponte, bottega, volta, bottega, casa, locale, locale, magazzeno, andito, bottega, casa, corto, luogo, terazza, casa, casetta, magazzeno, orto, sottoportico, bottega, casa, locanda, casa, stalla, casa, corto, fabbrica, raffinaria, casa, tintoria, corto, casa, corto, luogo, fabbrica, fornace, casa, fabbrica, locale, casa, corto, magazzeno, osteria, casa, volta, appartamento, casa, bottega, casetta, magazzeno, teatro, magazzeno, palazzo, casa, corto, tintoria, fabrico, andito, casa, magazzeno, bottega, corto, palazzo, casa, luogo, magazzeno, raffinaria, casa, locale, tintoria, bottega, casa, forno, casa, locale, andito, corto, luogo, tagliapietra, corto, luogo, magazzeno, squero, cantiere, casa, officina, scuderia, calle, portico, area, scalla, bottega, casa, corto, magazzeno, casa, corto, palazzo, volta, scuola, casa, corto, spazio, squero, casa, spazio, calle, corto, sottoportico, casa, forno, casa, corto, corto, magazzeno, casa, osteria, bottega, stanza, ospizio, andito, scalla, fabbrica, magazzeno, osteria, appartamento, bottega, casa, camera, magazzeno, bottega, corto, magazzeno, magazzeno, stanza, appartamento, bottega, casa, corto, magazzeno, squero, casetta, corto, accesso, casa, corto, scala, bottega, corto, casa, squero, bottega, caffe, andito, magazzeno, portico, bottega, casa, luogo, bottega, luogo, casa, scalla, corto, locale, bottega, casa, magazzeno, camera, bottega, casetta, appartamento, casa, corto, bottega, casa, corto, forno, casa, corto, tagliapietra]]\n",
      "\n",
      "*** Information Score ***\n",
      "The answer is: [[corto, forno, magazzeno, casetta, macello, corto, palazzo, bottega, casa, volta, palazzo, bottega, casa, corto, locale, casa, orto, bottega, casa, orto, stanza, appartamento, luogo, locale, osteria, bottega, casa, corto, casa, locanda, casa, corto, magazzeno, bottega, casotto, casa, corto, fabbrica, tintoria, terreno, loggia, casa, corto, portico, casa, stanza, chiesa, casotto, casa, corto, giardino, portico, casa, corto, forno, bottega, casa, corto, magazzeno, osteria, bottega, corto, locale, corto, portico, locale, teatro, bottega, locale, bottega, porta, stabile, bottega, casa, corto, fabbrica, bottega, camera, casa, luogo, teatro, casa, locale, scuola, bottega, caffe, locale, bottega, palazzo, casa, corto, squero, bottega, magazzeno, casino, fabbrica, locale, casa, corto, orto, cavana, locanda, casa, corto, magazzeno, vendivino, casa, giardino, appartamento, casa, forno, casa, loggia, casa, casetta, corto, casa, magazzeno, casa, corto, fabbrica, bottega, casa, corto, magazzeno, portico, corto, luogo, osteria, giardino, caffe, area, casa, pollaio, casa, magazzeno, vendivino, magazzeno, casa, fabbrica, andito, casa, casa, corto, osteria, portico, squero, casa, corto, locanda, appartamento, casa, volta, magazzeno, scuola, locanda, magazzeno, corto, portico, tagliapietra, casa, corto, scalla, caffe, casa, bottega, magazzeno, palazzo, ponte, bottega, volta, bottega, casa, locale, locale, magazzeno, andito, bottega, casa, corto, luogo, terazza, casa, casetta, magazzeno, orto, sottoportico, bottega, casa, locanda, casa, stalla, casa, corto, fabbrica, raffinaria, casa, tintoria, corto, casa, corto, luogo, fabbrica, fornace, casa, fabbrica, locale, casa, corto, magazzeno, osteria, casa, volta, appartamento, casa, bottega, casetta, magazzeno, teatro, magazzeno, palazzo, casa, corto, tintoria, fabrico, andito, casa, magazzeno, bottega, corto, palazzo, casa, luogo, magazzeno, raffinaria, casa, locale, tintoria, bottega, casa, forno, casa, locale, andito, corto, luogo, tagliapietra, corto, luogo, magazzeno, squero, cantiere, casa, officina, scuderia, calle, portico, area, scalla, bottega, casa, corto, magazzeno, casa, corto, palazzo, volta, scuola, casa, corto, spazio, squero, casa, spazio, calle, corto, sottoportico, casa, forno, casa, corto, corto, magazzeno, casa, osteria, bottega, stanza, ospizio, andito, scalla, fabbrica, magazzeno, osteria, appartamento, bottega, casa, camera, magazzeno, bottega, corto, magazzeno, magazzeno, stanza, appartamento, bottega, casa, corto, magazzeno, squero, casetta, corto, accesso, casa, corto, scala, bottega, corto, casa, squero, bottega, caffe, andito, magazzeno, portico, bottega, casa, luogo, bottega, luogo, casa, scalla, corto, locale, bottega, casa, magazzeno, camera, bottega, casetta, appartamento, casa, corto, bottega, casa, corto, forno, casa, corto, tagliapietra]]\n",
      "The number of rows used is: [[35397]]\n",
      "\n"
     ]
    }
   ],
   "source": [
    "print('*** References ***')\n",
    "print(final_state['references'], end='\\n\\n')\n",
    "\n",
    "print('*** Entities ***')\n",
    "print(final_state['entities'], end='\\n\\n')\n",
    "\n",
    "print('*** Plan ***')\n",
    "print(final_state['plan'], end='\\n\\n')\n",
    "\n",
    "print('*** Code ***')\n",
    "print(final_state['code'], end='\\n\\n')\n",
    "\n",
    "print('*** Answer ***', end='\\n\\n')\n",
    "print(final_state['code_output'], end='\\n\\n')\n",
    "\n",
    "print('*** Information Score ***')\n",
    "print(final_state['num_rows'], end='\\n\\n')"
   ]
  },
  {
   "cell_type": "code",
   "execution_count": 23,
   "metadata": {},
   "outputs": [
    {
     "name": "stdout",
     "output_type": "stream",
     "text": [
      "Answer:  corto, forno, magazzeno, casetta, macello, corto, palazzo, bottega, casa, volta, palazzo, bottega, casa, corto, locale, casa, orto, bottega, casa, orto, stanza, appartamento, luogo, locale, osteria, bottega, casa, corto, casa, locanda, casa, corto, magazzeno, bottega, casotto, casa, corto, fabbrica, tintoria, terreno, loggia, casa, corto, portico, casa, stanza, chiesa, casotto, casa, corto, giardino, portico, casa, corto, forno, bottega, casa, corto, magazzeno, osteria, bottega, corto, locale, corto, portico, locale, teatro, bottega, locale, bottega, porta, stabile, bottega, casa, corto, fabbrica, bottega, camera, casa, luogo, teatro, casa, locale, scuola, bottega, caffe, locale, bottega, palazzo, casa, corto, squero, bottega, magazzeno, casino, fabbrica, locale, casa, corto, orto, cavana, locanda, casa, corto, magazzeno, vendivino, casa, giardino, appartamento, casa, forno, casa, loggia, casa, casetta, corto, casa, magazzeno, casa, corto, fabbrica, bottega, casa, corto, magazzeno, portico, corto, luogo, osteria, giardino, caffe, area, casa, pollaio, casa, magazzeno, vendivino, magazzeno, casa, fabbrica, andito, casa, casa, corto, osteria, portico, squero, casa, corto, locanda, appartamento, casa, volta, magazzeno, scuola, locanda, magazzeno, corto, portico, tagliapietra, casa, corto, scalla, caffe, casa, bottega, magazzeno, palazzo, ponte, bottega, volta, bottega, casa, locale, locale, magazzeno, andito, bottega, casa, corto, luogo, terazza, casa, casetta, magazzeno, orto, sottoportico, bottega, casa, locanda, casa, stalla, casa, corto, fabbrica, raffinaria, casa, tintoria, corto, casa, corto, luogo, fabbrica, fornace, casa, fabbrica, locale, casa, corto, magazzeno, osteria, casa, volta, appartamento, casa, bottega, casetta, magazzeno, teatro, magazzeno, palazzo, casa, corto, tintoria, fabrico, andito, casa, magazzeno, bottega, corto, palazzo, casa, luogo, magazzeno, raffinaria, casa, locale, tintoria, bottega, casa, forno, casa, locale, andito, corto, luogo, tagliapietra, corto, luogo, magazzeno, squero, cantiere, casa, officina, scuderia, calle, portico, area, scalla, bottega, casa, corto, magazzeno, casa, corto, palazzo, volta, scuola, casa, corto, spazio, squero, casa, spazio, calle, corto, sottoportico, casa, forno, casa, corto, corto, magazzeno, casa, osteria, bottega, stanza, ospizio, andito, scalla, fabbrica, magazzeno, osteria, appartamento, bottega, casa, camera, magazzeno, bottega, corto, magazzeno, magazzeno, stanza, appartamento, bottega, casa, corto, magazzeno, squero, casetta, corto, accesso, casa, corto, scala, bottega, corto, casa, squero, bottega, caffe, andito, magazzeno, portico, bottega, casa, luogo, bottega, luogo, casa, scalla, corto, locale, bottega, casa, magazzeno, camera, bottega, casetta, appartamento, casa, corto, bottega, casa, corto, forno, casa, corto, tagliapietra\n",
      "Information Score:  35397\n"
     ]
    }
   ],
   "source": [
    "print(\"Answer: \", extract_content(final_state['code_output']))\n",
    "print(\"Information Score: \", extract_content(final_state['num_rows']))"
   ]
  }
 ],
 "metadata": {
  "kernelspec": {
   "display_name": "dhlab",
   "language": "python",
   "name": "python3"
  },
  "language_info": {
   "codemirror_mode": {
    "name": "ipython",
    "version": 3
   },
   "file_extension": ".py",
   "mimetype": "text/x-python",
   "name": "python",
   "nbconvert_exporter": "python",
   "pygments_lexer": "ipython3",
   "version": "3.10.16"
  }
 },
 "nbformat": 4,
 "nbformat_minor": 2
}
