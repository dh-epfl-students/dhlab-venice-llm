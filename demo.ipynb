{
 "cells": [
  {
   "cell_type": "code",
   "execution_count": 1,
   "metadata": {},
   "outputs": [],
   "source": [
    "import os\n",
    "import getpass\n",
    "\n",
    "api_key = getpass.getpass(\"Enter OPENAI_API_KEY: \")\n",
    "os.environ['OPENAI_API_KEY'] = api_key"
   ]
  },
  {
   "cell_type": "code",
   "execution_count": 2,
   "metadata": {},
   "outputs": [
    {
     "data": {
      "image/jpeg": "[encoded data removed]",
      "text/plain": [
       "<IPython.core.display.Image object>"
      ]
     },
     "metadata": {},
     "output_type": "display_data"
    }
   ],
   "source": [
    "from IPython.display import Image, display\n",
    "from agent import graph\n",
    "from utils.utils import extract_content\n",
    "\n",
    "# Visualize the graph\n",
    "display(Image(graph.get_graph().draw_mermaid_png()))"
   ]
  },
  {
   "cell_type": "code",
   "execution_count": 3,
   "metadata": {},
   "outputs": [
    {
     "name": "stdout",
     "output_type": "stream",
     "text": [
      "On average, how much more expensive are schools near the squares within 100 meters compared to those further away in 1740?\n"
     ]
    }
   ],
   "source": [
    "import pandas as pd\n",
    "\n",
    "# Read Sample question\n",
    "questions = pd.read_csv('data/questions.csv')\n",
    "sample_question = questions.iloc[20]\n",
    "\n",
    "print(sample_question['question'])"
   ]
  },
  {
   "cell_type": "code",
   "execution_count": 4,
   "metadata": {},
   "outputs": [],
   "source": [
    "from utils.utils import get_openai_llm\n",
    "\n",
    "# Initialize the OpenAI model\n",
    "llm = get_openai_llm(seed=42)"
   ]
  },
  {
   "cell_type": "code",
   "execution_count": 5,
   "metadata": {},
   "outputs": [
    {
     "name": "stderr",
     "output_type": "stream",
     "text": [
      "/scratch/students/saydalie/.conda/envs/venice_env/lib/python3.10/site-packages/transformers/tokenization_utils_base.py:1601: FutureWarning: `clean_up_tokenization_spaces` was not set. It will be set to `True` by default. This behavior will be depracted in transformers v4.45, and will be then set to `False` by default. For more details check this issue: https://github.com/huggingface/transformers/issues/31884\n",
      "  warnings.warn(\n"
     ]
    }
   ],
   "source": [
    "# Run the graph\n",
    "final_state = graph.invoke({\n",
    "    \"llm\": llm,\n",
    "    \"question\": sample_question['question'],\n",
    "    \"answer_format\": sample_question['answer_format'],\n",
    "    \"num_steps\": 0\n",
    "})"
   ]
  },
  {
   "cell_type": "code",
   "execution_count": 6,
   "metadata": {},
   "outputs": [
    {
     "name": "stdout",
     "output_type": "stream",
     "text": [
      "*** References ***\n",
      "[{'expensive': {'dataset': 'data/buildings_1740.csv', 'column': 'rent_price'}}]\n",
      "\n",
      "*** Entities ***\n",
      "[{'schools': {'dataset': 'data/buildings_1740.csv', 'column': 'building_functions', 'matches': ['scuola']}}, {'squares': {'dataset': 'data/landmarks.csv', 'column': 'landmark_type', 'matches': ['square']}}]\n",
      "\n",
      "*** Plan ***\n",
      "1. **Load the Datasets**: Begin by loading the three datasets: the 1740 Buildings Dataset, the 1808 Buildings Dataset, and the Landmarks Dataset into a suitable data analysis environment (e.g., a pandas DataFrame in Python).\n",
      "\n",
      "2. **Filter for Schools**: From the 1740 Buildings Dataset, filter the rows where the `building_functions` column contains the term \"scuola\". This will give us a subset of the dataset that includes only the buildings serving as schools.\n",
      "\n",
      "3. **Identify Squares**: From the Landmarks Dataset, filter for rows where the `landmark_type` is \"square\". This will provide a list of all squares in Venice.\n",
      "\n",
      "4. **Calculate Proximity to Squares**: For each square identified in the previous step, calculate the distance between each school (from the filtered schools dataset) and the squares. This can be done using the Haversine formula or a similar method to compute the distance based on the latitude and longitude.\n",
      "\n",
      "5. **Categorize Schools by Proximity**: Create two categories for the schools:\n",
      "   - **Near Squares**: Schools that are within 100 meters of any square.\n",
      "   - **Far from Squares**: Schools that are more than 100 meters away from any square.\n",
      "\n",
      "6. **Calculate Average Rent Prices**: For both categories of schools, calculate the average `rent_price` from the 1740 Buildings Dataset. This will require aggregating the rent prices for schools near squares and the rent prices for schools further away.\n",
      "\n",
      "7. **Determine Price Difference**: Subtract the average rent price of schools further away from the average rent price of schools near squares. This will give the average price difference between the two categories.\n",
      "\n",
      "8. **Output the Result**: The final step is to present the calculated average price difference as a single numerical value, which represents how much more expensive schools near the squares are compared to those further away.\n",
      "\n",
      "By following these steps, the analysis will yield the desired information regarding the rental prices of schools in relation to their proximity to squares in Venice in 1740.\n",
      "\n",
      "*** Code ***\n",
      "import pandas as pd\n",
      "import numpy as np\n",
      "\n",
      "# Step 1: Load the Datasets\n",
      "buildings_1740 = pd.read_csv('data/buildings_1740.csv')\n",
      "landmarks = pd.read_csv('data/landmarks.csv')\n",
      "\n",
      "# Step 2: Filter for Schools\n",
      "schools = buildings_1740[buildings_1740['building_functions'].str.contains('scuola', na=False)]\n",
      "\n",
      "# Step 3: Identify Squares\n",
      "squares = landmarks[landmarks['landmark_type'] == 'square']\n",
      "\n",
      "# Step 4: Calculate Proximity to Squares\n",
      "def haversine(lon1, lat1, lon2, lat2):\n",
      "    R = 6371000  # Radius of the Earth in meters\n",
      "    phi1 = np.radians(lat1)\n",
      "    phi2 = np.radians(lat2)\n",
      "    delta_phi = np.radians(lat2 - lat1)\n",
      "    delta_lambda = np.radians(lon2 - lon1)\n",
      "    \n",
      "    a = np.sin(delta_phi / 2)**2 + np.cos(phi1) * np.cos(phi2) * np.sin(delta_lambda / 2)**2\n",
      "    c = 2 * np.arctan2(np.sqrt(a), np.sqrt(1 - a))\n",
      "    return R * c\n",
      "\n",
      "# Step 5: Categorize Schools by Proximity\n",
      "def categorize_schools(schools, squares):\n",
      "    near_squares = []\n",
      "    far_squares = []\n",
      "\n",
      "    for _, school in schools.iterrows():\n",
      "        school_coord = (school['longitude'], school['latitude'])\n",
      "        distances = squares.apply(lambda square: haversine(school['longitude'], school['latitude'], square['longitude'], square['latitude']), axis=1)\n",
      "        \n",
      "        if (distances < 100).any():\n",
      "            near_squares.append(school)\n",
      "        else:\n",
      "            far_squares.append(school)\n",
      "\n",
      "    return pd.DataFrame(near_squares), pd.DataFrame(far_squares)\n",
      "\n",
      "near_schools, far_schools = categorize_schools(schools, squares)\n",
      "\n",
      "# Step 6: Calculate Average Rent Prices\n",
      "average_rent_near = near_schools['rent_price'].mean() if not near_schools.empty else 0\n",
      "average_rent_far = far_schools['rent_price'].mean() if not far_schools.empty else 0\n",
      "\n",
      "# Step 7: Determine Price Difference\n",
      "price_difference = average_rent_near - average_rent_far\n",
      "\n",
      "# Step 8: Output the Result\n",
      "print(f\"The answer is: [[{price_difference}]]\")\n",
      "\n",
      "*** Answer ***\n",
      "\n",
      "The answer is: [[-62.5]]\n",
      "\n",
      "*** Information Score ***\n",
      "The answer is: [[-62.5]]\n",
      "The number of rows used is: [[4]]\n",
      "\n"
     ]
    }
   ],
   "source": [
    "print('*** References ***')\n",
    "print(final_state['references'], end='\\n\\n')\n",
    "\n",
    "print('*** Entities ***')\n",
    "print(final_state['entities'], end='\\n\\n')\n",
    "\n",
    "print('*** Plan ***')\n",
    "print(final_state['plan'], end='\\n\\n')\n",
    "\n",
    "print('*** Code ***')\n",
    "print(final_state['code'], end='\\n\\n')\n",
    "\n",
    "print('*** Answer ***', end='\\n\\n')\n",
    "print(final_state['code_output'], end='\\n\\n')\n",
    "\n",
    "print('*** Information Score ***')\n",
    "print(final_state['num_rows'], end='\\n\\n')"
   ]
  },
  {
   "cell_type": "code",
   "execution_count": 8,
   "metadata": {},
   "outputs": [
    {
     "name": "stdout",
     "output_type": "stream",
     "text": [
      "Answer:  -62.5\n",
      "Information Score:  4\n"
     ]
    }
   ],
   "source": [
    "print(\"Answer: \", extract_content(final_state['code_output']))\n",
    "print(\"Information Score: \", extract_content(final_state['num_rows']))"
   ]
  },
  {
   "cell_type": "code",
   "execution_count": null,
   "metadata": {},
   "outputs": [],
   "source": []
  }
 ],
 "metadata": {
  "kernelspec": {
   "display_name": "venice_env",
   "language": "python",
   "name": "python3"
  },
  "language_info": {
   "codemirror_mode": {
    "name": "ipython",
    "version": 3
   },
   "file_extension": ".py",
   "mimetype": "text/x-python",
   "name": "python",
   "nbconvert_exporter": "python",
   "pygments_lexer": "ipython3",
   "version": "3.10.4"
  }
 },
 "nbformat": 4,
 "nbformat_minor": 2
}
